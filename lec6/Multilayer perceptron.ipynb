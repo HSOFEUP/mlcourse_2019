{
 "cells": [
  {
   "cell_type": "markdown",
   "metadata": {},
   "source": [
    "# Classification on MNIST using the MultiLayer Perceptron (MLP)"
   ]
  },
  {
   "cell_type": "code",
   "execution_count": 2,
   "metadata": {},
   "outputs": [
    {
     "name": "stderr",
     "output_type": "stream",
     "text": [
      "Using TensorFlow backend.\n",
      "/anaconda3/lib/python3.7/importlib/_bootstrap.py:219: RuntimeWarning: compiletime version 3.6 of module 'tensorflow.python.framework.fast_tensor_util' does not match runtime version 3.7\n",
      "  return f(*args, **kwds)\n"
     ]
    }
   ],
   "source": [
    "import numpy as np\n",
    "import matplotlib.pyplot as plt\n",
    "import keras\n",
    "from keras.datasets import mnist\n",
    "from keras.models import Sequential\n",
    "from keras.layers import Dense\n",
    "from keras.optimizers import RMSprop\n",
    "%matplotlib inline"
   ]
  },
  {
   "cell_type": "markdown",
   "metadata": {},
   "source": [
    "We start by loading the MNIST data. Differently from before, we are not going to use scikitlearn to do that, but instead the Keras library. That's because we are going to move from \"classic\" methods to so-called *deep learning*, i.e. machine learning using deep neural networks.\n",
    "\n",
    "Keras is built on top of Tensorflow, a framework for deep learning developed by Google which is probably the one most used by practitioners (PyTorch, developed at Facebook, is an alternative that has been gaining traction)."
   ]
  },
  {
   "cell_type": "code",
   "execution_count": 3,
   "metadata": {
    "scrolled": false
   },
   "outputs": [
    {
     "name": "stdout",
     "output_type": "stream",
     "text": [
      "Downloading data from https://s3.amazonaws.com/img-datasets/mnist.npz\n",
      "11493376/11490434 [==============================] - 18s 2us/step\n",
      "no. of training/test samples: 60000, 10000\n",
      "no. of features: 784\n"
     ]
    },
    {
     "data": {
      "image/png": "[encoded data removed]",
      "text/plain": [
       "<Figure size 432x288 with 4 Axes>"
      ]
     },
     "metadata": {
      "needs_background": "light"
     },
     "output_type": "display_data"
    }
   ],
   "source": [
    "# Download the data, shuffled and split between train and test sets\n",
    "(X_train, y_train), (X_test, y_test) = mnist.load_data()\n",
    "print(\"no. of training/test samples: %d, %d\" % (X_train.shape[0], X_test.shape[0]))\n",
    "print(\"no. of features: %d\" % (np.product(X_train.shape[1:])))\n",
    "\n",
    "# Let us look at some of the digits\n",
    "fig, axs = plt.subplots(2, 2)\n",
    "for d in range(4):\n",
    "    axs[d % 2, d // 2].imshow(X_train[d], cmap=\"gray\")\n",
    "    axs[d % 2, d // 2].set_title(\"correct label: %d\" % (y_train[d]))\n",
    "fig.tight_layout()"
   ]
  },
  {
   "cell_type": "markdown",
   "metadata": {},
   "source": [
    "Note that Keras loads MNIST in a slightly different way than scikitlearn: the data is already shuffled and split in training/test sets; moreover, each sample is a 2D array of dimension 28x28, instead of a 1D array of dimension 784.\n",
    "\n",
    "We proceed by doing some preprocessing. We will *rasterize* these vectors, i.e. transform them from two-dimensional to one-dimensional arrays; moreover, we will normalize them, so that each component of the array is valued between 0 and 1, instead of 0 and 255."
   ]
  },
  {
   "cell_type": "code",
   "execution_count": 4,
   "metadata": {},
   "outputs": [
    {
     "name": "stdout",
     "output_type": "stream",
     "text": [
      "The categories of the images above is now encoded as: \n",
      " [[0. 0. 0. 0. 0. 1. 0. 0. 0. 0.]\n",
      " [1. 0. 0. 0. 0. 0. 0. 0. 0. 0.]\n",
      " [0. 0. 0. 0. 1. 0. 0. 0. 0. 0.]\n",
      " [0. 1. 0. 0. 0. 0. 0. 0. 0. 0.]]\n"
     ]
    }
   ],
   "source": [
    "# Rasterize and normalize samples\n",
    "X_train = X_train.reshape(X_train.shape[0], -1)\n",
    "X_test = X_test.reshape(X_test.shape[0], -1)\n",
    "\n",
    "X_train = X_train / 255\n",
    "X_test = X_test / 255\n",
    "\n",
    "# Use 32-bit instead of 64-bit float\n",
    "X_train = X_train.astype(\"float32\")\n",
    "X_test = X_test.astype(\"float32\")\n",
    "\n",
    "# Work with one-hot encoding of labels\n",
    "n_classes = len(np.unique(y_train))\n",
    "y_train_b = keras.utils.to_categorical(y_train, n_classes)\n",
    "y_test_b = keras.utils.to_categorical(y_test, n_classes)\n",
    "\n",
    "print(\"The categories of the images above is now encoded as: \\n\", y_train_b[0:4])"
   ]
  },
  {
   "cell_type": "markdown",
   "metadata": {},
   "source": [
    "It is now time to build our multi-layer neural network. First we shall do it with a single hidden layer.\n",
    "\n",
    "In the code below we can see how it's easy to set up models in Keras. With just a few lines we have built a 2-layer neural network, and generalizing from this to more layers is quite simple."
   ]
  },
  {
   "cell_type": "code",
   "execution_count": 5,
   "metadata": {
    "scrolled": false
   },
   "outputs": [
    {
     "name": "stdout",
     "output_type": "stream",
     "text": [
      "_________________________________________________________________\n",
      "Layer (type)                 Output Shape              Param #   \n",
      "=================================================================\n",
      "dense_1 (Dense)              (None, 512)               401920    \n",
      "_________________________________________________________________\n",
      "dense_2 (Dense)              (None, 10)                5130      \n",
      "=================================================================\n",
      "Total params: 407,050\n",
      "Trainable params: 407,050\n",
      "Non-trainable params: 0\n",
      "_________________________________________________________________\n"
     ]
    }
   ],
   "source": [
    "# Specify model\n",
    "model = Sequential()\n",
    "model.add(Dense(512, activation=\"relu\", input_shape=(784,)))\n",
    "model.add(Dense(n_classes, activation=\"softmax\"))\n",
    "\n",
    "# Print model and compile it\n",
    "model.summary()\n",
    "model.compile(loss=\"categorical_crossentropy\",\n",
    "              optimizer=RMSprop(),\n",
    "              metrics=[\"accuracy\"])"
   ]
  },
  {
   "cell_type": "markdown",
   "metadata": {},
   "source": [
    "Note that the first dense layer has $784\\times 512 + 512$ parameters, the second has $512 \\times 10 + 10$. They correspond to the weights, plus a bias applied to each output.\n",
    "We compile the model using the categorical cross entropy loss, and the RMSprop algorithm for optimization, described [here](http://ruder.io/optimizing-gradient-descent/index.html#rmsprop) together with other variants of gradient descent.\n",
    "\n",
    "After setting up the model, we can train it just like we do in scikitlearn: by doing `model.fit(X_train, y_train)`."
   ]
  },
  {
   "cell_type": "code",
   "execution_count": null,
   "metadata": {
    "scrolled": false
   },
   "outputs": [
    {
     "name": "stdout",
     "output_type": "stream",
     "text": [
      "Train on 60000 samples, validate on 10000 samples\n",
      "Epoch 1/20\n",
      "60000/60000 [==============================] - 4s 74us/step - loss: 0.2600 - acc: 0.9250 - val_loss: 0.1614 - val_acc: 0.9485\n",
      "Epoch 2/20\n",
      "60000/60000 [==============================] - 4s 60us/step - loss: 0.1085 - acc: 0.9679 - val_loss: 0.1048 - val_acc: 0.9672\n",
      "Epoch 3/20\n",
      "60000/60000 [==============================] - 4s 61us/step - loss: 0.0717 - acc: 0.9792 - val_loss: 0.0925 - val_acc: 0.9715\n",
      "Epoch 4/20\n",
      "60000/60000 [==============================] - 4s 62us/step - loss: 0.0515 - acc: 0.9853 - val_loss: 0.0844 - val_acc: 0.9741\n",
      "Epoch 5/20\n",
      "60000/60000 [==============================] - 4s 64us/step - loss: 0.0379 - acc: 0.9899 - val_loss: 0.0850 - val_acc: 0.9752\n",
      "Epoch 6/20\n",
      "60000/60000 [==============================] - 4s 62us/step - loss: 0.0279 - acc: 0.9927 - val_loss: 0.0812 - val_acc: 0.9778\n",
      "Epoch 7/20\n",
      "60000/60000 [==============================] - 4s 62us/step - loss: 0.0204 - acc: 0.9949 - val_loss: 0.0824 - val_acc: 0.9782\n",
      "Epoch 8/20\n",
      "60000/60000 [==============================] - 4s 65us/step - loss: 0.0152 - acc: 0.9963 - val_loss: 0.0846 - val_acc: 0.9779\n",
      "Epoch 9/20\n",
      "60000/60000 [==============================] - 4s 68us/step - loss: 0.0111 - acc: 0.9975 - val_loss: 0.0871 - val_acc: 0.9784\n",
      "Epoch 10/20\n",
      "60000/60000 [==============================] - 4s 62us/step - loss: 0.0083 - acc: 0.9981 - val_loss: 0.0915 - val_acc: 0.9778\n",
      "Epoch 11/20\n",
      "60000/60000 [==============================] - 4s 68us/step - loss: 0.0062 - acc: 0.9988 - val_loss: 0.0889 - val_acc: 0.9801\n",
      "Epoch 12/20\n",
      "60000/60000 [==============================] - 4s 62us/step - loss: 0.0050 - acc: 0.9987 - val_loss: 0.0861 - val_acc: 0.9810\n",
      "Epoch 13/20\n",
      "60000/60000 [==============================] - 4s 62us/step - loss: 0.0038 - acc: 0.9991 - val_loss: 0.1005 - val_acc: 0.9779\n",
      "Epoch 14/20\n",
      "17920/60000 [=======>......................] - ETA: 3s - loss: 0.0028 - acc: 0.9994"
     ]
    }
   ],
   "source": [
    "# Parameters\n",
    "batch_size = 128\n",
    "epochs = 20\n",
    "\n",
    "# Perform fit\n",
    "history = model.fit(X_train, y_train_b,\n",
    "                    batch_size=batch_size,\n",
    "                    epochs=epochs,\n",
    "                    verbose=1,\n",
    "                    shuffle=False,\n",
    "                    validation_data=(X_test, y_test_b))\n",
    "\n",
    "\n",
    "# Print results\n",
    "score = model.evaluate(X_test, y_test_b, verbose=0)\n",
    "print('Test loss/accuracy: %g, %g' % (score[0], score[1]))"
   ]
  },
  {
   "cell_type": "code",
   "execution_count": null,
   "metadata": {},
   "outputs": [],
   "source": [
    "plt.figure(figsize=(15, 5)) \n",
    "# Plot history for accuracy\n",
    "plt.subplot(121)\n",
    "plt.plot(history.history['acc'])\n",
    "plt.plot(history.history['val_acc'])\n",
    "plt.title('model accuracy -- MLP')\n",
    "plt.ylabel('accuracy')\n",
    "plt.xlabel('epoch')\n",
    "plt.legend(['train', 'test'], loc='upper left')\n",
    "# summarize history for loss\n",
    "plt.subplot(122)\n",
    "plt.plot(history.history['loss'])\n",
    "plt.plot(history.history['val_loss'])\n",
    "plt.title('model loss -- MLP')\n",
    "plt.ylabel('loss')\n",
    "plt.xlabel('epoch')\n",
    "plt.legend(['train', 'test'], loc='upper left')\n",
    "plt.tight_layout()"
   ]
  },
  {
   "cell_type": "markdown",
   "metadata": {},
   "source": [
    "This is actually pretty good, an accuracy of 2% was the state of the art for a long time (check it [here](http://yann.lecun.com/exdb/mnist/)). \n",
    "\n",
    "Just out of curiosity, [here](http://rodrigob.github.io/are_we_there_yet/build/classification_datasets_results.html) is a detailed list of the best results people have been able to obtain on MNIST. The smallest test error achieved so far is of 0.21%, i.e. only 21 of the 10000 test samples are not classified correctly!"
   ]
  },
  {
   "cell_type": "markdown",
   "metadata": {
    "collapsed": true
   },
   "source": [
    "## Playing a bit with our MLP"
   ]
  },
  {
   "cell_type": "markdown",
   "metadata": {},
   "source": [
    "There are many degrees of freedom both in our model and in the training procedure, that have been chosen more or less arbitrarily. For instance, why do we use these values for `batch_size` and `epochs`? Why do we use a ReLU activation on the 1st layer, and a softmax activation on the second? Why do we use this loss, this optimizer etc.\n",
    "\n",
    "This is one of the main problem with deep learning: it is not clear in principle what approach is going to give the best result, and there are *many* possible approaches. So we just need to try many things and see what happens. \n",
    "\n",
    "We can do cross-validation, but the possibilities are so many that trying everything is just not feasible. So we need to develop a gut feeling on what's more appropriate for each situation -- sometimes theory can guide us, sometimes it can't.\n",
    "\n",
    "We will now see how things change if we add dropout and batch normalization, take a more shallow network, or add a second layer. It seems however to be difficult to improve too much on the 2% performance with this approach."
   ]
  },
  {
   "cell_type": "markdown",
   "metadata": {},
   "source": [
    "### Adding dropout and batch normalization"
   ]
  },
  {
   "cell_type": "markdown",
   "metadata": {},
   "source": [
    "Looking at the numbers printed on screen during training, we can see that our model was actually overfitting a lot: we get essentially 100% accuracy on the training set!\n",
    "\n",
    "There are some tricks that have been introduced in order to handle this overfitting. The first one of them is called *dropout* (introduced [here](https://www.cs.toronto.edu/~hinton/absps/JMLRdropout.pdf)), and consists in, at each step of the training procedure, ignoring some of the features. This is more or less what we did when we looked at random forests: each of the trees in the forest worked with a subset of the features. So we can see dropout as a sort of bagging procedure which makes the model more robust. The difference is that dropout can be applied to each layer, not only to the first input layer.\n",
    "\n",
    "The other trick is *batch normalization*, which consists in taking each sample in a mini-batch and standardizing it using the *mini-batch* mean and variance, see [here](https://arxiv.org/pdf/1502.03167.pdf) for details.\n",
    "\n",
    "These tricks have been introduced mostly in a ad-hoc way -- people have some explanations on why they work, and have tried to do some theory about it, but in the end we still don't fully understand why and when they work (see [Ali Rahimi's provocative talk](https://www.youtube.com/watch?v=Qi1Yry33TQE))."
   ]
  },
  {
   "cell_type": "code",
   "execution_count": null,
   "metadata": {
    "scrolled": true
   },
   "outputs": [],
   "source": [
    "from keras.layers import Dropout, BatchNormalization, Activation\n",
    "\n",
    "# Parameters\n",
    "batch_size = 128\n",
    "epochs = 20\n",
    "\n",
    "# Specify model\n",
    "model = Sequential()\n",
    "\n",
    "model.add(Dense(512, input_dim=784, init=\"uniform\"))\n",
    "model.add(BatchNormalization())\n",
    "model.add(Activation(\"relu\"))\n",
    "model.add(Dropout(0.2))\n",
    "\n",
    "model.add(Dense(n_classes, init=\"uniform\"))\n",
    "model.add(BatchNormalization())\n",
    "model.add(Activation(\"softmax\"))\n",
    "\n",
    "# Print model and compile it\n",
    "model.summary()\n",
    "model.compile(loss=\"categorical_crossentropy\",\n",
    "              optimizer=RMSprop(),\n",
    "              metrics=[\"accuracy\"])\n",
    "\n",
    "# Perform fit\n",
    "history_dropout = model.fit(X_train, y_train_b,\n",
    "                    batch_size=batch_size,\n",
    "                    epochs=epochs,\n",
    "                    verbose=1,\n",
    "                    validation_data=(X_test, y_test_b))\n",
    "\n",
    "\n",
    "# Print results\n",
    "score = model.evaluate(X_test, y_test_b, verbose=0)\n",
    "print('Test loss/accuracy: %g, %g' % (score[0], score[1]))"
   ]
  },
  {
   "cell_type": "code",
   "execution_count": null,
   "metadata": {},
   "outputs": [],
   "source": [
    "plt.figure(figsize=(15, 5)) \n",
    "# Plot history for accuracy\n",
    "plt.subplot(121)\n",
    "plt.plot(history_dropout.history['acc'])\n",
    "plt.plot(history_dropout.history['val_acc'])\n",
    "plt.title('model accuracy -- MLP with dropout and BN')\n",
    "plt.ylabel('accuracy')\n",
    "plt.xlabel('epoch')\n",
    "plt.legend(['train', 'test'], loc='upper left')\n",
    "# summarize history for loss\n",
    "plt.subplot(122)\n",
    "plt.plot(history_dropout.history['loss'])\n",
    "plt.plot(history_dropout.history['val_loss'])\n",
    "plt.title('model loss -- MLP with dropout and BN')\n",
    "plt.ylabel('loss')\n",
    "plt.xlabel('epoch')\n",
    "plt.legend(['train', 'test'], loc='upper left')\n",
    "plt.tight_layout()"
   ]
  },
  {
   "cell_type": "markdown",
   "metadata": {},
   "source": [
    "### Trying other optimizers"
   ]
  },
  {
   "cell_type": "markdown",
   "metadata": {},
   "source": [
    "We are using an optimizer known as RMSprop, which consists in a gradient descent with some extra terms involved. There are however other possibilities. Another optimizer based on gradient descent, Adam, has recently been introduced, and was shown to lead to very good results in practice.\n",
    "\n",
    "Nice comparisons of different optimizers are available [here](http://ruder.io/optimizing-gradient-descent/) and [here](https://3dbabove.com/2017/11/14/optimizationalgorithms/)."
   ]
  },
  {
   "cell_type": "code",
   "execution_count": null,
   "metadata": {
    "scrolled": true
   },
   "outputs": [],
   "source": [
    "from keras.optimizers import adam\n",
    "\n",
    "# Parameters\n",
    "batch_size = 128\n",
    "epochs = 20\n",
    "\n",
    "# Specify model\n",
    "model = Sequential()\n",
    "\n",
    "model.add(Dense(512, input_dim=784, init=\"uniform\"))\n",
    "model.add(BatchNormalization())\n",
    "model.add(Activation(\"relu\"))\n",
    "model.add(Dropout(0.2))\n",
    "\n",
    "model.add(Dense(n_classes, init=\"uniform\"))\n",
    "model.add(BatchNormalization())\n",
    "model.add(Activation(\"softmax\"))\n",
    "\n",
    "# Print model and compile it\n",
    "model.summary()\n",
    "model.compile(loss=\"categorical_crossentropy\",\n",
    "              optimizer=adam(),\n",
    "              metrics=[\"accuracy\"])\n",
    "\n",
    "# Perform fit\n",
    "history_adam = model.fit(X_train, y_train_b,\n",
    "                    batch_size=batch_size,\n",
    "                    epochs=epochs,\n",
    "                    verbose=1,\n",
    "                    validation_data=(X_test, y_test_b))\n",
    "\n",
    "\n",
    "# Print results\n",
    "score = model.evaluate(X_test, y_test_b, verbose=0)\n",
    "print('Test loss/accuracy: %g, %g' % (score[0], score[1]))"
   ]
  },
  {
   "cell_type": "code",
   "execution_count": null,
   "metadata": {},
   "outputs": [],
   "source": [
    "plt.figure(figsize=(15, 5)) \n",
    "# Plot history for accuracy\n",
    "plt.subplot(121)\n",
    "plt.plot(history_adam.history['acc'])\n",
    "plt.plot(history_adam.history['val_acc'])\n",
    "plt.title('model accuracy -- MLP using Adam')\n",
    "plt.ylabel('accuracy')\n",
    "plt.xlabel('epoch')\n",
    "plt.legend(['train', 'test'], loc='upper left')\n",
    "# summarize history for loss\n",
    "plt.subplot(122)\n",
    "plt.plot(history_adam.history['loss'])\n",
    "plt.plot(history_adam.history['val_loss'])\n",
    "plt.title('model loss -- MLP using Adam')\n",
    "plt.ylabel('loss')\n",
    "plt.xlabel('epoch')\n",
    "plt.legend(['train', 'test'], loc='upper left')\n",
    "plt.tight_layout()"
   ]
  },
  {
   "cell_type": "markdown",
   "metadata": {},
   "source": [
    "### Adding more layers"
   ]
  },
  {
   "cell_type": "markdown",
   "metadata": {},
   "source": [
    "What if we just add another layer? Let's say it is identical to the first one (although it could be anything really -- the possibilities here are infinite!)"
   ]
  },
  {
   "cell_type": "code",
   "execution_count": null,
   "metadata": {
    "scrolled": true
   },
   "outputs": [],
   "source": [
    "# Parameters\n",
    "batch_size = 128\n",
    "epochs = 20\n",
    "\n",
    "# Specify model\n",
    "model = Sequential()\n",
    "\n",
    "model.add(Dense(512, input_dim=784, init=\"uniform\"))\n",
    "model.add(BatchNormalization())\n",
    "model.add(Activation(\"relu\"))\n",
    "model.add(Dropout(0.2))\n",
    "\n",
    "model.add(Dense(512, input_dim=784, init=\"uniform\"))\n",
    "model.add(BatchNormalization())\n",
    "model.add(Activation(\"relu\"))\n",
    "model.add(Dropout(0.2))\n",
    "\n",
    "model.add(Dense(n_classes, init=\"uniform\"))\n",
    "model.add(BatchNormalization())\n",
    "model.add(Activation(\"softmax\"))\n",
    "\n",
    "# Print model and compile it\n",
    "model.summary()\n",
    "model.compile(loss=\"categorical_crossentropy\",\n",
    "              optimizer=adam(),\n",
    "              metrics=[\"accuracy\"])\n",
    "\n",
    "# Perform fit\n",
    "history_onemorelayer = model.fit(X_train, y_train_b,\n",
    "                    batch_size=batch_size,\n",
    "                    epochs=epochs,\n",
    "                    verbose=1,\n",
    "                    shuffle=False,\n",
    "                    validation_data=(X_test, y_test_b))\n",
    "\n",
    "\n",
    "# Print results\n",
    "score = model.evaluate(X_test, y_test_b, verbose=0)\n",
    "print('Test loss/accuracy: %g, %g' % (score[0], score[1]))"
   ]
  },
  {
   "cell_type": "code",
   "execution_count": null,
   "metadata": {},
   "outputs": [],
   "source": [
    "plt.figure(figsize=(15, 5)) \n",
    "# Plot history for accuracy\n",
    "plt.subplot(121)\n",
    "plt.plot(history_onemorelayer.history['acc'])\n",
    "plt.plot(history_onemorelayer.history['val_acc'])\n",
    "plt.title('model accuracy -- MLP with three layers')\n",
    "plt.ylabel('accuracy')\n",
    "plt.xlabel('epoch')\n",
    "plt.legend(['train', 'test'], loc='upper left')\n",
    "# summarize history for loss\n",
    "plt.subplot(122)\n",
    "plt.plot(history_onemorelayer.history['loss'])\n",
    "plt.plot(history_onemorelayer.history['val_loss'])\n",
    "plt.title('model loss -- MLP with three layers')\n",
    "plt.ylabel('loss')\n",
    "plt.xlabel('epoch')\n",
    "plt.legend(['train', 'test'], loc='upper left')\n",
    "plt.tight_layout()"
   ]
  },
  {
   "cell_type": "markdown",
   "metadata": {},
   "source": [
    "As we can see, it's very hard to get past the 98.something% test accuracy. In order to do that we'll have to look into even more complicated models -- more specifically, layers other than the dense one. We'll do that on next class!"
   ]
  }
 ],
 "metadata": {
  "kernelspec": {
   "display_name": "Python 3",
   "language": "python",
   "name": "python3"
  },
  "language_info": {
   "codemirror_mode": {
    "name": "ipython",
    "version": 3
   },
   "file_extension": ".py",
   "mimetype": "text/x-python",
   "name": "python",
   "nbconvert_exporter": "python",
   "pygments_lexer": "ipython3",
   "version": "3.7.0"
  }
 },
 "nbformat": 4,
 "nbformat_minor": 1
}
