{
 "cells": [
  {
   "cell_type": "markdown",
   "metadata": {},
   "source": [
    "# Classification on MNIST using Convolutional Neural Networks (CNN)"
   ]
  },
  {
   "cell_type": "markdown",
   "metadata": {},
   "source": [
    "In this notebook, we are going to use CNNs to perform classification on the MNIST dataset. We have already performed this task on MNIST in lecture 3 using a MultiLayer Perceptron (i.e. a dense network), so we are going to see how much CNNs can improve over MLPs.\n",
    "\n",
    "A nice description of CNNs can be found [here](http://cs231n.github.io/convolutional-networks/).\n",
    "\n",
    "## Loading the data\n",
    "\n",
    "As in the previous notebook, we begin by \n",
    "- loading and normalizing the dataset \n",
    "- performing the usual splitting in training/test set\n",
    "- transforming the labels into one-hot-encoding type vectors."
   ]
  },
  {
   "cell_type": "code",
   "execution_count": 1,
   "metadata": {},
   "outputs": [
    {
     "name": "stderr",
     "output_type": "stream",
     "text": [
      "Using TensorFlow backend.\n"
     ]
    }
   ],
   "source": [
    "from __future__ import print_function\n",
    "import keras\n",
    "from keras.datasets import mnist\n",
    "from keras.models import Sequential\n",
    "from keras.layers import Dense, Dropout, Flatten\n",
    "from keras.layers import Conv2D, MaxPooling2D\n",
    "from keras.optimizers import RMSprop\n",
    "import matplotlib\n",
    "import numpy as np\n",
    "import matplotlib.pyplot as plt\n",
    "%matplotlib inline "
   ]
  },
  {
   "cell_type": "code",
   "execution_count": 4,
   "metadata": {},
   "outputs": [
    {
     "name": "stdout",
     "output_type": "stream",
     "text": [
      "60000 train samples\n",
      "10000 test samples\n",
      "These are numbers corresponding to  5   0   4  and  1\n"
     ]
    },
    {
     "data": {
      "text/plain": [
       "<matplotlib.image.AxesImage at 0x1a27d48518>"
      ]
     },
     "execution_count": 4,
     "metadata": {},
     "output_type": "execute_result"
    },
    {
     "data": {
      "image/png": "[encoded data removed]",
      "text/plain": [
       "<matplotlib.figure.Figure at 0x1a1833d978>"
      ]
     },
     "metadata": {},
     "output_type": "display_data"
    }
   ],
   "source": [
    "# Download the data, shuffled and split between train and test sets\n",
    "(x_train, y_train), (x_test, y_test) = mnist.load_data()\n",
    "print(x_train.shape[0], 'train samples')\n",
    "print(x_test.shape[0], 'test samples')\n",
    "\n",
    "# and let us look at the numbers\n",
    "print(\"These are numbers corresponding to \",y_train[0],\" \",y_train[1],\" \",y_train[2],\" and \",y_train[3])\n",
    "plt.subplot(221)\n",
    "plt.imshow(x_train[0], cmap=plt.get_cmap('gray'))\n",
    "plt.subplot(222)\n",
    "plt.imshow(x_train[1], cmap=plt.get_cmap('gray'))\n",
    "plt.subplot(223)\n",
    "plt.imshow(x_train[2], cmap=plt.get_cmap('gray'))\n",
    "plt.subplot(224)\n",
    "plt.imshow(x_train[3], cmap=plt.get_cmap('gray'))"
   ]
  },
  {
   "cell_type": "code",
   "execution_count": 5,
   "metadata": {},
   "outputs": [
    {
     "name": "stdout",
     "output_type": "stream",
     "text": [
      "The cateragories of these image is now encoded as : \n",
      " [ 0.  0.  0.  0.  0.  1.  0.  0.  0.  0.] \n",
      " [ 1.  0.  0.  0.  0.  0.  0.  0.  0.  0.] \n",
      " [ 0.  0.  0.  0.  1.  0.  0.  0.  0.  0.] \n",
      " [ 0.  1.  0.  0.  0.  0.  0.  0.  0.  0.] \n",
      "\n"
     ]
    }
   ],
   "source": [
    "# convert class vectors to binary class matrices\n",
    "num_classes = 10\n",
    "y_train = keras.utils.to_categorical(y_train, num_classes)\n",
    "y_test = keras.utils.to_categorical(y_test, num_classes)\n",
    "\n",
    "print(\"The cateragories of these image is now encoded as : \\n\",y_train[0][:],\"\\n\",y_train[1][:],\"\\n\",y_train[2][:],\"\\n\",y_train[3][:],\"\\n\" )"
   ]
  },
  {
   "cell_type": "markdown",
   "metadata": {},
   "source": [
    "We shall **NOT** however, transform the images into one dimensional vectors. Instead, we want to keep them as two dimensional images. In fact, for keras and tensorflow to work correctly, we shall transform them from $28*28$ matrices to $28*28*1$ tensors! "
   ]
  },
  {
   "cell_type": "code",
   "execution_count": 6,
   "metadata": {},
   "outputs": [
    {
     "data": {
      "text/plain": [
       "(60000, 28, 28, 1)"
      ]
     },
     "execution_count": 6,
     "metadata": {},
     "output_type": "execute_result"
    }
   ],
   "source": [
    "img_rows, img_cols = 28, 28\n",
    "input_shape = (img_rows, img_cols, 1)\n",
    "x_train = x_train.reshape(x_train.shape[0], img_rows, img_cols, 1)\n",
    "x_test = x_test.reshape(x_test.shape[0], img_rows, img_cols, 1)\n",
    "input_shape = (img_rows, img_cols, 1)\n",
    "\n",
    "x_train = x_train.astype('float32')\n",
    "x_test = x_test.astype('float32')\n",
    "x_train /= 255\n",
    "x_test /= 255\n",
    "\n",
    "x_train.shape"
   ]
  },
  {
   "cell_type": "markdown",
   "metadata": {},
   "source": [
    "## Creating a CNN\n",
    "\n",
    "Now, we are going to create a convolutional network. The first two layers will each have $32$ convolutional filters of kernel size $3 \\times 3$. Then we add a pooling layer that will take $2x2$ squares and output the max of them (the maxpooling layer) and transform the resulting \"image\" into a vector (the Flatten layer). Finally, we will add a multi-layer perceptron on top of this. With dropout layers, this yields:"
   ]
  },
  {
   "cell_type": "code",
   "execution_count": 9,
   "metadata": {
    "scrolled": true
   },
   "outputs": [
    {
     "name": "stdout",
     "output_type": "stream",
     "text": [
      "_________________________________________________________________\n",
      "Layer (type)                 Output Shape              Param #   \n",
      "=================================================================\n",
      "conv2d_5 (Conv2D)            (None, 26, 26, 32)        320       \n",
      "_________________________________________________________________\n",
      "conv2d_6 (Conv2D)            (None, 24, 24, 32)        9248      \n",
      "_________________________________________________________________\n",
      "max_pooling2d_3 (MaxPooling2 (None, 12, 12, 32)        0         \n",
      "_________________________________________________________________\n",
      "dropout_5 (Dropout)          (None, 12, 12, 32)        0         \n",
      "_________________________________________________________________\n",
      "flatten_3 (Flatten)          (None, 4608)              0         \n",
      "_________________________________________________________________\n",
      "dense_5 (Dense)              (None, 128)               589952    \n",
      "_________________________________________________________________\n",
      "dropout_6 (Dropout)          (None, 128)               0         \n",
      "_________________________________________________________________\n",
      "dense_6 (Dense)              (None, 10)                1290      \n",
      "=================================================================\n",
      "Total params: 600,810\n",
      "Trainable params: 600,810\n",
      "Non-trainable params: 0\n",
      "_________________________________________________________________\n"
     ]
    }
   ],
   "source": [
    "model = Sequential()\n",
    "model.add(Conv2D(32, kernel_size=(3, 3),\n",
    "                 activation='relu',\n",
    "                 input_shape=input_shape))\n",
    "model.add(Conv2D(32, (3, 3), activation='relu'))\n",
    "model.add(MaxPooling2D(pool_size=(2, 2)))\n",
    "model.add(Dropout(0.25))\n",
    "model.add(Flatten())\n",
    "model.add(Dense(128, activation='relu'))\n",
    "model.add(Dropout(0.5))\n",
    "model.add(Dense(num_classes, activation='softmax'))\n",
    "\n",
    "model.summary()\n",
    "\n",
    "model.compile(loss=\"categorical_crossentropy\",\n",
    "              optimizer=keras.optimizers.Adadelta(),\n",
    "              metrics=['accuracy'])"
   ]
  },
  {
   "cell_type": "markdown",
   "metadata": {},
   "source": [
    "Let's comment on the number of parameters and the output space in each layer, which will help to understand the structure of the layers.\n",
    "\n",
    "- The first Conv2D layer has a kernel of size $3\\times 3$, which has $3*3+1 = 10$ parameters (don't forget the bias!). There are 32 such filters, hence a total of $320$ parameters. Each filter is then applied independently to each region of the original image: there are $26\\times 26$ regions, each outputs 32 filters, hence the output has shape $(26, 26, 32)$.\n",
    "\n",
    "- The second Conv2D layer has also a kernel of size $3 \\times 3$, but now it acts on a volume that has depth 32. Hence the number of parameters of each kernel is $3*3*32+1 = 289$. There are again 32 filters, leading to $289*32=9248$ parameters. Each filter is applied to one of the $24\\times 24$ possible regions, hence the output shape is $(24, 24, 32)$.\n",
    "\n",
    "- The max_pooling layer has no free parameters. It simply takes as output the maximum of the input in disjoint regions of size $2\\times 2$, independently for each depth. The output is $(12, 12, 32)$.\n",
    "\n",
    "- Finally, we apply a dropout and flatten, leading to a single vector of size $12*12*32=4608$, that we use as input for a MLP."
   ]
  },
  {
   "cell_type": "markdown",
   "metadata": {},
   "source": [
    "## Training the CNN\n",
    "\n",
    "Let us finally train the problem. It will be, however, quite slow. Each epoch takes about $10$ seconds on high-end GPU such as NVIDIA $K80$, but take from one to three minutes on a standard computer/labtop."
   ]
  },
  {
   "cell_type": "code",
   "execution_count": 10,
   "metadata": {},
   "outputs": [
    {
     "name": "stdout",
     "output_type": "stream",
     "text": [
      "Train on 60000 samples, validate on 10000 samples\n",
      "Epoch 1/12\n",
      "60000/60000 [==============================] - 168s - loss: 0.3695 - acc: 0.8871 - val_loss: 0.0887 - val_acc: 0.9731\n",
      "Epoch 2/12\n",
      "60000/60000 [==============================] - 162s - loss: 0.1321 - acc: 0.9616 - val_loss: 0.0617 - val_acc: 0.9806\n",
      "Epoch 3/12\n",
      "60000/60000 [==============================] - 155s - loss: 0.1012 - acc: 0.9704 - val_loss: 0.0513 - val_acc: 0.9844\n",
      "Epoch 4/12\n",
      "60000/60000 [==============================] - 151s - loss: 0.0861 - acc: 0.9742 - val_loss: 0.0451 - val_acc: 0.9854\n",
      "Epoch 5/12\n",
      "60000/60000 [==============================] - 151s - loss: 0.0767 - acc: 0.9768 - val_loss: 0.0406 - val_acc: 0.9857\n",
      "Epoch 6/12\n",
      "60000/60000 [==============================] - 151s - loss: 0.0675 - acc: 0.9800 - val_loss: 0.0390 - val_acc: 0.9866\n",
      "Epoch 7/12\n",
      "60000/60000 [==============================] - 9935s - loss: 0.0621 - acc: 0.9817 - val_loss: 0.0370 - val_acc: 0.9871\n",
      "Epoch 8/12\n",
      "60000/60000 [==============================] - 169s - loss: 0.0567 - acc: 0.9828 - val_loss: 0.0347 - val_acc: 0.9875\n",
      "Epoch 9/12\n",
      "60000/60000 [==============================] - 161s - loss: 0.0535 - acc: 0.9843 - val_loss: 0.0340 - val_acc: 0.9882\n",
      "Epoch 10/12\n",
      "60000/60000 [==============================] - 160s - loss: 0.0517 - acc: 0.9845 - val_loss: 0.0327 - val_acc: 0.9897\n",
      "Epoch 11/12\n",
      "60000/60000 [==============================] - 166s - loss: 0.0484 - acc: 0.9855 - val_loss: 0.0352 - val_acc: 0.9889\n",
      "Epoch 12/12\n",
      "60000/60000 [==============================] - 169s - loss: 0.0461 - acc: 0.9862 - val_loss: 0.0320 - val_acc: 0.9895\n",
      "Test loss: 0.0319981526088\n",
      "Test accuracy: 0.9895\n"
     ]
    }
   ],
   "source": [
    "batch_size = 128\n",
    "epochs = 12\n",
    "\n",
    "model.fit(x_train, y_train,\n",
    "          batch_size=batch_size,\n",
    "          epochs=epochs,\n",
    "          verbose=1,\n",
    "          validation_data=(x_test, y_test))\n",
    "score = model.evaluate(x_test, y_test, verbose=0)\n",
    "print('Test loss:', score[0])\n",
    "print('Test accuracy:', score[1])"
   ]
  },
  {
   "cell_type": "markdown",
   "metadata": {},
   "source": [
    "Still, the result is rewarding, without too much work, we reached an error below the percent! If you are patient (or you *DO* have a good GPU), you can try to play with the parameters and reach a performance close to $0.6\\%$ error."
   ]
  }
 ],
 "metadata": {
  "kernelspec": {
   "display_name": "Python 3",
   "language": "python",
   "name": "python3"
  },
  "language_info": {
   "codemirror_mode": {
    "name": "ipython",
    "version": 3
   },
   "file_extension": ".py",
   "mimetype": "text/x-python",
   "name": "python",
   "nbconvert_exporter": "python",
   "pygments_lexer": "ipython3",
   "version": "3.6.3"
  }
 },
 "nbformat": 4,
 "nbformat_minor": 1
}
