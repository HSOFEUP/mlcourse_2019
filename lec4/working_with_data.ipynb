{
 "cells": [
  {
   "cell_type": "markdown",
   "metadata": {
    "slideshow": {
     "slide_type": "slide"
    }
   },
   "source": [
    "\n",
    "# Working with data\n",
    "<hr>\n",
    "\n",
    "\n",
    "To view this notebook in slides format\n",
    "\n",
    "1. install RISE:\n",
    "\n",
    "```bash\n",
    "conda install -c conda-forge rise\n",
    "```\n",
    "\n",
    "2. click <div class=\"btn btn-default\"> <i class=\"fa-bar-chart fa\"></i> </div>  to enter the RISE slideshow  "
   ]
  },
  {
   "cell_type": "markdown",
   "metadata": {
    "slideshow": {
     "slide_type": "slide"
    }
   },
   "source": [
    "## Reproducible research\n",
    "\n",
    "- replication crisis\n",
    "- open research: share data, code and models\n",
    "- code your data workflow !"
   ]
  },
  {
   "cell_type": "markdown",
   "metadata": {
    "slideshow": {
     "slide_type": "slide"
    }
   },
   "source": [
    "## Data workflow\n",
    "\n",
    "\n",
    "<img src=\"img/data-science-explore.png\" width=\"800\">\n",
    "\n",
    "Reproduced from [R for data science](https://r4ds.had.co.nz/)"
   ]
  },
  {
   "cell_type": "markdown",
   "metadata": {
    "slideshow": {
     "slide_type": "slide"
    }
   },
   "source": [
    "# Good programming habits"
   ]
  },
  {
   "cell_type": "markdown",
   "metadata": {
    "slideshow": {
     "slide_type": "slide"
    }
   },
   "source": [
    "## Getting help\n",
    "\n",
    "- read the docs, eg [sklearn documentation](https://scikit-learn.org/stable/index.html) is really good\n",
    "- programming Q&A : [StackOverflow](https://stats.stackexchange.com/)\n",
    "- ML-Stats Q&A : [CrossValidated](https://stackoverflow.com/)\n",
    "- [Jupyter gallery](https://github.com/jupyter/jupyter/wiki/A-gallery-of-interesting-Jupyter-Notebooks)\n",
    "- cheatsheets !"
   ]
  },
  {
   "cell_type": "markdown",
   "metadata": {
    "slideshow": {
     "slide_type": "slide"
    }
   },
   "source": [
    "## Improve your programming skills \n",
    "\n",
    "- fight against software entropy !\n",
    "- [code smell](https://en.wikipedia.org/wiki/Code_smell), [spaghetti code](https://en.wikipedia.org/wiki/Spaghetti_code), [big ball of mud](https://en.wikipedia.org/wiki/Big_ball_of_mud)\n",
    "- \"kiss\" : keep it stupid simple\n",
    "- \"dry\" : don't repeat yourself\n",
    "- use abstractions \n",
    "    - refactor using functions [FP](https://docs.python.org/3.7/howto/functional.html) \n",
    "    - and classes [OOP](https://python-textbok.readthedocs.io/en/1.0/Object_Oriented_Programming.html)\n"
   ]
  },
  {
   "cell_type": "markdown",
   "metadata": {
    "slideshow": {
     "slide_type": "slide"
    }
   },
   "source": [
    "The Zen of Python"
   ]
  },
  {
   "cell_type": "code",
   "execution_count": null,
   "metadata": {
    "scrolled": true,
    "slideshow": {
     "slide_type": "-"
    }
   },
   "outputs": [],
   "source": [
    "import this"
   ]
  },
  {
   "cell_type": "markdown",
   "metadata": {
    "slideshow": {
     "slide_type": "slide"
    }
   },
   "source": [
    "## Monitoring\n",
    "\n",
    "- painfully slow program ?\n",
    "    - IO-bound : reading and writing from disk\n",
    "    - CPU-bound : computing \n",
    "- program crashes ?\n",
    "    - out-of-memory errors\n",
    "- monitor CPU, RAM, and IO usage\n",
    "    - Mac-OS monitor or shell `top`, `iostat`"
   ]
  },
  {
   "cell_type": "markdown",
   "metadata": {
    "slideshow": {
     "slide_type": "slide"
    }
   },
   "source": [
    "## Terminal\n",
    "\n",
    "Don't be afraid to use it ;) There are many excellent tutorials\n",
    "- use tab-completion !\n",
    "- explore the filesystem : `cd`, `pwd`, `ls`\n",
    "- copy files : `cp`\n",
    "- connect to remote: `ssh user@host`\n",
    "- scp files from/to remote: `scp`"
   ]
  },
  {
   "cell_type": "markdown",
   "metadata": {
    "slideshow": {
     "slide_type": "slide"
    }
   },
   "source": [
    "## Version control\n",
    "\n",
    "Does your project look like this ?\n",
    "<img src=\"img/version-control.png\" alt=\"\" width=\"400\"/>"
   ]
  },
  {
   "cell_type": "markdown",
   "metadata": {
    "slideshow": {
     "slide_type": "slide"
    }
   },
   "source": [
    "## Version control\n",
    "\n",
    "Use a version control software like `git` to:\n",
    "\n",
    " <div class=\"row\">\n",
    "  <div class=\"col-sm-8\">\n",
    "      <small>\n",
    "       <ul>\n",
    "       <li>backup your code on a remote host eg [github](https://github.com/), \n",
    "           [gitlab](https://about.gitlab.com/) </li>\n",
    "       <li>write code collaboratively : **repository**</li>\n",
    "       <li>download and modify someone else project : **clone**</li>\n",
    "       <li>track changes history : **commit logs**</li>\n",
    "       <li>switch between parallel versions of your software : **branches**</li>\n",
    "       <li>easily revert to earlier state, merge different versions</li>\n",
    "       </ul>\n",
    "       </small>\n",
    "  </div>\n",
    "  <div class=\"col-sm-2\">\n",
    "  </div>\n",
    "  <div class=\"col-sm-2\">\n",
    "      <img src=\"img/Octocat.png\" width=\"100\"> \n",
    "      <img src=\"img/gitlab-logo.png\" width=\"100\">\n",
    "  </div>\n",
    "</div> \n",
    "\n",
    "\n",
    "There are tools eg [Github desktop](https://desktop.github.com/) if you don't like the command line."
   ]
  },
  {
   "cell_type": "markdown",
   "metadata": {
    "slideshow": {
     "slide_type": "slide"
    }
   },
   "source": [
    "# Prepare data"
   ]
  },
  {
   "cell_type": "markdown",
   "metadata": {
    "slideshow": {
     "slide_type": "slide"
    }
   },
   "source": [
    "## Get and store data\n",
    "\n",
    "- if you are lucky data can be fetched from an API or database:\n",
    "    - datasets for ML: [mldata](https://www.mldata.io/datasets/), [UCI repository](http://archive.ics.uci.edu/ml/datasets.php) and [kaggle](https://www.kaggle.com/datasets)\n",
    "    - weather data: [openweathermap](https://openweathermap.org/api)\n",
    "    - geodata: [openstreetmap](https://wiki.openstreetmap.org/wiki/Databases_and_data_access_APIs)\n",
    "    - genomic data: [UCSC](https://genome-euro.ucsc.edu)\n",
    "- it's a good idea to store your data on a local/server database"
   ]
  },
  {
   "cell_type": "markdown",
   "metadata": {
    "slideshow": {
     "slide_type": "slide"
    }
   },
   "source": [
    "## Tidy data\n",
    "\n",
    "Hadley Wickham's definition:\n",
    "> 1.  Each variable forms a column.\n",
    "> 2.  Each observation forms a row.\n",
    "> 3.  Each type of observational unit forms a table.\n",
    "\n",
    "Reference: https://vita.had.co.nz/papers/tidy-data.pdf"
   ]
  },
  {
   "cell_type": "markdown",
   "metadata": {
    "slideshow": {
     "slide_type": "slide"
    }
   },
   "source": [
    "## Clean data"
   ]
  },
  {
   "cell_type": "code",
   "execution_count": null,
   "metadata": {},
   "outputs": [],
   "source": []
  }
 ],
 "metadata": {
  "hide_input": false,
  "kernelspec": {
   "display_name": "Python 3",
   "language": "python",
   "name": "python3"
  },
  "language_info": {
   "codemirror_mode": {
    "name": "ipython",
    "version": 3
   },
   "file_extension": ".py",
   "mimetype": "text/x-python",
   "name": "python",
   "nbconvert_exporter": "python",
   "pygments_lexer": "ipython3",
   "version": "3.6.7"
  },
  "rise": {
   "scroll": false,
   "slideNumber": false,
   "theme": "serif",
   "transition": "none"
  },
  "toc": {
   "base_numbering": 1,
   "nav_menu": {
    "height": "79px",
    "width": "280px"
   },
   "number_sections": false,
   "sideBar": true,
   "skip_h1_title": false,
   "title_cell": "Table of Contents",
   "title_sidebar": "Contents",
   "toc_cell": false,
   "toc_position": {
    "height": "calc(100% - 180px)",
    "left": "10px",
    "top": "150px",
    "width": "165px"
   },
   "toc_section_display": true,
   "toc_window_display": false
  }
 },
 "nbformat": 4,
 "nbformat_minor": 2
}
