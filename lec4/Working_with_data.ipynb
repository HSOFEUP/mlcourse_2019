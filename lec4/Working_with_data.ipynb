{
 "cells": [
  {
   "cell_type": "markdown",
   "metadata": {
    "slideshow": {
     "slide_type": "slide"
    }
   },
   "source": [
    "\n",
    "# Working with data"
   ]
  },
  {
   "cell_type": "markdown",
   "metadata": {
    "slideshow": {
     "slide_type": "slide"
    }
   },
   "source": [
    "## Reproducible research\n",
    "\n",
    "- replication crisis\n",
    "- open research: share data, code and models\n",
    "- code your data workflow !"
   ]
  },
  {
   "cell_type": "markdown",
   "metadata": {
    "slideshow": {
     "slide_type": "slide"
    }
   },
   "source": [
    "## Data workflow\n",
    "\n",
    "\n",
    "<img src=\"img/data-science-explore.png\" width=\"800\">\n",
    "\n",
    "Reproduced from [R for data science](https://r4ds.had.co.nz/)"
   ]
  },
  {
   "cell_type": "markdown",
   "metadata": {
    "slideshow": {
     "slide_type": "slide"
    }
   },
   "source": [
    "# Good programming habits"
   ]
  },
  {
   "cell_type": "markdown",
   "metadata": {
    "slideshow": {
     "slide_type": "slide"
    }
   },
   "source": [
    "## Getting help\n",
    "\n",
    "- read the docs, eg [sklearn documentation](https://scikit-learn.org/stable/index.html) is really good\n",
    "- programming Q&A : [StackOverflow](https://stats.stackexchange.com/)\n",
    "- ML-Stats Q&A : [CrossValidated](https://stackoverflow.com/)\n",
    "- [Jupyter gallery](https://github.com/jupyter/jupyter/wiki/A-gallery-of-interesting-Jupyter-Notebooks)\n",
    "- cheatsheets !"
   ]
  },
  {
   "cell_type": "markdown",
   "metadata": {
    "slideshow": {
     "slide_type": "slide"
    }
   },
   "source": [
    "## Improve your programming skills \n",
    "\n",
    "- fight against software entropy !\n",
    "- [code smell](https://en.wikipedia.org/wiki/Code_smell), [spaghetti code](https://en.wikipedia.org/wiki/Spaghetti_code), [big ball of mud](https://en.wikipedia.org/wiki/Big_ball_of_mud)\n",
    "- \"kiss\" : keep it stupid simple\n",
    "- \"dry\" : don't repeat yourself\n",
    "- use abstractions \n",
    "    - refactor using functions [FP](https://docs.python.org/3.7/howto/functional.html) \n",
    "    - and classes [OOP](https://python-textbok.readthedocs.io/en/1.0/Object_Oriented_Programming.html)\n"
   ]
  },
  {
   "cell_type": "markdown",
   "metadata": {
    "slideshow": {
     "slide_type": "slide"
    }
   },
   "source": [
    "The Zen of Python"
   ]
  },
  {
   "cell_type": "code",
   "execution_count": 1,
   "metadata": {
    "scrolled": true,
    "slideshow": {
     "slide_type": "-"
    }
   },
   "outputs": [
    {
     "name": "stdout",
     "output_type": "stream",
     "text": [
      "The Zen of Python, by Tim Peters\n",
      "\n",
      "Beautiful is better than ugly.\n",
      "Explicit is better than implicit.\n",
      "Simple is better than complex.\n",
      "Complex is better than complicated.\n",
      "Flat is better than nested.\n",
      "Sparse is better than dense.\n",
      "Readability counts.\n",
      "Special cases aren't special enough to break the rules.\n",
      "Although practicality beats purity.\n",
      "Errors should never pass silently.\n",
      "Unless explicitly silenced.\n",
      "In the face of ambiguity, refuse the temptation to guess.\n",
      "There should be one-- and preferably only one --obvious way to do it.\n",
      "Although that way may not be obvious at first unless you're Dutch.\n",
      "Now is better than never.\n",
      "Although never is often better than *right* now.\n",
      "If the implementation is hard to explain, it's a bad idea.\n",
      "If the implementation is easy to explain, it may be a good idea.\n",
      "Namespaces are one honking great idea -- let's do more of those!\n"
     ]
    }
   ],
   "source": [
    "import this"
   ]
  },
  {
   "cell_type": "markdown",
   "metadata": {
    "slideshow": {
     "slide_type": "slide"
    }
   },
   "source": [
    "## Monitoring\n",
    "\n",
    "- painfully slow program ?\n",
    "    - IO-bound : reading and writing from disk\n",
    "    - CPU-bound : computing \n",
    "- program crashes ?\n",
    "    - out-of-memory errors\n",
    "- monitor CPU, RAM, and IO usage\n",
    "    - Mac-OS monitor or shell `top`, `iostat`"
   ]
  },
  {
   "cell_type": "markdown",
   "metadata": {
    "slideshow": {
     "slide_type": "slide"
    }
   },
   "source": [
    "## Terminal \n",
    "\n",
    "<img src=\"img/terminal.png\" width=\"64\" style=\"display:inline\"> Don't be afraid to use it ;) There are many excellent tutorials \n",
    "\n",
    "\n",
    "- use tab-completion !\n",
    "- explore the filesystem : `cd`, `pwd`, `ls`\n",
    "- copy files : `cp`\n",
    "- connect to remote: `ssh user@host`\n",
    "- scp files from/to remote: `scp`"
   ]
  },
  {
   "cell_type": "markdown",
   "metadata": {
    "slideshow": {
     "slide_type": "slide"
    }
   },
   "source": [
    "## Terminal demo"
   ]
  },
  {
   "cell_type": "code",
   "execution_count": null,
   "metadata": {
    "slideshow": {
     "slide_type": "-"
    }
   },
   "outputs": [],
   "source": [
    "# cd, pwd, ls, cp"
   ]
  },
  {
   "cell_type": "markdown",
   "metadata": {
    "slideshow": {
     "slide_type": "slide"
    }
   },
   "source": [
    "## Version control\n",
    "\n",
    "Does your project look like this ?\n",
    "\n",
    "<img src=\"img/version-control.png\" alt=\"\" width=\"400\">"
   ]
  },
  {
   "cell_type": "markdown",
   "metadata": {
    "slideshow": {
     "slide_type": "slide"
    }
   },
   "source": [
    "## Version control \n",
    "\n",
    "\n",
    "<img src=\"img/Octocat.png\" width=\"64\" style=\"display:inline\">  <img src=\"img/gitlab-logo.png\" width=\"64\" style=\"display:inline\"> Use a version control software like `git` to:\n",
    "\n",
    "- backup your code on a remote host eg [github](https://github.com/), [gitlab](https://about.gitlab.com/)\n",
    "- write code collaboratively : **repository**\n",
    "- download and modify someone else project : **clone**\n",
    "- track changes history : **commit logs**\n",
    "- switch between parallel versions of your software : **branches**\n",
    "- easily revert to earlier state, merge different versions\n",
    "\n",
    "There are graphical clients like [Github desktop](https://desktop.github.com/) or [Git Kraken](https://www.gitkraken.com/git-client) if you don't like the command line."
   ]
  },
  {
   "cell_type": "markdown",
   "metadata": {
    "slideshow": {
     "slide_type": "slide"
    }
   },
   "source": [
    "# Prepare data"
   ]
  },
  {
   "cell_type": "markdown",
   "metadata": {
    "slideshow": {
     "slide_type": "slide"
    }
   },
   "source": [
    "## Get and store data\n",
    "\n",
    "- if you are lucky data can be fetched from an API or database:\n",
    "    - datasets for ML: [mldata](https://www.mldata.io/datasets/), [UCI repository](http://archive.ics.uci.edu/ml/datasets.php) and [kaggle](https://www.kaggle.com/datasets)\n",
    "    - weather data: [openweathermap](https://openweathermap.org/api)\n",
    "    - geodata: [openstreetmap](https://wiki.openstreetmap.org/wiki/Databases_and_data_access_APIs)\n",
    "    - genomic data: [UCSC](https://genome-euro.ucsc.edu)\n",
    "- it's a good idea to store your data on a local/server database"
   ]
  },
  {
   "cell_type": "markdown",
   "metadata": {
    "slideshow": {
     "slide_type": "slide"
    }
   },
   "source": [
    "## API demo\n",
    "\n",
    "- we fetch an API with an http request : url and query string\n",
    "- the API usually returns [JSON](https://en.wikipedia.org/wiki/JSON) data\n",
    "\n",
    "**Example** http://api.openweathermap.org/data/2.5/weather?q=Paris,france&appid=YOUR_APP_ID"
   ]
  },
  {
   "cell_type": "markdown",
   "metadata": {
    "slideshow": {
     "slide_type": "slide"
    }
   },
   "source": [
    "## Tidy data\n",
    "\n",
    "Hadley Wickham's definition:\n",
    "> 1.  Each variable forms a column.\n",
    "> 2.  Each observation forms a row.\n",
    "> 3.  Each type of observational unit forms a table.\n",
    "\n",
    "**Reference** https://vita.had.co.nz/papers/tidy-data.pdf"
   ]
  },
  {
   "cell_type": "markdown",
   "metadata": {
    "slideshow": {
     "slide_type": "slide"
    }
   },
   "source": [
    "## Clean data\n",
    "\n",
    "Unfortunately it will often take a lot of time :(\n",
    "\n",
    "- duplicated rows\n",
    "- inconsistent records\n",
    "- abnormal values\n",
    "- reshape data to make it tidy"
   ]
  },
  {
   "cell_type": "markdown",
   "metadata": {
    "slideshow": {
     "slide_type": "slide"
    }
   },
   "source": [
    "## Group-by"
   ]
  },
  {
   "cell_type": "markdown",
   "metadata": {
    "slideshow": {
     "slide_type": "slide"
    }
   },
   "source": [
    "## Join"
   ]
  },
  {
   "cell_type": "markdown",
   "metadata": {
    "slideshow": {
     "slide_type": "slide"
    }
   },
   "source": [
    "## Pivot"
   ]
  },
  {
   "cell_type": "markdown",
   "metadata": {
    "slideshow": {
     "slide_type": "slide"
    }
   },
   "source": [
    "## Melt"
   ]
  },
  {
   "cell_type": "markdown",
   "metadata": {
    "slideshow": {
     "slide_type": "slide"
    }
   },
   "source": [
    "## Prepare data for machine learning\n",
    "\n",
    "- the features $X$ and target $y$ must be **numeric arrays**\n",
    "\n",
    "Handling special data-types\n",
    "- categorical values : [one-hot encoding](https://scikit-learn.org/stable/modules/preprocessing.html#preprocessing-categorical-features)\n",
    "- text : [bag of words representation](https://scikit-learn.org/stable/modules/feature_extraction.html#text-feature-extraction)\n",
    "- images : RGB array\n",
    "- missing values: [imputation](https://scikit-learn.org/stable/modules/impute.html#impute)"
   ]
  },
  {
   "cell_type": "markdown",
   "metadata": {
    "slideshow": {
     "slide_type": "slide"
    }
   },
   "source": [
    "## Exercice\n",
    "\n",
    "For the following ML tasks, how would you construct the $X$ and $y$ arrays ?\n",
    "\n",
    "- **automatic video description**\n",
    "    - raw data =  bunch of mp4 videos and movie scripts (txt files)\n",
    "\n",
    "- **generate Latex files or C code**  \n",
    "    - raw data = a book written in LaTeX  or the Linux C source code\n",
    "    - see https://karpathy.github.io/2015/05/21/rnn-effectiveness/"
   ]
  },
  {
   "cell_type": "markdown",
   "metadata": {
    "slideshow": {
     "slide_type": "slide"
    }
   },
   "source": [
    "# Visualize data"
   ]
  },
  {
   "cell_type": "markdown",
   "metadata": {
    "slideshow": {
     "slide_type": "slide"
    }
   },
   "source": [
    "## Chartjunk"
   ]
  },
  {
   "cell_type": "markdown",
   "metadata": {
    "slideshow": {
     "slide_type": "slide"
    }
   },
   "source": [
    "## Misleading graph"
   ]
  },
  {
   "cell_type": "markdown",
   "metadata": {
    "slideshow": {
     "slide_type": "slide"
    }
   },
   "source": [
    "## Grammar of graphics"
   ]
  },
  {
   "cell_type": "markdown",
   "metadata": {
    "slideshow": {
     "slide_type": "slide"
    }
   },
   "source": [
    "## Let's make a simple chart"
   ]
  },
  {
   "cell_type": "markdown",
   "metadata": {
    "slideshow": {
     "slide_type": "slide"
    }
   },
   "source": [
    "## Imperative (Matplotlib)"
   ]
  },
  {
   "cell_type": "markdown",
   "metadata": {
    "slideshow": {
     "slide_type": "slide"
    }
   },
   "source": [
    "## Declarative (Altair)"
   ]
  },
  {
   "cell_type": "markdown",
   "metadata": {
    "slideshow": {
     "slide_type": "slide"
    }
   },
   "source": [
    "## Interactivity"
   ]
  },
  {
   "cell_type": "markdown",
   "metadata": {
    "slideshow": {
     "slide_type": "slide"
    }
   },
   "source": [
    "# Big data"
   ]
  },
  {
   "cell_type": "markdown",
   "metadata": {
    "slideshow": {
     "slide_type": "slide"
    }
   },
   "source": [
    "## Big data is ...\n",
    "\n",
    "1. marketing bullshit\n",
    "2. a technical difficulty for data processing\n",
    "3. a blessing/curse for machine learning"
   ]
  },
  {
   "cell_type": "markdown",
   "metadata": {
    "slideshow": {
     "slide_type": "slide"
    }
   },
   "source": [
    "## As a technical difficulty\n",
    "\n",
    "Here big data means \"too big to be stored on a disk\". Hence:\n",
    "    \n",
    "- most people/companies *don't* have big data\n",
    "- you need distributed storage eg [HDFS](https://en.wikipedia.org/wiki/Apache_Hadoop#Hadoop_distributed_file_system)\n",
    "- and distributed computing eg [MapReduce](https://en.wikipedia.org/wiki/MapReduce)"
   ]
  },
  {
   "cell_type": "markdown",
   "metadata": {
    "slideshow": {
     "slide_type": "slide"
    }
   },
   "source": [
    "## As a blessing/curse for machine learning\n",
    "\n",
    "Say $N$ = number of observations and $P$ = number of features. Here big data means either:\n",
    "\n",
    "- wide data $P\\gg N$, too few observations for many features\n",
    "    - realm of **high-dimensional statistics**\n",
    "    - we can only afford very simple models and seek robustness\n",
    "\n",
    "- long data $N \\gg P$, many observations\n",
    "    - can fit very complex models (deep learning)\n",
    "    - if data does not fit in memory, must use **online** or **mini-batch** learning"
   ]
  }
 ],
 "metadata": {
  "celltoolbar": "Slideshow",
  "hide_input": false,
  "kernelspec": {
   "display_name": "Python 3",
   "language": "python",
   "name": "python3"
  },
  "language_info": {
   "codemirror_mode": {
    "name": "ipython",
    "version": 3
   },
   "file_extension": ".py",
   "mimetype": "text/x-python",
   "name": "python",
   "nbconvert_exporter": "python",
   "pygments_lexer": "ipython3",
   "version": "3.6.8"
  },
  "rise": {
   "scroll": false,
   "slideNumber": false
  },
  "toc": {
   "base_numbering": 1,
   "nav_menu": {
    "height": "79px",
    "width": "280px"
   },
   "number_sections": false,
   "sideBar": true,
   "skip_h1_title": false,
   "title_cell": "Table of Contents",
   "title_sidebar": "Contents",
   "toc_cell": false,
   "toc_position": {
    "height": "calc(100% - 180px)",
    "left": "10px",
    "top": "150px",
    "width": "165px"
   },
   "toc_section_display": true,
   "toc_window_display": false
  }
 },
 "nbformat": 4,
 "nbformat_minor": 2
}
