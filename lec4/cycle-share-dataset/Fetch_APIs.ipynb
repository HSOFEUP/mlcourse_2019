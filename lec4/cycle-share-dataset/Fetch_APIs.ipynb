{
 "cells": [
  {
   "cell_type": "markdown",
   "metadata": {},
   "source": [
    "# Fetching google maps APIs\n",
    "\n",
    "In this notebook we illustrate how to fetch the elevation and distance matrix APIs from google maps."
   ]
  },
  {
   "cell_type": "code",
   "execution_count": 1,
   "metadata": {},
   "outputs": [],
   "source": [
    "import pandas as pd\n",
    "import numpy as np\n",
    "import json"
   ]
  },
  {
   "cell_type": "code",
   "execution_count": 2,
   "metadata": {},
   "outputs": [],
   "source": [
    "import googlemaps\n",
    "gmaps = googlemaps.Client(\n",
    "    key=\"YOUR_API_KEY\", queries_per_second=1, retry_over_query_limit=False\n",
    ")    "
   ]
  },
  {
   "cell_type": "code",
   "execution_count": 3,
   "metadata": {},
   "outputs": [
    {
     "data": {
      "text/plain": [
       "[{'station_id': 'BT-01', 'lat': 47.618418, 'lng': -122.35096399999999},\n",
       " {'station_id': 'BT-03', 'lat': 47.615829, 'lng': -122.348564},\n",
       " {'station_id': 'BT-04', 'lat': 47.616094, 'lng': -122.341102}]"
      ]
     },
     "execution_count": 3,
     "metadata": {},
     "output_type": "execute_result"
    }
   ],
   "source": [
    "# load the station dataset as a pandas dataframe\n",
    "station = pd.read_csv(\n",
    "    \"station.csv\", \n",
    "    parse_dates=[\"install_date\",\"modification_date\",\"decommission_date\"]\n",
    ")\n",
    "# add the pronto shop station to the dataframe\n",
    "pronto_shop = dict(\n",
    "    station_id=\"Pronto shop\", name=\"Pronto shop\", lat=47.6173156, long=-122.3414776\n",
    ")\n",
    "station = station.append(pronto_shop, ignore_index=True).rename(columns={\"long\":\"lng\"})\n",
    "# get corresponding records (a list of dict)\n",
    "station_records = station[[\"station_id\",\"lat\",\"lng\"]].to_dict(orient=\"records\")\n",
    "station_records[:3]"
   ]
  },
  {
   "cell_type": "code",
   "execution_count": 4,
   "metadata": {},
   "outputs": [],
   "source": [
    "# the API is fetched only if elevations.json does not exist\n",
    "try:\n",
    "    elevations = json.load(open(\"elevations.json\",\"r\"))\n",
    "except FileNotFoundError:\n",
    "    print(\"Fetching the elevations API\")\n",
    "    elevations = gmaps.elevation(station_records)\n",
    "    # saving the response in JSON\n",
    "    json.dump(elevations, open(\"elevations.json\", \"w\"))"
   ]
  },
  {
   "cell_type": "code",
   "execution_count": 5,
   "metadata": {},
   "outputs": [],
   "source": [
    "# the API is fetched only if distances.json does not exist\n",
    "try:\n",
    "    distances = json.load(open(\"distances.json\",\"r\"))\n",
    "except FileNotFoundError:\n",
    "    print(\"Fetching the distance matrix API\")\n",
    "    distances = {}\n",
    "    for origin in station_records:\n",
    "        station_id = origin[\"station_id\"]\n",
    "        distances[station_id] = gmaps.distance_matrix(\n",
    "            origins=origin, \n",
    "            destinations=station_records, \n",
    "            mode=\"bicycling\"\n",
    "        )\n",
    "    # saving the response in JSON\n",
    "    json.dump(distances, open(\"distances.json\", \"w\"))"
   ]
  },
  {
   "cell_type": "code",
   "execution_count": 6,
   "metadata": {},
   "outputs": [
    {
     "data": {
      "text/html": [
       "<div>\n",
       "<style scoped>\n",
       "    .dataframe tbody tr th:only-of-type {\n",
       "        vertical-align: middle;\n",
       "    }\n",
       "\n",
       "    .dataframe tbody tr th {\n",
       "        vertical-align: top;\n",
       "    }\n",
       "\n",
       "    .dataframe thead th {\n",
       "        text-align: right;\n",
       "    }\n",
       "</style>\n",
       "<table border=\"1\" class=\"dataframe\">\n",
       "  <thead>\n",
       "    <tr style=\"text-align: right;\">\n",
       "      <th></th>\n",
       "      <th>distance</th>\n",
       "      <th>duration</th>\n",
       "      <th>from_station_id</th>\n",
       "      <th>to_station_id</th>\n",
       "    </tr>\n",
       "  </thead>\n",
       "  <tbody>\n",
       "    <tr>\n",
       "      <th>0</th>\n",
       "      <td>0</td>\n",
       "      <td>0</td>\n",
       "      <td>BT-01</td>\n",
       "      <td>BT-01</td>\n",
       "    </tr>\n",
       "    <tr>\n",
       "      <th>1</th>\n",
       "      <td>423</td>\n",
       "      <td>109</td>\n",
       "      <td>BT-01</td>\n",
       "      <td>BT-03</td>\n",
       "    </tr>\n",
       "    <tr>\n",
       "      <th>2</th>\n",
       "      <td>1068</td>\n",
       "      <td>370</td>\n",
       "      <td>BT-01</td>\n",
       "      <td>BT-04</td>\n",
       "    </tr>\n",
       "    <tr>\n",
       "      <th>3</th>\n",
       "      <td>868</td>\n",
       "      <td>261</td>\n",
       "      <td>BT-01</td>\n",
       "      <td>BT-05</td>\n",
       "    </tr>\n",
       "    <tr>\n",
       "      <th>4</th>\n",
       "      <td>2067</td>\n",
       "      <td>640</td>\n",
       "      <td>BT-01</td>\n",
       "      <td>CBD-03</td>\n",
       "    </tr>\n",
       "  </tbody>\n",
       "</table>\n",
       "</div>"
      ],
      "text/plain": [
       "   distance  duration from_station_id to_station_id\n",
       "0         0         0           BT-01         BT-01\n",
       "1       423       109           BT-01         BT-03\n",
       "2      1068       370           BT-01         BT-04\n",
       "3       868       261           BT-01         BT-05\n",
       "4      2067       640           BT-01        CBD-03"
      ]
     },
     "execution_count": 6,
     "metadata": {},
     "output_type": "execute_result"
    }
   ],
   "source": [
    "# parsing the json into a dataframe\n",
    "station_ids = [record[\"station_id\"] for record in station_records]\n",
    "df_distances = pd.DataFrame()\n",
    "for station_id, records in distances.items():\n",
    "    parsed_records = [\n",
    "        dict(\n",
    "            distance=record[\"distance\"][\"value\"],\n",
    "            duration=record[\"duration\"][\"value\"]\n",
    "        ) \n",
    "        for record in records[\"rows\"][0][\"elements\"]\n",
    "    ]\n",
    "    _df = pd.DataFrame(parsed_records)\n",
    "    _df[\"from_station_id\"] = station_id\n",
    "    _df[\"to_station_id\"] = station_ids\n",
    "    df_distances = df_distances.append(_df, ignore_index=True)\n",
    "\n",
    "# saving to csv\n",
    "df_distances.to_csv(\"distances.csv\", index=False)\n",
    "df_distances.head()"
   ]
  },
  {
   "cell_type": "code",
   "execution_count": 7,
   "metadata": {},
   "outputs": [
    {
     "data": {
      "text/html": [
       "<div>\n",
       "<style scoped>\n",
       "    .dataframe tbody tr th:only-of-type {\n",
       "        vertical-align: middle;\n",
       "    }\n",
       "\n",
       "    .dataframe tbody tr th {\n",
       "        vertical-align: top;\n",
       "    }\n",
       "\n",
       "    .dataframe thead th {\n",
       "        text-align: right;\n",
       "    }\n",
       "</style>\n",
       "<table border=\"1\" class=\"dataframe\">\n",
       "  <thead>\n",
       "    <tr style=\"text-align: right;\">\n",
       "      <th></th>\n",
       "      <th>elevation</th>\n",
       "      <th>lat</th>\n",
       "      <th>lng</th>\n",
       "      <th>station_id</th>\n",
       "    </tr>\n",
       "  </thead>\n",
       "  <tbody>\n",
       "    <tr>\n",
       "      <th>0</th>\n",
       "      <td>37.360447</td>\n",
       "      <td>47.61842</td>\n",
       "      <td>-122.35096</td>\n",
       "      <td>BT-01</td>\n",
       "    </tr>\n",
       "    <tr>\n",
       "      <th>1</th>\n",
       "      <td>33.815262</td>\n",
       "      <td>47.61583</td>\n",
       "      <td>-122.34856</td>\n",
       "      <td>BT-03</td>\n",
       "    </tr>\n",
       "    <tr>\n",
       "      <th>2</th>\n",
       "      <td>34.272057</td>\n",
       "      <td>47.61609</td>\n",
       "      <td>-122.34110</td>\n",
       "      <td>BT-04</td>\n",
       "    </tr>\n",
       "    <tr>\n",
       "      <th>3</th>\n",
       "      <td>44.281830</td>\n",
       "      <td>47.61311</td>\n",
       "      <td>-122.34421</td>\n",
       "      <td>BT-05</td>\n",
       "    </tr>\n",
       "    <tr>\n",
       "      <th>4</th>\n",
       "      <td>48.483391</td>\n",
       "      <td>47.61073</td>\n",
       "      <td>-122.33245</td>\n",
       "      <td>CBD-03</td>\n",
       "    </tr>\n",
       "  </tbody>\n",
       "</table>\n",
       "</div>"
      ],
      "text/plain": [
       "   elevation       lat        lng station_id\n",
       "0  37.360447  47.61842 -122.35096      BT-01\n",
       "1  33.815262  47.61583 -122.34856      BT-03\n",
       "2  34.272057  47.61609 -122.34110      BT-04\n",
       "3  44.281830  47.61311 -122.34421      BT-05\n",
       "4  48.483391  47.61073 -122.33245     CBD-03"
      ]
     },
     "execution_count": 7,
     "metadata": {},
     "output_type": "execute_result"
    }
   ],
   "source": [
    "# parsing the json into a dataframe\n",
    "parsed_records = [\n",
    "    dict(\n",
    "        elevation=record[\"elevation\"],\n",
    "        lat=record[\"location\"][\"lat\"],\n",
    "        lng=record[\"location\"][\"lng\"]\n",
    "    )\n",
    "    for record in elevations\n",
    "]\n",
    "df_elevations = pd.DataFrame(parsed_records)\n",
    "df_elevations[\"station_id\"] = station_ids\n",
    "\n",
    "# sanity check\n",
    "assert np.allclose(df_elevations.lat, station.lat)\n",
    "assert np.allclose(df_elevations.lng, station.lng)\n",
    "\n",
    "# saving to csv\n",
    "df_elevations.to_csv(\"elevations.csv\", index=False)\n",
    "df_elevations.head()"
   ]
  }
 ],
 "metadata": {
  "kernelspec": {
   "display_name": "Python 3",
   "language": "python",
   "name": "python3"
  },
  "language_info": {
   "codemirror_mode": {
    "name": "ipython",
    "version": 3
   },
   "file_extension": ".py",
   "mimetype": "text/x-python",
   "name": "python",
   "nbconvert_exporter": "python",
   "pygments_lexer": "ipython3",
   "version": "3.6.8"
  }
 },
 "nbformat": 4,
 "nbformat_minor": 2
}
