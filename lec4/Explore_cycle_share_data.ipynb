{
 "cells": [
  {
   "cell_type": "markdown",
   "metadata": {},
   "source": [
    "# Explore cycle share data"
   ]
  },
  {
   "cell_type": "markdown",
   "metadata": {},
   "source": [
    "\n",
    "## Installation requirements\n",
    "\n",
    "You must install the following packages to follow this notebook:\n",
    "\n",
    "```bash\n",
    "conda install -c conda-forge altair vega_datasets vega\n",
    "conda install -c conda-forge ipyleaflet\n",
    "pip install dataset\n",
    "```"
   ]
  },
  {
   "cell_type": "markdown",
   "metadata": {},
   "source": [
    "# Import data\n",
    "\n",
    "The data was downloaded from the [Kaggle Datasets](https://www.kaggle.com/pronto/cycle-share-dataset) repository,\n",
    "and was originally provided by Pronto, the company that operates the cycle share system at Seattle, as part of an open data initiative.\n",
    "\n",
    "On the Kaggle repository you will find a detailed data description, reproduced here for the reader convenience.\n",
    "## Context\n",
    "\n",
    "The Pronto Cycle Share system consists of 500 bikes and 54 stations located in Seattle. Pronto provides open data on individual trips, stations, and daily weather.\n",
    "\n",
    "## Content\n",
    "\n",
    "There are 3 datasets that provide data on the stations, trips, and weather from 2014-2016.\n",
    "\n",
    "1. Station dataset\n",
    "    \n",
    "    - station_id: station ID number\n",
    "    - name: name of station\n",
    "    - lat: station latitude\n",
    "    - long: station longitude\n",
    "    - install_date: date that station was placed in service\n",
    "    - install_dockcount: number of docks at each station on the installation date\n",
    "    - modification_date: date that station was modified, resulting in a change in location or dock count\n",
    "    - current_dockcount: number of docks at each station on 8/31/2016\n",
    "    - decommission_date: date that station was placed out of service\n",
    "\n",
    "\n",
    "2. Trip dataset\n",
    "    \n",
    "    - trip_id: numeric ID of bike trip taken\n",
    "    - starttime: day and time trip started, in PST\n",
    "    - stoptime: day and time trip ended, in PST\n",
    "    - bike_id: ID attached to each bike\n",
    "    - tripduration: time of trip in seconds\n",
    "    - from_station_name: name of station where trip originated\n",
    "    - to_station_name: name of station where trip terminated\n",
    "    - from_station_id: ID of station where trip originated\n",
    "    - to_station_id: ID of station where trip terminated\n",
    "    - usertype: \"Short-Term Pass Holder\" is a rider who purchased a 24-Hour or 3-Day Pass; \"Member\" is a rider who purchased a Monthly or an Annual Membership\n",
    "    - gender: gender of rider\n",
    "    - birthyear: birth year of rider\n",
    "\n",
    "\n",
    "3. Weather dataset contains daily weather information in the service area"
   ]
  },
  {
   "cell_type": "code",
   "execution_count": 1,
   "metadata": {},
   "outputs": [],
   "source": [
    "# import the csv data in pandas \n",
    "import os\n",
    "import pandas as pd\n",
    "import numpy as np\n",
    "\n",
    "data_dir = \"cycle-share-dataset\"\n",
    "\n",
    "station = pd.read_csv(\n",
    "    os.path.join(data_dir, \"station.csv\"), \n",
    "    parse_dates=[\"install_date\",\"modification_date\",\"decommission_date\"]\n",
    ")\n",
    "\n",
    "trip = pd.read_csv(\n",
    "    os.path.join(data_dir, \"trip.csv\"), \n",
    "    parse_dates=[\"starttime\",\"stoptime\"],\n",
    "    skiprows=range(1,50794) # the first 50794 are duplicates ...\n",
    ")\n",
    "assert trip[\"trip_id\"].nunique()==trip.shape[0]\n",
    "\n",
    "weather = pd.read_csv(\n",
    "    os.path.join(data_dir, \"weather.csv\"), \n",
    "    parse_dates=[\"Date\"]\n",
    ")"
   ]
  },
  {
   "cell_type": "markdown",
   "metadata": {},
   "source": [
    "# Clean data\n",
    "\n",
    "Before using any data you should check it thoroughly ! Let's check for instance the `station` dataset. The data description already provides a lot of information:\n",
    "\n",
    "- the meaning (and therefore expected data-type) of each column\n",
    "- there are 54 stations, uniquely identified by `station_id`\n",
    "\n",
    "First let's see how many rows we have and list the columns along with their data-type."
   ]
  },
  {
   "cell_type": "code",
   "execution_count": 2,
   "metadata": {},
   "outputs": [
    {
     "name": "stdout",
     "output_type": "stream",
     "text": [
      "station: 58 rows 9 columns\n",
      "\n",
      "station_id                   object\n",
      "name                         object\n",
      "lat                         float64\n",
      "long                        float64\n",
      "install_date         datetime64[ns]\n",
      "install_dockcount             int64\n",
      "modification_date    datetime64[ns]\n",
      "current_dockcount             int64\n",
      "decommission_date    datetime64[ns]\n",
      "dtype: object\n"
     ]
    }
   ],
   "source": [
    "print(f\"station: {station.shape[0]} rows {station.shape[1]} columns\\n\")\n",
    "print(station.dtypes)"
   ]
  },
  {
   "cell_type": "markdown",
   "metadata": {},
   "source": [
    "We have 58 records and not 54. Are there any duplicated rows ? Let's how many distinct `station_id` we have:"
   ]
  },
  {
   "cell_type": "code",
   "execution_count": 3,
   "metadata": {},
   "outputs": [
    {
     "name": "stdout",
     "output_type": "stream",
     "text": [
      "There are 58 distinct station_id\n"
     ]
    }
   ],
   "source": [
    "n_station_id = station[\"station_id\"].nunique()\n",
    "print(f\"There are {n_station_id} distinct station_id\")"
   ]
  },
  {
   "cell_type": "markdown",
   "metadata": {},
   "source": [
    "Ok, so we have no duplicate and exactly one record per `station_id`. There are in fact 58 stations in our dataset, not 54. \n",
    "\n",
    "Now let's take a look at the first rows:"
   ]
  },
  {
   "cell_type": "code",
   "execution_count": 4,
   "metadata": {
    "scrolled": true
   },
   "outputs": [
    {
     "data": {
      "text/html": [
       "<div>\n",
       "<style scoped>\n",
       "    .dataframe tbody tr th:only-of-type {\n",
       "        vertical-align: middle;\n",
       "    }\n",
       "\n",
       "    .dataframe tbody tr th {\n",
       "        vertical-align: top;\n",
       "    }\n",
       "\n",
       "    .dataframe thead th {\n",
       "        text-align: right;\n",
       "    }\n",
       "</style>\n",
       "<table border=\"1\" class=\"dataframe\">\n",
       "  <thead>\n",
       "    <tr style=\"text-align: right;\">\n",
       "      <th></th>\n",
       "      <th>station_id</th>\n",
       "      <th>name</th>\n",
       "      <th>lat</th>\n",
       "      <th>long</th>\n",
       "      <th>install_date</th>\n",
       "      <th>install_dockcount</th>\n",
       "      <th>modification_date</th>\n",
       "      <th>current_dockcount</th>\n",
       "      <th>decommission_date</th>\n",
       "    </tr>\n",
       "  </thead>\n",
       "  <tbody>\n",
       "    <tr>\n",
       "      <th>0</th>\n",
       "      <td>BT-01</td>\n",
       "      <td>3rd Ave &amp; Broad St</td>\n",
       "      <td>47.618418</td>\n",
       "      <td>-122.350964</td>\n",
       "      <td>2014-10-13</td>\n",
       "      <td>18</td>\n",
       "      <td>NaT</td>\n",
       "      <td>18</td>\n",
       "      <td>NaT</td>\n",
       "    </tr>\n",
       "    <tr>\n",
       "      <th>1</th>\n",
       "      <td>BT-03</td>\n",
       "      <td>2nd Ave &amp; Vine St</td>\n",
       "      <td>47.615829</td>\n",
       "      <td>-122.348564</td>\n",
       "      <td>2014-10-13</td>\n",
       "      <td>16</td>\n",
       "      <td>NaT</td>\n",
       "      <td>16</td>\n",
       "      <td>NaT</td>\n",
       "    </tr>\n",
       "    <tr>\n",
       "      <th>2</th>\n",
       "      <td>BT-04</td>\n",
       "      <td>6th Ave &amp; Blanchard St</td>\n",
       "      <td>47.616094</td>\n",
       "      <td>-122.341102</td>\n",
       "      <td>2014-10-13</td>\n",
       "      <td>16</td>\n",
       "      <td>NaT</td>\n",
       "      <td>16</td>\n",
       "      <td>NaT</td>\n",
       "    </tr>\n",
       "    <tr>\n",
       "      <th>3</th>\n",
       "      <td>BT-05</td>\n",
       "      <td>2nd Ave &amp; Blanchard St</td>\n",
       "      <td>47.613110</td>\n",
       "      <td>-122.344208</td>\n",
       "      <td>2014-10-13</td>\n",
       "      <td>14</td>\n",
       "      <td>NaT</td>\n",
       "      <td>14</td>\n",
       "      <td>NaT</td>\n",
       "    </tr>\n",
       "    <tr>\n",
       "      <th>4</th>\n",
       "      <td>CBD-03</td>\n",
       "      <td>7th Ave &amp; Union St</td>\n",
       "      <td>47.610731</td>\n",
       "      <td>-122.332447</td>\n",
       "      <td>2014-10-13</td>\n",
       "      <td>20</td>\n",
       "      <td>NaT</td>\n",
       "      <td>20</td>\n",
       "      <td>NaT</td>\n",
       "    </tr>\n",
       "  </tbody>\n",
       "</table>\n",
       "</div>"
      ],
      "text/plain": [
       "  station_id                    name        lat        long install_date  \\\n",
       "0      BT-01      3rd Ave & Broad St  47.618418 -122.350964   2014-10-13   \n",
       "1      BT-03       2nd Ave & Vine St  47.615829 -122.348564   2014-10-13   \n",
       "2      BT-04  6th Ave & Blanchard St  47.616094 -122.341102   2014-10-13   \n",
       "3      BT-05  2nd Ave & Blanchard St  47.613110 -122.344208   2014-10-13   \n",
       "4     CBD-03      7th Ave & Union St  47.610731 -122.332447   2014-10-13   \n",
       "\n",
       "   install_dockcount modification_date  current_dockcount decommission_date  \n",
       "0                 18               NaT                 18               NaT  \n",
       "1                 16               NaT                 16               NaT  \n",
       "2                 16               NaT                 16               NaT  \n",
       "3                 14               NaT                 14               NaT  \n",
       "4                 20               NaT                 20               NaT  "
      ]
     },
     "execution_count": 4,
     "metadata": {},
     "output_type": "execute_result"
    }
   ],
   "source": [
    "station.head(5)"
   ]
  },
  {
   "cell_type": "markdown",
   "metadata": {},
   "source": [
    "Note that all fields are consistent with the description: `lat` and `long` look like latitutde and longitude, `name` as a station name, the counts look like counts and dates like dates.\n",
    "\n",
    "However the `modification_date` and `decommission_date` are all missing in the first 5 rows: values are all `NaT` meaning Not-a-Time. For the dates let's see how many missing values we have, and also the min and max date: "
   ]
  },
  {
   "cell_type": "code",
   "execution_count": 5,
   "metadata": {},
   "outputs": [
    {
     "name": "stdout",
     "output_type": "stream",
     "text": [
      "install_date: 0 are missing min=2014-10-13 00:00:00 max=2016-08-09 00:00:00\n",
      "modification_date: 41 are missing min=2015-02-20 00:00:00 max=2016-08-09 00:00:00\n",
      "decommission_date: 54 are missing min=2015-10-29 00:00:00 max=2016-08-09 00:00:00\n"
     ]
    }
   ],
   "source": [
    "for date_column in [\"install_date\", \"modification_date\", \"decommission_date\"]:\n",
    "    n_missing = station[date_column].isnull().sum()\n",
    "    date_min = station[date_column].min()\n",
    "    date_max = station[date_column].max()\n",
    "    print(f\"{date_column}: {n_missing} are missing min={date_min} max={date_max}\")"
   ]
  },
  {
   "cell_type": "markdown",
   "metadata": {},
   "source": [
    "That makes sense: all have an installation date, a few have been modified and only 58 - 54 = 4 were decommissioned.\n",
    "Probably the 54 in the data description was referring to stations still in service.\n",
    "\n",
    "We can list here the 4 out of service stations:"
   ]
  },
  {
   "cell_type": "code",
   "execution_count": 6,
   "metadata": {},
   "outputs": [
    {
     "data": {
      "text/html": [
       "<div>\n",
       "<style scoped>\n",
       "    .dataframe tbody tr th:only-of-type {\n",
       "        vertical-align: middle;\n",
       "    }\n",
       "\n",
       "    .dataframe tbody tr th {\n",
       "        vertical-align: top;\n",
       "    }\n",
       "\n",
       "    .dataframe thead th {\n",
       "        text-align: right;\n",
       "    }\n",
       "</style>\n",
       "<table border=\"1\" class=\"dataframe\">\n",
       "  <thead>\n",
       "    <tr style=\"text-align: right;\">\n",
       "      <th></th>\n",
       "      <th>station_id</th>\n",
       "      <th>name</th>\n",
       "      <th>lat</th>\n",
       "      <th>long</th>\n",
       "      <th>install_date</th>\n",
       "      <th>install_dockcount</th>\n",
       "      <th>modification_date</th>\n",
       "      <th>current_dockcount</th>\n",
       "      <th>decommission_date</th>\n",
       "    </tr>\n",
       "  </thead>\n",
       "  <tbody>\n",
       "    <tr>\n",
       "      <th>10</th>\n",
       "      <td>CD-01</td>\n",
       "      <td>12th Ave &amp; E Yesler Way</td>\n",
       "      <td>47.602103</td>\n",
       "      <td>-122.316923</td>\n",
       "      <td>2015-05-22</td>\n",
       "      <td>16</td>\n",
       "      <td>2016-08-09</td>\n",
       "      <td>0</td>\n",
       "      <td>2016-08-09</td>\n",
       "    </tr>\n",
       "    <tr>\n",
       "      <th>26</th>\n",
       "      <td>FH-01</td>\n",
       "      <td>Frye Art Museum / Terry Ave &amp; Columbia St</td>\n",
       "      <td>47.607281</td>\n",
       "      <td>-122.324783</td>\n",
       "      <td>2014-10-13</td>\n",
       "      <td>16</td>\n",
       "      <td>2016-03-18</td>\n",
       "      <td>0</td>\n",
       "      <td>2016-03-18</td>\n",
       "    </tr>\n",
       "    <tr>\n",
       "      <th>38</th>\n",
       "      <td>SLU-18</td>\n",
       "      <td>Dexter Ave &amp; Denny Way</td>\n",
       "      <td>47.618285</td>\n",
       "      <td>-122.342205</td>\n",
       "      <td>2014-10-13</td>\n",
       "      <td>20</td>\n",
       "      <td>2015-11-02</td>\n",
       "      <td>0</td>\n",
       "      <td>2016-07-02</td>\n",
       "    </tr>\n",
       "    <tr>\n",
       "      <th>46</th>\n",
       "      <td>UW-01</td>\n",
       "      <td>UW McCarty Hall / Whitman Ct</td>\n",
       "      <td>47.660268</td>\n",
       "      <td>-122.304826</td>\n",
       "      <td>2014-10-13</td>\n",
       "      <td>16</td>\n",
       "      <td>2015-10-29</td>\n",
       "      <td>0</td>\n",
       "      <td>2015-10-29</td>\n",
       "    </tr>\n",
       "  </tbody>\n",
       "</table>\n",
       "</div>"
      ],
      "text/plain": [
       "   station_id                                       name        lat  \\\n",
       "10      CD-01                    12th Ave & E Yesler Way  47.602103   \n",
       "26      FH-01  Frye Art Museum / Terry Ave & Columbia St  47.607281   \n",
       "38     SLU-18                     Dexter Ave & Denny Way  47.618285   \n",
       "46      UW-01               UW McCarty Hall / Whitman Ct  47.660268   \n",
       "\n",
       "          long install_date  install_dockcount modification_date  \\\n",
       "10 -122.316923   2015-05-22                 16        2016-08-09   \n",
       "26 -122.324783   2014-10-13                 16        2016-03-18   \n",
       "38 -122.342205   2014-10-13                 20        2015-11-02   \n",
       "46 -122.304826   2014-10-13                 16        2015-10-29   \n",
       "\n",
       "    current_dockcount decommission_date  \n",
       "10                  0        2016-08-09  \n",
       "26                  0        2016-03-18  \n",
       "38                  0        2016-07-02  \n",
       "46                  0        2015-10-29  "
      ]
     },
     "execution_count": 6,
     "metadata": {},
     "output_type": "execute_result"
    }
   ],
   "source": [
    "station[station.decommission_date.notnull()]"
   ]
  },
  {
   "cell_type": "markdown",
   "metadata": {},
   "source": [
    "What about the remaining numeric columns `lat`, `long`, `install_dockcount` and `current_dockcount`, does the range of values make sense ? Are their any missing values ? Let's use the `describe()` method to get a quick statistical summary for each column, and `.T` to transpose the summary stats dataframe."
   ]
  },
  {
   "cell_type": "code",
   "execution_count": 7,
   "metadata": {},
   "outputs": [
    {
     "data": {
      "text/html": [
       "<div>\n",
       "<style scoped>\n",
       "    .dataframe tbody tr th:only-of-type {\n",
       "        vertical-align: middle;\n",
       "    }\n",
       "\n",
       "    .dataframe tbody tr th {\n",
       "        vertical-align: top;\n",
       "    }\n",
       "\n",
       "    .dataframe thead th {\n",
       "        text-align: right;\n",
       "    }\n",
       "</style>\n",
       "<table border=\"1\" class=\"dataframe\">\n",
       "  <thead>\n",
       "    <tr style=\"text-align: right;\">\n",
       "      <th></th>\n",
       "      <th>count</th>\n",
       "      <th>mean</th>\n",
       "      <th>std</th>\n",
       "      <th>min</th>\n",
       "      <th>25%</th>\n",
       "      <th>50%</th>\n",
       "      <th>75%</th>\n",
       "      <th>max</th>\n",
       "    </tr>\n",
       "  </thead>\n",
       "  <tbody>\n",
       "    <tr>\n",
       "      <th>lat</th>\n",
       "      <td>58.0</td>\n",
       "      <td>47.624796</td>\n",
       "      <td>0.019066</td>\n",
       "      <td>47.598488</td>\n",
       "      <td>47.613239</td>\n",
       "      <td>47.618591</td>\n",
       "      <td>47.627712</td>\n",
       "      <td>47.666145</td>\n",
       "    </tr>\n",
       "    <tr>\n",
       "      <th>long</th>\n",
       "      <td>58.0</td>\n",
       "      <td>-122.327242</td>\n",
       "      <td>0.014957</td>\n",
       "      <td>-122.355230</td>\n",
       "      <td>-122.338735</td>\n",
       "      <td>-122.328207</td>\n",
       "      <td>-122.316691</td>\n",
       "      <td>-122.284119</td>\n",
       "    </tr>\n",
       "    <tr>\n",
       "      <th>install_dockcount</th>\n",
       "      <td>58.0</td>\n",
       "      <td>17.586207</td>\n",
       "      <td>3.060985</td>\n",
       "      <td>12.000000</td>\n",
       "      <td>16.000000</td>\n",
       "      <td>18.000000</td>\n",
       "      <td>18.000000</td>\n",
       "      <td>30.000000</td>\n",
       "    </tr>\n",
       "    <tr>\n",
       "      <th>current_dockcount</th>\n",
       "      <td>58.0</td>\n",
       "      <td>16.517241</td>\n",
       "      <td>5.117021</td>\n",
       "      <td>0.000000</td>\n",
       "      <td>16.000000</td>\n",
       "      <td>18.000000</td>\n",
       "      <td>18.000000</td>\n",
       "      <td>26.000000</td>\n",
       "    </tr>\n",
       "  </tbody>\n",
       "</table>\n",
       "</div>"
      ],
      "text/plain": [
       "                   count        mean       std         min         25%  \\\n",
       "lat                 58.0   47.624796  0.019066   47.598488   47.613239   \n",
       "long                58.0 -122.327242  0.014957 -122.355230 -122.338735   \n",
       "install_dockcount   58.0   17.586207  3.060985   12.000000   16.000000   \n",
       "current_dockcount   58.0   16.517241  5.117021    0.000000   16.000000   \n",
       "\n",
       "                          50%         75%         max  \n",
       "lat                 47.618591   47.627712   47.666145  \n",
       "long              -122.328207 -122.316691 -122.284119  \n",
       "install_dockcount   18.000000   18.000000   30.000000  \n",
       "current_dockcount   18.000000   18.000000   26.000000  "
      ]
     },
     "execution_count": 7,
     "metadata": {},
     "output_type": "execute_result"
    }
   ],
   "source": [
    "station.describe().T"
   ]
  },
  {
   "cell_type": "markdown",
   "metadata": {},
   "source": [
    "They are no missing values (**count** counts the number of non-null values), and every range of values makes sense. For instance, Seattle is located at $47°36′N-122°19′W$.\n",
    "\n",
    "Now let's check the `trip` dataset. If the start and stop time are consitent we expect that \n",
    "\n",
    "- `stoptime` $>$ `startime`,\n",
    "- `tripduration` $\\simeq$ `stoptime` $-$ `startime` (in seconds).\n",
    "\n",
    "But actually there are a few errors !"
   ]
  },
  {
   "cell_type": "code",
   "execution_count": 8,
   "metadata": {},
   "outputs": [
    {
     "name": "stdout",
     "output_type": "stream",
     "text": [
      "trip: 236065 records\n",
      "The 7 trips for which stoptime < startime:\n"
     ]
    },
    {
     "data": {
      "text/html": [
       "<div>\n",
       "<style scoped>\n",
       "    .dataframe tbody tr th:only-of-type {\n",
       "        vertical-align: middle;\n",
       "    }\n",
       "\n",
       "    .dataframe tbody tr th {\n",
       "        vertical-align: top;\n",
       "    }\n",
       "\n",
       "    .dataframe thead th {\n",
       "        text-align: right;\n",
       "    }\n",
       "</style>\n",
       "<table border=\"1\" class=\"dataframe\">\n",
       "  <thead>\n",
       "    <tr style=\"text-align: right;\">\n",
       "      <th></th>\n",
       "      <th>trip_id</th>\n",
       "      <th>starttime</th>\n",
       "      <th>stoptime</th>\n",
       "      <th>bike_id</th>\n",
       "      <th>tripduration</th>\n",
       "      <th>from_station_name</th>\n",
       "      <th>to_station_name</th>\n",
       "      <th>from_station_id</th>\n",
       "      <th>to_station_id</th>\n",
       "      <th>usertype</th>\n",
       "      <th>gender</th>\n",
       "      <th>birthyear</th>\n",
       "    </tr>\n",
       "  </thead>\n",
       "  <tbody>\n",
       "    <tr>\n",
       "      <th>7040</th>\n",
       "      <td>8660</td>\n",
       "      <td>2014-11-02 01:29:00</td>\n",
       "      <td>2014-11-02 01:12:00</td>\n",
       "      <td>SEA00384</td>\n",
       "      <td>2571.017</td>\n",
       "      <td>Pine St &amp; 9th Ave</td>\n",
       "      <td>Westlake Ave &amp; 6th Ave</td>\n",
       "      <td>SLU-16</td>\n",
       "      <td>SLU-15</td>\n",
       "      <td>Short-Term Pass Holder</td>\n",
       "      <td>NaN</td>\n",
       "      <td>NaN</td>\n",
       "    </tr>\n",
       "    <tr>\n",
       "      <th>7043</th>\n",
       "      <td>8663</td>\n",
       "      <td>2014-11-02 01:29:00</td>\n",
       "      <td>2014-11-02 01:11:00</td>\n",
       "      <td>SEA00205</td>\n",
       "      <td>2513.548</td>\n",
       "      <td>Pine St &amp; 9th Ave</td>\n",
       "      <td>Westlake Ave &amp; 6th Ave</td>\n",
       "      <td>SLU-16</td>\n",
       "      <td>SLU-15</td>\n",
       "      <td>Short-Term Pass Holder</td>\n",
       "      <td>NaN</td>\n",
       "      <td>NaN</td>\n",
       "    </tr>\n",
       "    <tr>\n",
       "      <th>7044</th>\n",
       "      <td>8666</td>\n",
       "      <td>2014-11-02 01:31:00</td>\n",
       "      <td>2014-11-02 01:11:00</td>\n",
       "      <td>SEA00430</td>\n",
       "      <td>2398.734</td>\n",
       "      <td>Pine St &amp; 9th Ave</td>\n",
       "      <td>Westlake Ave &amp; 6th Ave</td>\n",
       "      <td>SLU-16</td>\n",
       "      <td>SLU-15</td>\n",
       "      <td>Short-Term Pass Holder</td>\n",
       "      <td>NaN</td>\n",
       "      <td>NaN</td>\n",
       "    </tr>\n",
       "    <tr>\n",
       "      <th>7045</th>\n",
       "      <td>8667</td>\n",
       "      <td>2014-11-02 01:37:00</td>\n",
       "      <td>2014-11-02 01:12:00</td>\n",
       "      <td>SEA00112</td>\n",
       "      <td>2074.203</td>\n",
       "      <td>Pine St &amp; 9th Ave</td>\n",
       "      <td>Westlake Ave &amp; 6th Ave</td>\n",
       "      <td>SLU-16</td>\n",
       "      <td>SLU-15</td>\n",
       "      <td>Short-Term Pass Holder</td>\n",
       "      <td>NaN</td>\n",
       "      <td>NaN</td>\n",
       "    </tr>\n",
       "    <tr>\n",
       "      <th>7046</th>\n",
       "      <td>8669</td>\n",
       "      <td>2014-11-02 01:44:00</td>\n",
       "      <td>2014-11-02 01:04:00</td>\n",
       "      <td>SEA00247</td>\n",
       "      <td>1201.414</td>\n",
       "      <td>2nd Ave &amp; Vine St</td>\n",
       "      <td>Key Arena / 1st Ave N &amp; Harrison St</td>\n",
       "      <td>BT-03</td>\n",
       "      <td>SLU-19</td>\n",
       "      <td>Member</td>\n",
       "      <td>Male</td>\n",
       "      <td>1989.0</td>\n",
       "    </tr>\n",
       "    <tr>\n",
       "      <th>7047</th>\n",
       "      <td>8670</td>\n",
       "      <td>2014-11-02 01:52:00</td>\n",
       "      <td>2014-11-02 01:07:00</td>\n",
       "      <td>SEA00460</td>\n",
       "      <td>918.994</td>\n",
       "      <td>2nd Ave &amp; Vine St</td>\n",
       "      <td>Summit Ave &amp; E Denny Way</td>\n",
       "      <td>BT-03</td>\n",
       "      <td>CH-01</td>\n",
       "      <td>Member</td>\n",
       "      <td>Male</td>\n",
       "      <td>1985.0</td>\n",
       "    </tr>\n",
       "    <tr>\n",
       "      <th>7048</th>\n",
       "      <td>8672</td>\n",
       "      <td>2014-11-02 01:59:00</td>\n",
       "      <td>2014-11-02 01:25:00</td>\n",
       "      <td>SEA00481</td>\n",
       "      <td>1565.225</td>\n",
       "      <td>UW Magnuson Health Sciences Center Rotunda / C...</td>\n",
       "      <td>Children's Hospital / Sandpoint Way NE &amp; 40th ...</td>\n",
       "      <td>UW-10</td>\n",
       "      <td>DPD-03</td>\n",
       "      <td>Short-Term Pass Holder</td>\n",
       "      <td>NaN</td>\n",
       "      <td>NaN</td>\n",
       "    </tr>\n",
       "  </tbody>\n",
       "</table>\n",
       "</div>"
      ],
      "text/plain": [
       "      trip_id           starttime            stoptime   bike_id  tripduration  \\\n",
       "7040     8660 2014-11-02 01:29:00 2014-11-02 01:12:00  SEA00384      2571.017   \n",
       "7043     8663 2014-11-02 01:29:00 2014-11-02 01:11:00  SEA00205      2513.548   \n",
       "7044     8666 2014-11-02 01:31:00 2014-11-02 01:11:00  SEA00430      2398.734   \n",
       "7045     8667 2014-11-02 01:37:00 2014-11-02 01:12:00  SEA00112      2074.203   \n",
       "7046     8669 2014-11-02 01:44:00 2014-11-02 01:04:00  SEA00247      1201.414   \n",
       "7047     8670 2014-11-02 01:52:00 2014-11-02 01:07:00  SEA00460       918.994   \n",
       "7048     8672 2014-11-02 01:59:00 2014-11-02 01:25:00  SEA00481      1565.225   \n",
       "\n",
       "                                      from_station_name  \\\n",
       "7040                                  Pine St & 9th Ave   \n",
       "7043                                  Pine St & 9th Ave   \n",
       "7044                                  Pine St & 9th Ave   \n",
       "7045                                  Pine St & 9th Ave   \n",
       "7046                                  2nd Ave & Vine St   \n",
       "7047                                  2nd Ave & Vine St   \n",
       "7048  UW Magnuson Health Sciences Center Rotunda / C...   \n",
       "\n",
       "                                        to_station_name from_station_id  \\\n",
       "7040                             Westlake Ave & 6th Ave          SLU-16   \n",
       "7043                             Westlake Ave & 6th Ave          SLU-16   \n",
       "7044                             Westlake Ave & 6th Ave          SLU-16   \n",
       "7045                             Westlake Ave & 6th Ave          SLU-16   \n",
       "7046                Key Arena / 1st Ave N & Harrison St           BT-03   \n",
       "7047                           Summit Ave & E Denny Way           BT-03   \n",
       "7048  Children's Hospital / Sandpoint Way NE & 40th ...           UW-10   \n",
       "\n",
       "     to_station_id                usertype gender  birthyear  \n",
       "7040        SLU-15  Short-Term Pass Holder    NaN        NaN  \n",
       "7043        SLU-15  Short-Term Pass Holder    NaN        NaN  \n",
       "7044        SLU-15  Short-Term Pass Holder    NaN        NaN  \n",
       "7045        SLU-15  Short-Term Pass Holder    NaN        NaN  \n",
       "7046        SLU-19                  Member   Male     1989.0  \n",
       "7047         CH-01                  Member   Male     1985.0  \n",
       "7048        DPD-03  Short-Term Pass Holder    NaN        NaN  "
      ]
     },
     "execution_count": 8,
     "metadata": {},
     "output_type": "execute_result"
    }
   ],
   "source": [
    "print(f\"trip: {trip.shape[0]} records\")\n",
    "# count number of trips where stoptime < starttime\n",
    "n_time_travel = (trip[\"stoptime\"] < trip[\"starttime\"]).sum()\n",
    "print(f\"The {n_time_travel} trips for which stoptime < startime:\")\n",
    "# show the few outliers\n",
    "trip.query(\"stoptime < starttime\")"
   ]
  },
  {
   "cell_type": "code",
   "execution_count": 9,
   "metadata": {},
   "outputs": [
    {
     "name": "stdout",
     "output_type": "stream",
     "text": [
      "Trips with over 1min difference between stoptime-starttime and tripduration\n"
     ]
    },
    {
     "data": {
      "text/html": [
       "<div>\n",
       "<style scoped>\n",
       "    .dataframe tbody tr th:only-of-type {\n",
       "        vertical-align: middle;\n",
       "    }\n",
       "\n",
       "    .dataframe tbody tr th {\n",
       "        vertical-align: top;\n",
       "    }\n",
       "\n",
       "    .dataframe thead th {\n",
       "        text-align: right;\n",
       "    }\n",
       "</style>\n",
       "<table border=\"1\" class=\"dataframe\">\n",
       "  <thead>\n",
       "    <tr style=\"text-align: right;\">\n",
       "      <th></th>\n",
       "      <th>trip_id</th>\n",
       "      <th>starttime</th>\n",
       "      <th>stoptime</th>\n",
       "      <th>bike_id</th>\n",
       "      <th>tripduration</th>\n",
       "      <th>from_station_name</th>\n",
       "      <th>to_station_name</th>\n",
       "      <th>from_station_id</th>\n",
       "      <th>to_station_id</th>\n",
       "      <th>usertype</th>\n",
       "      <th>gender</th>\n",
       "      <th>birthyear</th>\n",
       "      <th>computed_duration</th>\n",
       "      <th>over_1min</th>\n",
       "    </tr>\n",
       "  </thead>\n",
       "  <tbody>\n",
       "    <tr>\n",
       "      <th>7041</th>\n",
       "      <td>8661</td>\n",
       "      <td>2014-11-02 01:29:00</td>\n",
       "      <td>2014-11-02 01:35:00</td>\n",
       "      <td>SEA00371</td>\n",
       "      <td>3986.146</td>\n",
       "      <td>Cal Anderson Park / 11th Ave &amp; Pine St</td>\n",
       "      <td>Cal Anderson Park / 11th Ave &amp; Pine St</td>\n",
       "      <td>CH-08</td>\n",
       "      <td>CH-08</td>\n",
       "      <td>Short-Term Pass Holder</td>\n",
       "      <td>NaN</td>\n",
       "      <td>NaN</td>\n",
       "      <td>360</td>\n",
       "      <td>True</td>\n",
       "    </tr>\n",
       "    <tr>\n",
       "      <th>7042</th>\n",
       "      <td>8662</td>\n",
       "      <td>2014-11-02 01:29:00</td>\n",
       "      <td>2014-11-02 01:35:00</td>\n",
       "      <td>SEA00170</td>\n",
       "      <td>3978.278</td>\n",
       "      <td>Cal Anderson Park / 11th Ave &amp; Pine St</td>\n",
       "      <td>Cal Anderson Park / 11th Ave &amp; Pine St</td>\n",
       "      <td>CH-08</td>\n",
       "      <td>CH-08</td>\n",
       "      <td>Short-Term Pass Holder</td>\n",
       "      <td>NaN</td>\n",
       "      <td>NaN</td>\n",
       "      <td>360</td>\n",
       "      <td>True</td>\n",
       "    </tr>\n",
       "  </tbody>\n",
       "</table>\n",
       "</div>"
      ],
      "text/plain": [
       "      trip_id           starttime            stoptime   bike_id  tripduration  \\\n",
       "7041     8661 2014-11-02 01:29:00 2014-11-02 01:35:00  SEA00371      3986.146   \n",
       "7042     8662 2014-11-02 01:29:00 2014-11-02 01:35:00  SEA00170      3978.278   \n",
       "\n",
       "                           from_station_name  \\\n",
       "7041  Cal Anderson Park / 11th Ave & Pine St   \n",
       "7042  Cal Anderson Park / 11th Ave & Pine St   \n",
       "\n",
       "                             to_station_name from_station_id to_station_id  \\\n",
       "7041  Cal Anderson Park / 11th Ave & Pine St           CH-08         CH-08   \n",
       "7042  Cal Anderson Park / 11th Ave & Pine St           CH-08         CH-08   \n",
       "\n",
       "                    usertype gender  birthyear  computed_duration  over_1min  \n",
       "7041  Short-Term Pass Holder    NaN        NaN                360       True  \n",
       "7042  Short-Term Pass Holder    NaN        NaN                360       True  "
      ]
     },
     "execution_count": 9,
     "metadata": {},
     "output_type": "execute_result"
    }
   ],
   "source": [
    "# let's recompute the trip duration in seconds from stop and start time:\n",
    "trip[\"computed_duration\"] = (trip[\"stoptime\"]-trip[\"starttime\"]).dt.seconds\n",
    "# and see if there is more than a 1min = 60s difference with tripduration:\n",
    "trip[\"over_1min\"] = (trip[\"computed_duration\"]-trip[\"tripduration\"]).abs() > 60\n",
    "# show the few outliers\n",
    "print(\"Trips with over 1min difference between stoptime-starttime and tripduration\")\n",
    "# we focus on the stoptime > startime trips, the stoptime < startime trips are shown just above\n",
    "trip.query(\"(stoptime > starttime) & over_1min\")"
   ]
  },
  {
   "cell_type": "markdown",
   "metadata": {},
   "source": [
    "There are actually very few errors (9 out of 236065). Let's filter out the bad rows, and drop the utility columns\n",
    "`computed_duration` and `over_1min` we have created for the sanity check."
   ]
  },
  {
   "cell_type": "code",
   "execution_count": 10,
   "metadata": {},
   "outputs": [
    {
     "name": "stdout",
     "output_type": "stream",
     "text": [
      "Filtered trip dataset: we now have 236056 records\n"
     ]
    }
   ],
   "source": [
    "# tilde is the logical NOT operator\n",
    "trip = trip.query(\"(stoptime > starttime) & ~over_1min\")\n",
    "# dropping columns\n",
    "trip = trip.drop(\n",
    "    columns=[\"computed_duration\", \"over_1min\"]\n",
    ")\n",
    "print(f\"Filtered trip dataset: we now have {trip.shape[0]} records\")"
   ]
  },
  {
   "cell_type": "markdown",
   "metadata": {},
   "source": [
    "Let's do one final check. You may have notice that the trip dataset contains the ID of the stations where the trip originated and terminated. But do we recover every `station_id` of the `trip` dataset in the `station` dataset ?"
   ]
  },
  {
   "cell_type": "code",
   "execution_count": 11,
   "metadata": {},
   "outputs": [
    {
     "name": "stdout",
     "output_type": "stream",
     "text": [
      "3 / 61 ids not recovered in station ['Pronto shop 2', 'Pronto shop', '8D OPS 02']\n"
     ]
    }
   ],
   "source": [
    "station_ids = station[\"station_id\"].unique().tolist()\n",
    "from_station_ids = trip[\"from_station_id\"].unique().tolist()\n",
    "to_station_ids = trip[\"to_station_id\"].unique().tolist()\n",
    "trip_station_ids = set(from_station_ids + to_station_ids)\n",
    "not_in_station = [\n",
    "    station_id for station_id in trip_station_ids\n",
    "    if station_id not in station_ids\n",
    "]\n",
    "print(\n",
    "    f\"{len(not_in_station)} / {len(trip_station_ids)} ids not recovered in station\", \n",
    "    not_in_station\n",
    ")"
   ]
  },
  {
   "cell_type": "markdown",
   "metadata": {},
   "source": [
    "These station ids indeed seem special, maybe they correspond to a repair / maintetance shop ?"
   ]
  },
  {
   "cell_type": "markdown",
   "metadata": {},
   "source": [
    "## Summary\n",
    "\n",
    "This dataset is very clean : all fields have a clear meaning that match the data type, no weird values, each row corresponds to exactly one station. Note that such high quality data is more the exception than the rule...\n",
    "\n",
    "Usually data is very messy, and you will spend a considerable amount of time cleaning it.\n",
    "Unfortunately people are relentlessly creative to mess things up: often each dataset is messy in its own unique way.\n",
    "Fields can be incoherent (start time $>$ end time), using $-1$ or $999$ as missing values, aberrant values, duplicated rows, unintelligble column names, etc."
   ]
  },
  {
   "cell_type": "markdown",
   "metadata": {},
   "source": [
    "## Exercise\n",
    "\n",
    "Your turn ! Check that:\n",
    "\n",
    "- each trip corresponds to a single record in the `trip` dataset (no duplicates)\n",
    "- the values for `gender`, `usertype` and `birthyear` make sense\n",
    "- the number of bikes agrees with the data description\n",
    "- the values in `weather` data make sense\n",
    "\n",
    "From wikipedia:\n",
    "- The dew point is the temperature to which air must be cooled to become saturated with water vapor.\n",
    "- A gust or wind gust is a brief increase in the speed of the wind, usually less than 20 seconds."
   ]
  },
  {
   "cell_type": "code",
   "execution_count": 14,
   "metadata": {},
   "outputs": [],
   "source": [
    "# %load exo1.py"
   ]
  },
  {
   "cell_type": "markdown",
   "metadata": {},
   "source": [
    "# Basic visualization"
   ]
  },
  {
   "cell_type": "markdown",
   "metadata": {},
   "source": [
    "# Reshape data"
   ]
  },
  {
   "cell_type": "markdown",
   "metadata": {},
   "source": [
    "# Advanced visualization"
   ]
  },
  {
   "cell_type": "code",
   "execution_count": null,
   "metadata": {},
   "outputs": [],
   "source": []
  }
 ],
 "metadata": {
  "hide_input": false,
  "kernelspec": {
   "display_name": "Python 3",
   "language": "python",
   "name": "python3"
  },
  "language_info": {
   "codemirror_mode": {
    "name": "ipython",
    "version": 3
   },
   "file_extension": ".py",
   "mimetype": "text/x-python",
   "name": "python",
   "nbconvert_exporter": "python",
   "pygments_lexer": "ipython3",
   "version": "3.6.7"
  },
  "toc": {
   "base_numbering": 1,
   "nav_menu": {},
   "number_sections": false,
   "sideBar": true,
   "skip_h1_title": false,
   "title_cell": "Table of Contents",
   "title_sidebar": "Contents",
   "toc_cell": false,
   "toc_position": {},
   "toc_section_display": true,
   "toc_window_display": false
  }
 },
 "nbformat": 4,
 "nbformat_minor": 2
}
