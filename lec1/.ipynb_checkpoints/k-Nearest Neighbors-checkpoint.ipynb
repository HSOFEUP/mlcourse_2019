{
 "cells": [
  {
   "cell_type": "code",
   "execution_count": 2,
   "metadata": {},
   "outputs": [],
   "source": [
    "%matplotlib inline\n",
    "import numpy as np\n",
    "import matplotlib.pyplot as plt\n",
    "plt.rcParams[\"figure.figsize\"] = (8, 8)\n",
    "plt.rcParams[\"font.size\"] = 14"
   ]
  },
  {
   "cell_type": "markdown",
   "metadata": {},
   "source": [
    "# Classification using k-Nearest Neighbors"
   ]
  },
  {
   "cell_type": "markdown",
   "metadata": {},
   "source": [
    "To start our journey in machine learning, we shall begin with the k-nearest neighbors algorithm (k-NN). It is a so-called non-parametric method used for classification and regression tasks. To illustrate data analysis, we shall start byt generating synthetic data from a simple generatice model, and see how good k-NN is when trying to classify these data.\n",
    "\n",
    "Let us first generate these synthetic data. Our *generative model* will be one of the favortie models of statisticians: the Gaussian mixture model (GMM). To spice things a little but, we shall generate the data point this way: for each class, we first sample 10 different centroids ${\\vec m}_k$ from $\\mathcal{N} ({\\vec m}_k; {\\vec 0}, I_2)$, then pick centroids at random and sample the actual data ${\\vec x}_i$ from $\\mathcal{N} ({\\vec x}_i; {\\vec m}_k, \\frac{1}{5} I_2)$.\n",
    "\n",
    "We start by sampling the centroids and plotting them. Since we do this for pedagogical purpose, we shall consider points in two dimensions."
   ]
  },
  {
   "cell_type": "code",
   "execution_count": 4,
   "metadata": {},
   "outputs": [
    {
     "data": {
      "text/plain": [
       "Text(0.5,1,'Centroids')"
      ]
     },
     "execution_count": 4,
     "metadata": {},
     "output_type": "execute_result"
    },
    {
     "data": {
      "image/png": "[encoded data removed]",
      "text/plain": [
       "<Figure size 432x288 with 1 Axes>"
      ]
     },
     "metadata": {
      "needs_background": "light"
     },
     "output_type": "display_data"
    }
   ],
   "source": [
    "# Samples 10 centroids for each class from two different bivariate Normal distributions\n",
    "centroids_per_class = 10\n",
    "\n",
    "class0_centroids = [1, 0] + np.random.randn(centroids_per_class, 2)\n",
    "class1_centroids = [0, 1] + np.random.randn(centroids_per_class, 2)\n",
    "\n",
    "# Plot centroids\n",
    "plt.plot(class0_centroids[:, 0], class0_centroids[:, 1], \"o\", markersize=8)\n",
    "plt.plot(class1_centroids[:, 0], class1_centroids[:, 1], \"x\", markersize=8)\n",
    "plt.title(\"Centroids\")"
   ]
  },
  {
   "cell_type": "markdown",
   "metadata": {},
   "source": [
    "Once we have the centroids we can sample the actual data: we will sample many points arround these centroids with a Gaussian distribution."
   ]
  },
  {
   "cell_type": "code",
   "execution_count": 5,
   "metadata": {},
   "outputs": [
    {
     "data": {
      "text/plain": [
       "Text(0.5,1,'Samples')"
      ]
     },
     "execution_count": 5,
     "metadata": {},
     "output_type": "execute_result"
    },
    {
     "data": {
      "image/png": "[encoded data removed]",
      "text/plain": [
       "<Figure size 432x288 with 1 Axes>"
      ]
     },
     "metadata": {
      "needs_background": "light"
     },
     "output_type": "display_data"
    }
   ],
   "source": [
    "samples_per_class = 100\n",
    "\n",
    "# Sample actual data sampling from Normal distributions positioned around the centroids\n",
    "class0_labels = np.random.randint(10, size = samples_per_class)\n",
    "class1_labels = np.random.randint(10, size = samples_per_class)\n",
    "\n",
    "class0_samples = class0_centroids[class0_labels, :] + np.sqrt(1. / 5) * np.random.randn(samples_per_class, 2)\n",
    "class1_samples = class1_centroids[class1_labels, :] + np.sqrt(1. / 5) * np.random.randn(samples_per_class, 2)\n",
    "\n",
    "# Plot data\n",
    "plt.plot(class0_samples[:, 0], class0_samples[:, 1], \"o\", markersize=8)\n",
    "plt.plot(class1_samples[:, 0], class1_samples[:, 1], \"x\", markersize=8)\n",
    "plt.title(\"Samples\")"
   ]
  },
  {
   "cell_type": "markdown",
   "metadata": {},
   "source": [
    "This is the problem we want to solve: we are given these points and we want to find a decision boundary that ensures generalization, i.e. that we are gonna be able to correctly classify new samples once they are given to us (for these new points, we do not know the label).\n",
    "\n",
    "Let us group the data in a nice way. For binary classification problems like this one, the way data is usually arranged is in\n",
    "\n",
    "- a feature matrix $X$ of size $N \\times P$, where $N$ is the number of samples and $P$ is the number of features (in our case $N = 200$ and $P = 2$);\n",
    "- a label vector $y \\in \\{0, 1\\}^N$ saying to which class each sample belongs to."
   ]
  },
  {
   "cell_type": "code",
   "execution_count": 6,
   "metadata": {},
   "outputs": [
    {
     "name": "stdout",
     "output_type": "stream",
     "text": [
      "[[-9.21387907e-01  1.95645575e+00]\n",
      " [ 1.01950424e+00  1.30998267e+00]\n",
      " [-1.42954735e+00  5.71760160e-01]\n",
      " [ 2.70894360e+00  4.44111083e-01]\n",
      " [ 2.00931648e+00 -2.68592345e+00]\n",
      " [-6.73146735e-01  8.29243146e-01]\n",
      " [ 2.13386984e+00  2.04131629e-01]\n",
      " [-2.24827990e-01  2.35356307e+00]\n",
      " [ 1.61735883e+00 -3.87429387e+00]\n",
      " [ 3.45327381e-01  2.95617301e+00]\n",
      " [ 1.00639392e+00  7.16843090e-01]\n",
      " [ 1.50008108e+00  3.19351599e-01]\n",
      " [-8.24554522e-01  5.26395869e-01]\n",
      " [ 2.22517563e+00 -4.49457943e-01]\n",
      " [ 2.14006169e+00 -2.50826230e+00]\n",
      " [ 4.74114403e-01  2.05020882e+00]\n",
      " [ 1.99267560e+00 -3.43343058e+00]\n",
      " [ 1.20918849e+00 -1.31835958e+00]\n",
      " [-1.43320321e+00  2.96825685e-01]\n",
      " [ 2.71349675e+00 -3.13039960e+00]\n",
      " [ 1.65686875e+00  1.87587843e+00]\n",
      " [ 2.33758793e+00 -3.19087592e+00]\n",
      " [ 1.46224924e+00  1.11395470e+00]\n",
      " [ 1.92585508e+00  3.85084195e-01]\n",
      " [ 6.27400904e-01  5.01206584e-01]\n",
      " [ 1.28458639e+00 -1.14242178e+00]\n",
      " [ 6.93136003e-01  6.29064108e-01]\n",
      " [ 1.09369041e+00  1.21032894e+00]\n",
      " [-1.11433363e+00  1.09782587e+00]\n",
      " [-1.15236187e+00  3.49433976e-01]\n",
      " [ 1.94230495e+00 -3.26276369e+00]\n",
      " [ 1.22995947e+00 -8.70982706e-01]\n",
      " [ 6.55311076e-01  1.43361313e+00]\n",
      " [ 1.27368313e+00 -3.45409686e-01]\n",
      " [ 3.31766859e+00  3.84436550e-01]\n",
      " [ 1.88430176e+00 -1.65424537e-01]\n",
      " [ 4.04629076e-01  6.71024749e-01]\n",
      " [ 1.36934903e+00 -4.90607637e-01]\n",
      " [-5.37325479e-01  1.41169264e+00]\n",
      " [ 2.04103019e+00 -9.24303783e-01]\n",
      " [ 2.29790119e+00 -3.54804459e+00]\n",
      " [ 2.68112701e+00 -2.98697053e+00]\n",
      " [ 7.80577260e-01  2.23356012e+00]\n",
      " [ 8.76840666e-01 -1.17992938e+00]\n",
      " [ 1.58403519e+00  2.26886859e+00]\n",
      " [ 1.50846338e+00  2.65386433e-01]\n",
      " [ 2.63747514e+00 -3.95872961e+00]\n",
      " [ 1.21218988e+00 -2.75888395e+00]\n",
      " [ 6.67167331e-01 -1.52250862e+00]\n",
      " [ 1.26890175e+00  3.68374513e+00]\n",
      " [-8.77081165e-01  4.33513017e-01]\n",
      " [ 1.35695797e+00  1.04797804e+00]\n",
      " [ 1.41740532e+00  4.28238739e-01]\n",
      " [ 6.90231467e-01  9.44482986e-01]\n",
      " [ 2.22276534e+00 -3.05306104e+00]\n",
      " [ 1.05086993e+00 -1.48430105e+00]\n",
      " [-2.65240001e-01  2.49967982e+00]\n",
      " [ 1.57041354e+00 -2.94349029e+00]\n",
      " [ 1.09975631e+00  9.32304829e-01]\n",
      " [ 1.22161703e+00  2.32373788e+00]\n",
      " [ 2.05020036e+00 -1.53326026e-01]\n",
      " [ 1.44102489e+00 -1.36419598e+00]\n",
      " [-5.89533248e-01  1.27317854e+00]\n",
      " [ 1.11507626e+00  2.18960285e-01]\n",
      " [ 1.72207572e+00 -3.17869373e+00]\n",
      " [ 1.96751984e+00 -1.79455699e-01]\n",
      " [-1.35317465e+00  3.53233286e-01]\n",
      " [ 2.25759327e+00 -2.50819049e+00]\n",
      " [ 1.48998683e+00  5.85840454e-01]\n",
      " [ 1.23431293e+00  1.23569600e+00]\n",
      " [ 6.94719295e-01  2.51854683e+00]\n",
      " [ 1.45499118e+00 -2.31565064e-01]\n",
      " [ 1.37506660e+00  1.83536830e+00]\n",
      " [ 4.67468894e-01  2.06963524e+00]\n",
      " [ 1.69016048e+00 -8.93303656e-01]\n",
      " [ 1.91404526e+00  1.58775432e-01]\n",
      " [ 1.16303472e+00  7.53405541e-01]\n",
      " [ 2.22324811e+00 -3.44154070e+00]\n",
      " [-5.57493659e-01  1.03888024e+00]\n",
      " [ 4.63001059e-01 -1.59154869e-01]\n",
      " [ 5.18469392e-01 -1.42733421e+00]\n",
      " [ 1.65519290e+00  1.57094733e-01]\n",
      " [ 1.88236630e+00 -1.18674649e+00]\n",
      " [ 7.44981443e-01 -7.57562822e-02]\n",
      " [-1.79597968e-01  1.03443755e+00]\n",
      " [ 1.38386525e+00  1.11212357e+00]\n",
      " [ 2.41012977e+00 -2.75424172e+00]\n",
      " [ 8.72161650e-01 -1.50404951e-01]\n",
      " [-4.32441925e-01  7.20442767e-01]\n",
      " [ 9.91638100e-01 -3.76777135e-01]\n",
      " [ 2.49068661e+00 -3.51623541e+00]\n",
      " [-1.37336130e+00  1.81267470e+00]\n",
      " [ 1.09961794e+00  5.07030200e-01]\n",
      " [ 8.10550468e-01 -8.50405899e-01]\n",
      " [ 6.88834012e-01  2.51416482e+00]\n",
      " [ 1.40978906e+00  1.02672184e+00]\n",
      " [ 1.24059942e+00  1.14841901e+00]\n",
      " [ 2.32776132e+00  2.26316430e-01]\n",
      " [ 2.67471472e+00 -3.11760028e+00]\n",
      " [-9.46887612e-02  2.53707604e+00]\n",
      " [ 2.45264735e-01  3.42950617e-01]\n",
      " [ 3.62713549e-01  1.82680276e+00]\n",
      " [-7.70764944e-01 -1.04148674e+00]\n",
      " [ 4.71347968e-02  1.58026743e+00]\n",
      " [-3.57071381e-01 -6.26590930e-01]\n",
      " [-1.00614392e+00  7.32746935e-02]\n",
      " [-7.00066978e-01 -7.46009578e-01]\n",
      " [-1.37329330e+00  2.18762865e+00]\n",
      " [-1.56833428e+00 -8.53599438e-01]\n",
      " [-1.05294847e+00 -1.00218126e+00]\n",
      " [-1.45634401e+00  5.18702200e-01]\n",
      " [-1.01565462e+00 -2.87738422e-01]\n",
      " [-1.15730680e+00  3.72191990e-01]\n",
      " [-7.58308549e-01  3.02448500e+00]\n",
      " [-1.47270991e+00 -2.28024088e-01]\n",
      " [ 1.66655808e+00  1.62945880e+00]\n",
      " [-2.36982819e+00 -2.41993053e-01]\n",
      " [-4.18847362e-01 -3.03473400e-01]\n",
      " [-2.19035239e+00 -2.24391315e-02]\n",
      " [-5.54543492e-01  1.70620231e+00]\n",
      " [-1.85932679e+00  4.53740828e-02]\n",
      " [ 5.25139056e-01  2.24106508e+00]\n",
      " [-1.32781711e-01  2.73179326e-01]\n",
      " [-8.80204569e-01  2.77166236e-01]\n",
      " [-1.48007062e+00 -9.17366127e-01]\n",
      " [-5.49847831e-04 -2.54076117e-04]\n",
      " [ 2.58527088e-01  3.89958790e-02]\n",
      " [-5.31622151e-01 -1.60853322e-01]\n",
      " [-1.52735371e+00 -6.32007463e-01]\n",
      " [ 1.39393664e+00  1.58777922e+00]\n",
      " [-2.13400401e-01  1.92800705e+00]\n",
      " [-1.33111969e+00 -2.64497450e-01]\n",
      " [ 4.77255771e-01  4.62429930e-02]\n",
      " [-1.08903215e+00  3.07891933e-01]\n",
      " [-1.52748971e+00  7.17261169e-01]\n",
      " [-5.11024705e-01 -6.87570581e-01]\n",
      " [ 1.87756644e+00  1.97922427e+00]\n",
      " [ 1.46451387e+00  1.30854023e+00]\n",
      " [-2.49073365e-01  2.70471437e-01]\n",
      " [ 2.97968501e+00  1.63935250e+00]\n",
      " [ 1.92731417e+00  2.70808916e+00]\n",
      " [ 2.16523118e+00  1.67976002e+00]\n",
      " [ 1.11367596e-01  1.77267655e+00]\n",
      " [ 2.21830317e-01  1.91518769e+00]\n",
      " [ 2.07776850e-01  4.00830988e-01]\n",
      " [-2.25813350e+00 -1.86541200e-01]\n",
      " [-2.17623330e+00  7.37929656e-02]\n",
      " [-9.21842970e-01 -9.59417834e-01]\n",
      " [-2.59854506e-01 -4.34839428e-01]\n",
      " [-7.02188464e-01 -8.92661473e-01]\n",
      " [-1.53961497e-01  2.58287643e+00]\n",
      " [-2.41116593e-01  9.38497021e-01]\n",
      " [-1.43564353e+00  5.71511468e-01]\n",
      " [ 6.96049359e-02 -4.34417693e-01]\n",
      " [ 1.91994539e+00  2.73586257e+00]\n",
      " [ 1.70466599e+00  1.82834602e+00]\n",
      " [-1.52440746e+00  1.44178547e+00]\n",
      " [ 8.88928748e-02  2.53199615e+00]\n",
      " [-1.01216784e+00  1.19131681e+00]\n",
      " [-2.03591772e+00  1.47272579e-01]\n",
      " [-1.03755559e+00 -9.66443810e-01]\n",
      " [-1.49145868e+00  3.03273451e-01]\n",
      " [-1.75601434e+00  3.28367890e-01]\n",
      " [-1.80966322e+00 -1.48542027e-01]\n",
      " [-1.26747690e+00 -9.71858163e-01]\n",
      " [-1.41036189e+00 -1.80138913e-01]\n",
      " [-9.28893036e-01  1.73823418e+00]\n",
      " [ 2.42926106e+00  1.20615257e+00]\n",
      " [-7.92881182e-01  9.87133774e-04]\n",
      " [-5.60757217e-01  7.89315291e-01]\n",
      " [-8.36100514e-01 -7.44059822e-01]\n",
      " [-2.26903700e+00 -1.37021422e-01]\n",
      " [ 1.26198993e+00  1.45630606e+00]\n",
      " [ 2.71099158e+00  1.42509333e+00]\n",
      " [ 1.98869570e+00  1.14797000e+00]\n",
      " [ 2.49159037e-01  2.48472026e+00]\n",
      " [-5.98909666e-01 -1.18697592e+00]\n",
      " [-1.77512334e+00  3.80880363e-01]\n",
      " [ 1.64083336e+00  2.36835299e+00]\n",
      " [-3.52442154e-01 -2.97714750e-01]\n",
      " [-8.16649754e-01  1.00531819e+00]\n",
      " [-2.42979873e+00  4.91532726e-01]\n",
      " [-9.15073635e-01 -2.15319205e-02]\n",
      " [-1.33465642e-02  1.95589559e+00]\n",
      " [-2.12693515e+00  7.33375459e-01]\n",
      " [ 2.53639634e+00  1.05936200e+00]\n",
      " [-6.82378218e-01  9.51678669e-01]\n",
      " [ 1.75284471e+00  1.13561551e+00]\n",
      " [-1.86785269e+00 -6.24242612e-02]\n",
      " [-1.39854798e+00 -6.68158892e-01]\n",
      " [-1.42782515e+00 -1.25745478e-01]\n",
      " [ 2.12946587e+00  1.89663574e+00]\n",
      " [-5.82346159e-01 -3.06697147e-01]\n",
      " [ 1.27282665e+00  2.16921198e+00]\n",
      " [-2.47841111e-02  2.16366643e+00]\n",
      " [-1.44617198e+00  1.96735632e+00]\n",
      " [ 1.77710289e+00  2.23110506e+00]\n",
      " [-1.80832145e+00  1.57832656e+00]\n",
      " [-1.11254348e+00  6.03549276e-01]\n",
      " [ 1.68482372e+00  2.57708314e+00]]\n",
      "[0. 0. 0. 0. 0. 0. 0. 0. 0. 0. 0. 0. 0. 0. 0. 0. 0. 0. 0. 0. 0. 0. 0. 0.\n",
      " 0. 0. 0. 0. 0. 0. 0. 0. 0. 0. 0. 0. 0. 0. 0. 0. 0. 0. 0. 0. 0. 0. 0. 0.\n",
      " 0. 0. 0. 0. 0. 0. 0. 0. 0. 0. 0. 0. 0. 0. 0. 0. 0. 0. 0. 0. 0. 0. 0. 0.\n",
      " 0. 0. 0. 0. 0. 0. 0. 0. 0. 0. 0. 0. 0. 0. 0. 0. 0. 0. 0. 0. 0. 0. 0. 0.\n",
      " 0. 0. 0. 0. 1. 1. 1. 1. 1. 1. 1. 1. 1. 1. 1. 1. 1. 1. 1. 1. 1. 1. 1. 1.\n",
      " 1. 1. 1. 1. 1. 1. 1. 1. 1. 1. 1. 1. 1. 1. 1. 1. 1. 1. 1. 1. 1. 1. 1. 1.\n",
      " 1. 1. 1. 1. 1. 1. 1. 1. 1. 1. 1. 1. 1. 1. 1. 1. 1. 1. 1. 1. 1. 1. 1. 1.\n",
      " 1. 1. 1. 1. 1. 1. 1. 1. 1. 1. 1. 1. 1. 1. 1. 1. 1. 1. 1. 1. 1. 1. 1. 1.\n",
      " 1. 1. 1. 1. 1. 1. 1. 1.]\n"
     ]
    }
   ],
   "source": [
    "X = np.vstack((class0_samples, class1_samples))\n",
    "y = np.hstack((np.zeros(samples_per_class), np.ones(samples_per_class)))\n",
    "\n",
    "print(X)\n",
    "print(y)\n",
    "\n",
    "n_samples, n_features = np.shape(X)"
   ]
  },
  {
   "cell_type": "markdown",
   "metadata": {},
   "source": [
    "In order to apply the k-NN algorithm, we shall compute the distance between of these points. We shall regroup all these in a $N \\times N$ matrix containing the distance from each sample to all others (question: do we really need to?).\n",
    "\n",
    "**Exercise**: compute the distance matrix. Extra points: do it in different ways and compare how long each one takes using the *magic command* `%timeit`."
   ]
  },
  {
   "cell_type": "code",
   "execution_count": 10,
   "metadata": {},
   "outputs": [
    {
     "ename": "SyntaxError",
     "evalue": "invalid syntax (<ipython-input-10-9f08cdfd61f1>, line 8)",
     "output_type": "error",
     "traceback": [
      "\u001b[0;36m  File \u001b[0;32m\"<ipython-input-10-9f08cdfd61f1>\"\u001b[0;36m, line \u001b[0;32m8\u001b[0m\n\u001b[0;31m    distances[i, j] =\u001b[0m\n\u001b[0m                     ^\u001b[0m\n\u001b[0;31mSyntaxError\u001b[0m\u001b[0;31m:\u001b[0m invalid syntax\n"
     ]
    }
   ],
   "source": [
    "def compute_distances(X):\n",
    "    n_samples = len(X)\n",
    "    distances = np.zeros((n_samples, n_samples))\n",
    "    \n",
    "    # Here goes the algorithm\n",
    "    for i in range(n_samples):\n",
    "        for j in range(n_samples):\n",
    "            distances[i, j] =\n",
    "    \n",
    "    return distances"
   ]
  },
  {
   "cell_type": "code",
   "execution_count": 12,
   "metadata": {},
   "outputs": [
    {
     "name": "stdout",
     "output_type": "stream",
     "text": [
      "116 ms ± 1.73 ms per loop (mean ± std. dev. of 7 runs, 10 loops each)\n",
      "[[0.         2.04572475 1.4749942  ... 0.96417467 1.36634417 2.67908892]\n",
      " [2.04572475 0.         2.55789486 ... 2.84052927 2.24603553 1.43115115]\n",
      " [1.4749942  2.55789486 0.         ... 1.07547466 0.31859379 3.70413653]\n",
      " ...\n",
      " [0.96417467 2.84052927 1.07547466 ... 0.         1.1976217  3.63312234]\n",
      " [1.36634417 2.24603553 0.31859379 ... 1.1976217  0.         3.42346303]\n",
      " [2.67908892 1.43115115 3.70413653 ... 3.63312234 3.42346303 0.        ]]\n",
      "1.39 ms ± 8.41 µs per loop (mean ± std. dev. of 7 runs, 1000 loops each)\n",
      "[[0.         2.04572475 1.4749942  ... 0.96417467 1.36634417 2.67908892]\n",
      " [2.04572475 0.         2.55789486 ... 2.84052927 2.24603553 1.43115115]\n",
      " [1.4749942  2.55789486 0.         ... 1.07547466 0.31859379 3.70413653]\n",
      " ...\n",
      " [0.96417467 2.84052927 1.07547466 ... 0.         1.1976217  3.63312234]\n",
      " [1.36634417 2.24603553 0.31859379 ... 1.1976217  0.         3.42346303]\n",
      " [2.67908892 1.43115115 3.70413653 ... 3.63312234 3.42346303 0.        ]]\n",
      "174 µs ± 6.98 µs per loop (mean ± std. dev. of 7 runs, 1000 loops each)\n",
      "[[0.         2.04572475 1.4749942  ... 0.96417467 1.36634417 2.67908892]\n",
      " [2.04572475 0.         2.55789486 ... 2.84052927 2.24603553 1.43115115]\n",
      " [1.4749942  2.55789486 0.         ... 1.07547466 0.31859379 3.70413653]\n",
      " ...\n",
      " [0.96417467 2.84052927 1.07547466 ... 0.         1.1976217  3.63312234]\n",
      " [1.36634417 2.24603553 0.31859379 ... 1.1976217  0.         3.42346303]\n",
      " [2.67908892 1.43115115 3.70413653 ... 3.63312234 3.42346303 0.        ]]\n"
     ]
    }
   ],
   "source": [
    "# %load knn1.py\n",
    "# We don't really wanna use for loops in Python...\n",
    "def compute_distances(X):\n",
    "    n_samples = len(X)\n",
    "    distances = np.zeros((n_samples, n_samples))\n",
    "    for i in range(n_samples):\n",
    "        for j in range(n_samples):\n",
    "            distances[i, j] = np.sqrt((X[i, 0] - X[j, 0]) ** 2 + (X[i, 1] - X[j, 1]) ** 2)\n",
    "    return distances\n",
    "        \n",
    "distances = compute_distances(X)\n",
    "%timeit compute_distances(X)\n",
    "print(distances)\n",
    "\n",
    "# We can vectorize it!\n",
    "distances = np.sqrt(np.sum((X[:, np.newaxis] - X) ** 2, 2))\n",
    "%timeit np.sqrt(np.sum((X[:, np.newaxis] - X) ** 2, 2))\n",
    "print(distances)\n",
    "\n",
    "# Or use something that someone already wrote in C\n",
    "from scipy.spatial.distance import cdist\n",
    "distances = cdist(X, X)\n",
    "%timeit cdist(X, X)\n",
    "print(distances)"
   ]
  },
  {
   "cell_type": "markdown",
   "metadata": {},
   "source": [
    "Using the distance matrix we can now write our k-NN algorithm!\n",
    "\n",
    "**Exercise**: write a function that compute the $k$-nearest neighbor estimate for each point in the training set. Tip: look up for the `np.argpartition` function. What is training error for $k = 10$?"
   ]
  },
  {
   "cell_type": "code",
   "execution_count": 9,
   "metadata": {},
   "outputs": [],
   "source": [
    "?np.argpartition"
   ]
  },
  {
   "cell_type": "code",
   "execution_count": 21,
   "metadata": {},
   "outputs": [
    {
     "ename": "SyntaxError",
     "evalue": "invalid syntax (<ipython-input-21-683e4452d7e1>, line 11)",
     "output_type": "error",
     "traceback": [
      "\u001b[0;36m  File \u001b[0;32m\"<ipython-input-21-683e4452d7e1>\"\u001b[0;36m, line \u001b[0;32m11\u001b[0m\n\u001b[0;31m    estimate[i] =\u001b[0m\n\u001b[0m                 ^\u001b[0m\n\u001b[0;31mSyntaxError\u001b[0m\u001b[0;31m:\u001b[0m invalid syntax\n"
     ]
    }
   ],
   "source": [
    "def knn(X, y, k):\n",
    "    n_samples = len(y)\n",
    "    distances = cdist(X, X)\n",
    "    estimate = np.zeros(n_samples)\n",
    "    \n",
    "    # For each sample in the training set...\n",
    "    for i in range(n_samples):\n",
    "        # Look up k closest samples\n",
    "\n",
    "        # Assign estimate as a majority vote\n",
    "        estimate[i] =\n",
    "\n",
    "    return estimate\n",
    "\n",
    "est_labels = knn(X, y, 10)\n",
    "print(est_labels)\n",
    "\n",
    "# Let us compute the training error\n",
    "train_error =\n",
    "print(train_error)"
   ]
  },
  {
   "cell_type": "code",
   "execution_count": 13,
   "metadata": {},
   "outputs": [
    {
     "name": "stdout",
     "output_type": "stream",
     "text": [
      "[1. 0. 1. 0. 0. 0. 0. 1. 0. 0. 0. 0. 0. 0. 0. 1. 0. 0. 1. 0. 1. 0. 0. 0.\n",
      " 0. 0. 0. 0. 1. 1. 0. 0. 0. 0. 0. 0. 0. 0. 1. 0. 0. 0. 0. 0. 1. 0. 0. 0.\n",
      " 0. 0. 1. 0. 0. 0. 0. 0. 1. 0. 0. 0. 0. 0. 0. 0. 0. 0. 1. 0. 0. 0. 0. 0.\n",
      " 1. 1. 0. 0. 0. 0. 0. 1. 0. 0. 0. 0. 0. 0. 0. 0. 0. 0. 0. 1. 0. 0. 0. 0.\n",
      " 0. 0. 0. 1. 1. 1. 1. 1. 1. 1. 1. 1. 1. 1. 1. 1. 1. 0. 1. 1. 1. 1. 1. 1.\n",
      " 1. 0. 1. 1. 1. 1. 1. 1. 1. 0. 1. 1. 0. 0. 1. 1. 1. 0. 1. 1. 1. 1. 1. 1.\n",
      " 1. 1. 1. 1. 1. 1. 1. 0. 1. 1. 1. 1. 1. 1. 0. 1. 1. 1. 1. 1. 1. 1. 1. 1.\n",
      " 1. 0. 1. 1. 0. 1. 1. 0. 1. 1. 1. 1. 0. 1. 1. 1. 1. 1. 0. 0. 1. 1. 1. 1.\n",
      " 1. 0. 1. 1. 1. 1. 0. 1.]\n",
      "0.17\n"
     ]
    }
   ],
   "source": [
    "# %load knn2.py\n",
    "def knn(X, y, k):\n",
    "    n_samples = len(y)\n",
    "    distances = cdist(X, X)\n",
    "    estimate = np.zeros(n_samples)\n",
    "    \n",
    "    # For each sample in the training set...\n",
    "    for i in range(n_samples):\n",
    "        # Look up k closest samples\n",
    "        nns = np.argpartition(distances[:, i], k)[:k]\n",
    "        \n",
    "        # Assign estimate as a majority vote\n",
    "        estimate[i] = int(sum(y[nns] == 1) > sum(y[nns] == 0))\n",
    "\n",
    "    return estimate\n",
    "\n",
    "est_labels = knn(X, y, 10)\n",
    "print(est_labels)\n",
    "\n",
    "# Let us compute the training error\n",
    "print(np.mean(y != est_labels))"
   ]
  },
  {
   "cell_type": "markdown",
   "metadata": {},
   "source": [
    "The first half of the vector should be composed solely of 0's, and the second half should be composed of 1's; we can see however that there are some mistakes. Let us plot them to try to understand what is happening."
   ]
  },
  {
   "cell_type": "code",
   "execution_count": 14,
   "metadata": {},
   "outputs": [
    {
     "data": {
      "text/plain": [
       "[<matplotlib.lines.Line2D at 0x614e2dd30>]"
      ]
     },
     "execution_count": 14,
     "metadata": {},
     "output_type": "execute_result"
    },
    {
     "data": {
      "image/png": "[encoded data removed]",
      "text/plain": [
       "<Figure size 432x288 with 1 Axes>"
      ]
     },
     "metadata": {
      "needs_background": "light"
     },
     "output_type": "display_data"
    }
   ],
   "source": [
    "# Plot data\n",
    "plt.plot(X[y == 0, 0], X[y == 0, 1], \"o\", markersize=8)\n",
    "plt.plot(X[y == 1, 0], X[y == 1, 1], \"x\", markersize=8)\n",
    "\n",
    "# Draw a red circle around misclassified samples\n",
    "errors = (y != est_labels)\n",
    "plt.plot(X[errors, 0], X[errors, 1], \"o\", color=\"red\", markeredgewidth=3, markerfacecolor=\"white\", markersize=12, alpha=0.5)\n",
    "#plt.plot(X[errors, 0], X[errors, 1], \"o\", color=\"red\", mew=3, mfc=\"white\", ms=12, alpha=0.5)"
   ]
  },
  {
   "cell_type": "markdown",
   "metadata": {},
   "source": [
    "As expected, mistakes happen in regions where the majority of points belong to the other class."
   ]
  },
  {
   "cell_type": "markdown",
   "metadata": {},
   "source": [
    "## Training vs. generalization"
   ]
  },
  {
   "cell_type": "markdown",
   "metadata": {},
   "source": [
    "But what happens when we try to classify points outside the training set? There are a few different ways of assessing this. For instance, we could have used only part of our data in the training set (say around 80%), and use the remaining to compute the so-called test error.\n",
    "Since in our case however the generative model is known, we might as well just get more samples from it."
   ]
  },
  {
   "cell_type": "code",
   "execution_count": 15,
   "metadata": {},
   "outputs": [
    {
     "name": "stdout",
     "output_type": "stream",
     "text": [
      "[[2.65592705 6.10448537 2.20091766 ... 1.87069077 1.63838742 1.70825347]\n",
      " [1.81505385 4.80288217 0.49413461 ... 2.88384364 2.97608637 1.74423069]\n",
      " [2.01478694 5.25876335 2.40517974 ... 0.40518218 0.45045933 1.04043694]\n",
      " ...\n",
      " [2.91057702 6.27693926 2.87332222 ... 1.35031027 0.95531042 1.87188682]\n",
      " [1.75898767 5.08044735 2.08658768 ... 0.65670352 0.76456376 0.74776793]\n",
      " [3.24182366 5.97164669 1.90044623 ... 4.08004116 4.06126756 3.0828909 ]]\n",
      "(200, 20000)\n"
     ]
    }
   ],
   "source": [
    "# Sample test data from the model\n",
    "testsamples_per_class = 10000\n",
    "\n",
    "class0_testlabels = np.random.randint(10, size = testsamples_per_class)\n",
    "class1_testlabels = np.random.randint(10, size = testsamples_per_class)\n",
    "class0_testsamples = class0_centroids[class0_testlabels, :] + np.sqrt(1. / 5) * np.random.randn(testsamples_per_class, 2)\n",
    "class1_testsamples = class1_centroids[class1_testlabels, :] + np.sqrt(1. / 5) * np.random.randn(testsamples_per_class, 2)\n",
    "\n",
    "X_test = np.vstack((class0_testsamples, class1_testsamples))\n",
    "y_test = np.hstack((np.zeros(testsamples_per_class), np.ones(testsamples_per_class)))\n",
    "\n",
    "# Compute distance matrix between X and X_test\n",
    "distances_test = cdist(X, X_test)\n",
    "print(distances_test)\n",
    "print(np.shape(distances_test))"
   ]
  },
  {
   "cell_type": "code",
   "execution_count": 16,
   "metadata": {},
   "outputs": [
    {
     "data": {
      "text/plain": [
       "[<matplotlib.lines.Line2D at 0x614e65be0>]"
      ]
     },
     "execution_count": 16,
     "metadata": {},
     "output_type": "execute_result"
    },
    {
     "data": {
      "image/png": "[encoded data removed]",
      "text/plain": [
       "<Figure size 432x288 with 1 Axes>"
      ]
     },
     "metadata": {
      "needs_background": "light"
     },
     "output_type": "display_data"
    }
   ],
   "source": [
    "# Plot test data\n",
    "plt.plot(X_test[y_test == 0, 0], X_test[y_test == 0, 1], \"o\", ms=8)\n",
    "plt.plot(X_test[y_test == 1, 0], X_test[y_test == 1, 1], \"x\", ms=8)"
   ]
  },
  {
   "cell_type": "markdown",
   "metadata": {},
   "source": [
    "We now write a function similar to `knn` that computes the estimates not for the points on the training set, but for points on a new *test* set."
   ]
  },
  {
   "cell_type": "code",
   "execution_count": 17,
   "metadata": {},
   "outputs": [
    {
     "name": "stdout",
     "output_type": "stream",
     "text": [
      "[0. 0. 0. ... 1. 1. 1.]\n",
      "0.16085\n"
     ]
    }
   ],
   "source": [
    "def knn_test(X_train, y_train, X_test, y_test, k):\n",
    "    n_train, n_test = len(y_train), len(y_test)\n",
    "    distances = cdist(X_train, X_test)\n",
    "    estimate = np.zeros(n_test)\n",
    "    \n",
    "    # For each sample in the test set...\n",
    "    for i in range(n_test):\n",
    "        # Look up k closest samples in the training set\n",
    "        nns = np.argpartition(distances[:, i], k)[:k]\n",
    "        \n",
    "        # Assign estimate as a majority vote\n",
    "        estimate[i] = int((sum(y_train[nns] == 1)) > sum(y_train[nns] == 0))\n",
    "\n",
    "    return estimate\n",
    "\n",
    "est_testlabels = knn_test(X, y, X_test, y_test, 10)\n",
    "print(est_testlabels)\n",
    "\n",
    "# Let us compute the test error, now\n",
    "print(np.mean(y_test != est_testlabels))"
   ]
  },
  {
   "cell_type": "markdown",
   "metadata": {},
   "source": [
    "One problem that we have when using $k$-nearest neighbors is that we have to pick a value for $k$ -- it is not clear in principle how to do it! \n",
    "In order to understand this better, let us look at how the training and test errors behave as a function of $k$."
   ]
  },
  {
   "cell_type": "code",
   "execution_count": 18,
   "metadata": {},
   "outputs": [
    {
     "name": "stdout",
     "output_type": "stream",
     "text": [
      "k = 1; train error = 0, test error = 0.19705\n",
      "k = 2; train error = 0.1, test error = 0.20725\n",
      "k = 3; train error = 0.085, test error = 0.18965\n",
      "k = 4; train error = 0.115, test error = 0.19595\n",
      "k = 5; train error = 0.12, test error = 0.18085\n",
      "k = 6; train error = 0.13, test error = 0.18025\n",
      "k = 7; train error = 0.145, test error = 0.16345\n",
      "k = 8; train error = 0.16, test error = 0.169\n",
      "k = 9; train error = 0.15, test error = 0.1603\n",
      "k = 10; train error = 0.17, test error = 0.16085\n",
      "k = 11; train error = 0.15, test error = 0.1618\n",
      "k = 12; train error = 0.15, test error = 0.16185\n",
      "k = 13; train error = 0.145, test error = 0.16115\n",
      "k = 14; train error = 0.145, test error = 0.16055\n",
      "k = 15; train error = 0.165, test error = 0.16465\n",
      "k = 16; train error = 0.17, test error = 0.16435\n",
      "k = 17; train error = 0.175, test error = 0.16495\n",
      "k = 18; train error = 0.175, test error = 0.16385\n",
      "k = 19; train error = 0.16, test error = 0.17045\n"
     ]
    },
    {
     "data": {
      "text/plain": [
       "Text(0,0.5,'misclassification error')"
      ]
     },
     "execution_count": 18,
     "metadata": {},
     "output_type": "execute_result"
    },
    {
     "data": {
      "image/png": "[encoded data removed]",
      "text/plain": [
       "<Figure size 432x288 with 1 Axes>"
      ]
     },
     "metadata": {
      "needs_background": "light"
     },
     "output_type": "display_data"
    }
   ],
   "source": [
    "# Convenience functions that compute the training and test errors, given training and test samples\n",
    "def compute_train_error(X, y, k=1):\n",
    "    y_hat = knn(X, y, k)\n",
    "    return np.mean(y != y_hat)\n",
    "    \n",
    "def compute_test_error(X_train, y_train, X_test, y_test, k=1):\n",
    "    y_hat = knn_test(X_train, y_train, X_test, y_test, k)\n",
    "    return np.mean(y_test != y_hat)\n",
    "\n",
    "# Run functions for k belonging to a range of values\n",
    "ks = np.arange(1, 20)\n",
    "train_error = []\n",
    "test_error = []\n",
    "for (i, k) in enumerate(ks):\n",
    "    train_error.append(compute_train_error(X, y, k))\n",
    "    test_error.append(compute_test_error(X, y, X_test, y_test, k))\n",
    "    print(\"k = %d; train error = %g, test error = %g\" % (k, train_error[-1], test_error[-1]))\n",
    "\n",
    "# Plot results\n",
    "plt.plot(ks, train_error, label = \"train\")\n",
    "plt.plot(ks, test_error, label = \"test\")\n",
    "plt.legend()\n",
    "plt.xlabel(r\"$k$\")\n",
    "plt.ylabel(\"misclassification error\")"
   ]
  },
  {
   "cell_type": "markdown",
   "metadata": {},
   "source": [
    "It is instructive to use another quantity in the x axis instead of $k$: the number of degrees of freedom $N / k$. Indeed, the larger the $k$, the smaller the number of effective parameters -- think for instance of the $k = N$ limit, where everyone is assigned the same label."
   ]
  },
  {
   "cell_type": "code",
   "execution_count": 19,
   "metadata": {},
   "outputs": [
    {
     "name": "stdout",
     "output_type": "stream",
     "text": [
      "k = 1; train error = 0, test error = 0.19705\n",
      "k = 2; train error = 0.1, test error = 0.20725\n",
      "k = 3; train error = 0.085, test error = 0.18965\n",
      "k = 4; train error = 0.115, test error = 0.19595\n",
      "k = 5; train error = 0.12, test error = 0.18085\n",
      "k = 6; train error = 0.13, test error = 0.18025\n",
      "k = 7; train error = 0.145, test error = 0.16345\n",
      "k = 8; train error = 0.16, test error = 0.169\n",
      "k = 9; train error = 0.15, test error = 0.1603\n",
      "k = 10; train error = 0.17, test error = 0.16085\n",
      "k = 40; train error = 0.245, test error = 0.2525\n",
      "k = 70; train error = 0.26, test error = 0.26\n",
      "k = 100; train error = 0.235, test error = 0.2385\n",
      "k = 130; train error = 0.215, test error = 0.2269\n"
     ]
    }
   ],
   "source": [
    "# Re-run the experiment above for a different range of values\n",
    "ks = np.r_[np.arange(1, 10), np.arange(10, 150, 30)]\n",
    "train_error = []\n",
    "test_error = []\n",
    "for k in ks:\n",
    "    train_error.append(compute_train_error(X, y, k))\n",
    "    test_error.append(compute_test_error(X, y, X_test, y_test, k))\n",
    "    print(\"k = %d; train error = %g, test error = %g\" % (k, train_error[-1], test_error[-1]))"
   ]
  },
  {
   "cell_type": "code",
   "execution_count": 20,
   "metadata": {},
   "outputs": [
    {
     "data": {
      "text/plain": [
       "(0.025, 0.4)"
      ]
     },
     "execution_count": 20,
     "metadata": {},
     "output_type": "execute_result"
    },
    {
     "data": {
      "image/png": "[encoded data removed]",
      "text/plain": [
       "<Figure size 432x288 with 1 Axes>"
      ]
     },
     "metadata": {
      "needs_background": "light"
     },
     "output_type": "display_data"
    }
   ],
   "source": [
    "# Plot error as a function of the degrees of freedom\n",
    "plt.plot(len(y) / np.array(ks), train_error, \"-o\", label = \"train\")\n",
    "plt.plot(len(y) / np.array(ks), test_error, \"-o\", label = \"test\")\n",
    "plt.legend()\n",
    "plt.xlabel(r\"degrees of freedom $N / k$\")\n",
    "plt.ylabel(\"misclassification error\")\n",
    "plt.ylim((0.025, 0.4))"
   ]
  },
  {
   "cell_type": "markdown",
   "metadata": {},
   "source": [
    "This plot makes explicit the so-called *bias-variance tradeoff* that appears all throughout statistics. If we have more parameters, we are able to get smaller training error, but the test (analogously, generalization) error actually increases, meaning we are overfitting!"
   ]
  },
  {
   "cell_type": "markdown",
   "metadata": {},
   "source": [
    "## A Python library for Machine Learning: scikit-learn"
   ]
  },
  {
   "cell_type": "markdown",
   "metadata": {},
   "source": [
    "You might have noticed that running our implementation of $k$-NNs for 20000 samples already started to feel a bit sluggish... That is because it isn't really optimized. If we wanted things to be fast, we would have to recur to some C code, using Python extensions such as Cython or ctypes (that's actually what packages such as Numpy and Scipy do for us).\n",
    "Moreover, we did things very naively -- for instance, one actually does not need to compute the full distance matrix if using appropriate data structures such as kd-trees etc.\n",
    "\n",
    "Luckily for us there are people who already wrote optimized versions of most standard machine learning algorithms!"
   ]
  },
  {
   "cell_type": "markdown",
   "metadata": {},
   "source": [
    "![scikit-learn website](sklearn.png)"
   ]
  },
  {
   "cell_type": "markdown",
   "metadata": {},
   "source": [
    "So let's see how scikit-learn's k-NN implementation works. One nice thing about scikit-learn is that they have lots of examples available online, so we can just look for something similar to what we are trying to do. For k-NN classification in particular there's this: http://scikit-learn.org/stable/auto_examples/neighbors/plot_classification.html#sphx-glr-auto-examples-neighbors-plot-classification-py"
   ]
  },
  {
   "cell_type": "code",
   "execution_count": 30,
   "metadata": {},
   "outputs": [
    {
     "data": {
      "text/plain": [
       "KNeighborsClassifier(algorithm='auto', leaf_size=30, metric='minkowski',\n",
       "           metric_params=None, n_jobs=None, n_neighbors=10, p=2,\n",
       "           weights='uniform')"
      ]
     },
     "execution_count": 30,
     "metadata": {},
     "output_type": "execute_result"
    }
   ],
   "source": [
    "from sklearn import neighbors\n",
    "clf = neighbors.KNeighborsClassifier(10)\n",
    "clf.fit(X, y)"
   ]
  },
  {
   "cell_type": "markdown",
   "metadata": {},
   "source": [
    "And done! With just three lines of code we were able to repeat everything we've been doing so far. Let us see if we get the same training error as before."
   ]
  },
  {
   "cell_type": "code",
   "execution_count": 31,
   "metadata": {},
   "outputs": [
    {
     "name": "stdout",
     "output_type": "stream",
     "text": [
      "train/test error (for k = 10): 0.13/0.1596\n"
     ]
    }
   ],
   "source": [
    "train_error = np.mean(y != clf.predict(X))\n",
    "test_error = np.mean(y_test != clf.predict(X_test))\n",
    "#train_error = 1. - clf.score(X, y)\n",
    "#test_error = 1. - clf.score(X_test, y_test)\n",
    "\n",
    "print(\"train/test error (for k = 10): %g/%g\" % (train_error, test_error))"
   ]
  },
  {
   "cell_type": "markdown",
   "metadata": {},
   "source": [
    "Since things are optimized here, we can even do cooler things such as plotting the actual decision boundaries. In order to do that, let us generate a grid and compute the estimate for each point in that grid."
   ]
  },
  {
   "cell_type": "code",
   "execution_count": 32,
   "metadata": {},
   "outputs": [
    {
     "data": {
      "text/plain": [
       "[<matplotlib.lines.Line2D at 0x1a1fa07f60>]"
      ]
     },
     "execution_count": 32,
     "metadata": {},
     "output_type": "execute_result"
    },
    {
     "data": {
      "image/png": "[encoded data removed]",
      "text/plain": [
       "<Figure size 576x576 with 1 Axes>"
      ]
     },
     "metadata": {
      "needs_background": "light"
     },
     "output_type": "display_data"
    }
   ],
   "source": [
    "# Create a grid\n",
    "xx, yy = np.meshgrid(np.linspace(-5, 5, 101), np.linspace(-5, 5, 101))\n",
    "zz = clf.predict(np.c_[xx.ravel(), yy.ravel()])\n",
    "\n",
    "# Do some plotting\n",
    "zz = zz.reshape(xx.shape)\n",
    "plt.imshow(zz, interpolation=\"nearest\", cmap=\"coolwarm\", alpha=0.2, origin=\"lower\", extent=[xx.min(), xx.max(), yy.min(), yy.max()])\n",
    "plt.plot(X[y == 0, 0], X[y == 0, 1], \"o\", markersize=8)\n",
    "plt.plot(X[y == 1, 0], X[y == 1, 1], \"x\", markersize=8)"
   ]
  },
  {
   "cell_type": "markdown",
   "metadata": {},
   "source": [
    "### Determining the best value of $k$ by cross-validation"
   ]
  },
  {
   "cell_type": "markdown",
   "metadata": {},
   "source": [
    "One way of determining the \"best\" value of $k$ is by partitioning our dataset into two (training and validation sets) and then adjusting its value so as to minimize the validation error (we then need a 3rd set where we can compute the test error -- never adjust your parameters and compute the test error using the same set!)\n",
    "\n",
    "However, this does not provide us good statistics since the partitioning is only done once; a perhaps better way of doing it is by partitioning the dataset again and again, and recomputing the score. This is the idea behind cross-validation.\n",
    "\n",
    "scikit-learn has nice convenience functions to perform cross-validation for us. We gonna use `GridSearchCV`, which trains an estimator (in this case, the `KNeighborsClassifier`) across a range of parameters. For each of these parameters, the test error is computed using cross validation, more precisely 3-fold cross validation: the dataset is divided in 3, and all 3 combinations of 1 test set + 2 training sets are tried, with the resulting test error given by the average."
   ]
  },
  {
   "cell_type": "code",
   "execution_count": 33,
   "metadata": {},
   "outputs": [
    {
     "name": "stdout",
     "output_type": "stream",
     "text": [
      "{'n_neighbors': 3}\n",
      "[0.825 0.81  0.84  0.815 0.835 0.795 0.815 0.81  0.795 0.815 0.805 0.815\n",
      " 0.81  0.805 0.825 0.81  0.815 0.81  0.815]\n"
     ]
    },
    {
     "name": "stderr",
     "output_type": "stream",
     "text": [
      "/anaconda3/lib/python3.7/site-packages/sklearn/model_selection/_split.py:2053: FutureWarning: You should specify a value for 'cv' instead of relying on the default value. The default value will change from 3 to 5 in version 0.22.\n",
      "  warnings.warn(CV_WARNING, FutureWarning)\n",
      "/anaconda3/lib/python3.7/site-packages/sklearn/model_selection/_search.py:841: DeprecationWarning: The default of the `iid` parameter will change from True to False in version 0.22 and will be removed in 0.24. This will change numeric results when test-set sizes are unequal.\n",
      "  DeprecationWarning)\n"
     ]
    }
   ],
   "source": [
    "from sklearn.model_selection import GridSearchCV\n",
    "\n",
    "# Set up the grid search\n",
    "parameters = [{'n_neighbors': np.arange(1, 20)}]\n",
    "clf = GridSearchCV(neighbors.KNeighborsClassifier(n_neighbors = 1), parameters)\n",
    "clf.fit(X, y)\n",
    "\n",
    "# Print results\n",
    "print(clf.best_params_)\n",
    "print(clf.cv_results_[\"mean_test_score\"])"
   ]
  },
  {
   "cell_type": "markdown",
   "metadata": {},
   "source": [
    "Let's see how this does on the test set."
   ]
  },
  {
   "cell_type": "code",
   "execution_count": 34,
   "metadata": {},
   "outputs": [
    {
     "name": "stdout",
     "output_type": "stream",
     "text": [
      "train/test error (for optimal k): 0.095/0.1799\n"
     ]
    }
   ],
   "source": [
    "train_error = np.mean(y != clf.predict(X))\n",
    "test_error = np.mean(y_test != clf.predict(X_test))\n",
    "print(\"train/test error (for optimal k): %g/%g\" % (train_error, test_error))"
   ]
  },
  {
   "cell_type": "markdown",
   "metadata": {},
   "source": [
    "## Classification on real datasets: MNIST"
   ]
  },
  {
   "cell_type": "markdown",
   "metadata": {},
   "source": [
    "Finally, let us work with a real dataset! If you have already studied a bit of machine learning and statistics, you are probably familiar with the MNIST dataset of handwritten digits. It is one of the most famous datasets used for benchmarking clustering and classification algorithms.\n",
    "\n",
    "It is also included in scikit-learn. Let's see how to get it."
   ]
  },
  {
   "cell_type": "code",
   "execution_count": 40,
   "metadata": {},
   "outputs": [
    {
     "name": "stderr",
     "output_type": "stream",
     "text": [
      "/anaconda3/lib/python3.7/site-packages/sklearn/utils/deprecation.py:77: DeprecationWarning: Function fetch_mldata is deprecated; fetch_mldata was deprecated in version 0.20 and will be removed in version 0.22\n",
      "  warnings.warn(msg, category=DeprecationWarning)\n",
      "/anaconda3/lib/python3.7/site-packages/sklearn/utils/deprecation.py:77: DeprecationWarning: Function mldata_filename is deprecated; mldata_filename was deprecated in version 0.20 and will be removed in version 0.22\n",
      "  warnings.warn(msg, category=DeprecationWarning)\n"
     ]
    }
   ],
   "source": [
    "from sklearn.datasets import fetch_mldata\n",
    "mnist = fetch_mldata('MNIST original', data_home = \".\")"
   ]
  },
  {
   "cell_type": "markdown",
   "metadata": {},
   "source": [
    "Let's take a look at the data to see how it looks like."
   ]
  },
  {
   "cell_type": "code",
   "execution_count": 41,
   "metadata": {},
   "outputs": [
    {
     "name": "stdout",
     "output_type": "stream",
     "text": [
      "(70000, 784)\n",
      "(70000,)\n"
     ]
    },
    {
     "data": {
      "image/png": "[encoded data removed]",
      "text/plain": [
       "<Figure size 576x576 with 1 Axes>"
      ]
     },
     "metadata": {
      "needs_background": "light"
     },
     "output_type": "display_data"
    }
   ],
   "source": [
    "X = mnist.data\n",
    "y = mnist.target\n",
    "print(X.shape)\n",
    "print(y.shape)\n",
    "\n",
    "n_samples, n_features = np.shape(X)\n",
    "\n",
    "# Plot a sample\n",
    "plt.imshow(X[20000, :].reshape((int(np.sqrt(n_features)), -1)), cmap=\"gray\")\n",
    "\n",
    "# Partition set into train/test\n",
    "samples = np.random.randint(60000, size = 1000)\n",
    "X_train, y_train = X[samples, :], y[samples]\n",
    "X_test, y_test = X[60000:, :], y[60000:]"
   ]
  },
  {
   "cell_type": "code",
   "execution_count": 42,
   "metadata": {},
   "outputs": [
    {
     "name": "stdout",
     "output_type": "stream",
     "text": [
      "train/test error: 0.077/0.1251\n"
     ]
    }
   ],
   "source": [
    "clf = neighbors.KNeighborsClassifier(n_neighbors=5)\n",
    "clf.fit(X_train, y_train)\n",
    "\n",
    "train_error = 1. - clf.score(X_train, y_train)\n",
    "test_error = 1. - clf.score(X_test, y_test)\n",
    "print(\"train/test error: %g/%g\" % (train_error, test_error))"
   ]
  },
  {
   "cell_type": "markdown",
   "metadata": {},
   "source": [
    "This is good but not so much... It's quite slow, to start with. \n",
    "\n",
    "Let us look at the misclassified samples."
   ]
  },
  {
   "cell_type": "code",
   "execution_count": 43,
   "metadata": {},
   "outputs": [
    {
     "name": "stdout",
     "output_type": "stream",
     "text": [
      "[ 16  25  54  82  91 114 130 137 146 155 167 191 197 198 199 203 209 216\n",
      " 231 233 239 241 242 249 263 270 271 300 328 332 335 336 349 365 369 392\n",
      " 398 413 447 450 485 507 509 510 535 539 553 559 561 564 580 581 629 634\n",
      " 653 691 695 696 705 710 739 751 763 790 805 826 846 860 863 868 915 923\n",
      " 931 936 954 979 987]\n"
     ]
    },
    {
     "data": {
      "text/plain": [
       "Text(0.5,1,'predicted label: 6')"
      ]
     },
     "execution_count": 43,
     "metadata": {},
     "output_type": "execute_result"
    },
    {
     "data": {
      "image/png": "[encoded data removed]",
      "text/plain": [
       "<Figure size 576x576 with 4 Axes>"
      ]
     },
     "metadata": {
      "needs_background": "light"
     },
     "output_type": "display_data"
    }
   ],
   "source": [
    "errors = np.where(y_train != clf.predict(X_train))[0]\n",
    "print(errors)\n",
    "\n",
    "fig, axs = plt.subplots(2, 2)\n",
    "axs[0, 0].imshow(X_train[errors[0], :].reshape((int(np.sqrt(n_features)), -1)), cmap=\"gray\")\n",
    "axs[0, 0].set_title(\"predicted label: %d\" % (clf.predict(X_train[errors[0], :].reshape(1, -1))))\n",
    "axs[0, 1].imshow(X_train[errors[1], :].reshape((int(np.sqrt(n_features)), -1)), cmap=\"gray\")\n",
    "axs[0, 1].set_title(\"predicted label: %d\" % (clf.predict(X_train[errors[1], :].reshape(1, -1))))\n",
    "axs[1, 0].imshow(X_train[errors[2], :].reshape((int(np.sqrt(n_features)), -1)), cmap=\"gray\")\n",
    "axs[1, 0].set_title(\"predicted label: %d\" % (clf.predict(X_train[errors[2], :].reshape(1, -1))))\n",
    "axs[1, 1].imshow(X_train[errors[3], :].reshape((int(np.sqrt(n_features)), -1)), cmap=\"gray\")\n",
    "axs[1, 1].set_title(\"predicted label: %d\" % (clf.predict(X_train[errors[3], :].reshape(1, -1))))"
   ]
  },
  {
   "cell_type": "markdown",
   "metadata": {},
   "source": [
    "Before we ran $k$-NN on only two dimensions; now our vectors are much larger, they actually have 784 dimensions. It is expected that local methods such as $k$-NN don't work as well once we have gone to large dimensions, this is related to the curse of dimensionality."
   ]
  },
  {
   "cell_type": "code",
   "execution_count": null,
   "metadata": {},
   "outputs": [],
   "source": []
  }
 ],
 "metadata": {
  "kernelspec": {
   "display_name": "Python 3",
   "language": "python",
   "name": "python3"
  },
  "language_info": {
   "codemirror_mode": {
    "name": "ipython",
    "version": 3
   },
   "file_extension": ".py",
   "mimetype": "text/x-python",
   "name": "python",
   "nbconvert_exporter": "python",
   "pygments_lexer": "ipython3",
   "version": "3.7.1"
  }
 },
 "nbformat": 4,
 "nbformat_minor": 2
}
