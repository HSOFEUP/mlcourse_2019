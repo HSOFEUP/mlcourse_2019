{
 "cells": [
  {
   "cell_type": "markdown",
   "metadata": {},
   "source": [
    "# Causal analysis"
   ]
  },
  {
   "cell_type": "markdown",
   "metadata": {},
   "source": [
    "## Toy medicine data\n",
    "\n",
    "The data is retrieved from the [causality challenge](http://www.causality.inf.ethz.ch/challenge.php). The LUCAS (LUng CAncer Simple set) toy dataset was generated from the causal graphical model shown below. The conditional probabilities were completely made up; they have no biological meaning !\n",
    "\n",
    "<img width=\"50%\" src=\"img/lucas_dag.png\">\n"
   ]
  },
  {
   "cell_type": "code",
   "execution_count": 1,
   "metadata": {
    "scrolled": true
   },
   "outputs": [
    {
     "data": {
      "text/html": [
       "<div>\n",
       "<style scoped>\n",
       "    .dataframe tbody tr th:only-of-type {\n",
       "        vertical-align: middle;\n",
       "    }\n",
       "\n",
       "    .dataframe tbody tr th {\n",
       "        vertical-align: top;\n",
       "    }\n",
       "\n",
       "    .dataframe thead th {\n",
       "        text-align: right;\n",
       "    }\n",
       "</style>\n",
       "<table border=\"1\" class=\"dataframe\">\n",
       "  <thead>\n",
       "    <tr style=\"text-align: right;\">\n",
       "      <th></th>\n",
       "      <th>smoking</th>\n",
       "      <th>yellow_fingers</th>\n",
       "      <th>anxiety</th>\n",
       "      <th>peer_pressure</th>\n",
       "      <th>genetics</th>\n",
       "      <th>attention_disorder</th>\n",
       "      <th>born_an_even_day</th>\n",
       "      <th>car_accident</th>\n",
       "      <th>fatigue</th>\n",
       "      <th>allergy</th>\n",
       "      <th>coughing</th>\n",
       "      <th>lung_cancer</th>\n",
       "    </tr>\n",
       "  </thead>\n",
       "  <tbody>\n",
       "    <tr>\n",
       "      <th>0</th>\n",
       "      <td>0</td>\n",
       "      <td>0</td>\n",
       "      <td>1</td>\n",
       "      <td>0</td>\n",
       "      <td>0</td>\n",
       "      <td>1</td>\n",
       "      <td>0</td>\n",
       "      <td>1</td>\n",
       "      <td>0</td>\n",
       "      <td>1</td>\n",
       "      <td>0</td>\n",
       "      <td>0</td>\n",
       "    </tr>\n",
       "    <tr>\n",
       "      <th>1</th>\n",
       "      <td>0</td>\n",
       "      <td>1</td>\n",
       "      <td>0</td>\n",
       "      <td>0</td>\n",
       "      <td>0</td>\n",
       "      <td>0</td>\n",
       "      <td>1</td>\n",
       "      <td>0</td>\n",
       "      <td>1</td>\n",
       "      <td>0</td>\n",
       "      <td>1</td>\n",
       "      <td>1</td>\n",
       "    </tr>\n",
       "    <tr>\n",
       "      <th>2</th>\n",
       "      <td>1</td>\n",
       "      <td>1</td>\n",
       "      <td>1</td>\n",
       "      <td>0</td>\n",
       "      <td>1</td>\n",
       "      <td>1</td>\n",
       "      <td>1</td>\n",
       "      <td>1</td>\n",
       "      <td>1</td>\n",
       "      <td>1</td>\n",
       "      <td>1</td>\n",
       "      <td>1</td>\n",
       "    </tr>\n",
       "    <tr>\n",
       "      <th>3</th>\n",
       "      <td>0</td>\n",
       "      <td>0</td>\n",
       "      <td>0</td>\n",
       "      <td>1</td>\n",
       "      <td>0</td>\n",
       "      <td>0</td>\n",
       "      <td>1</td>\n",
       "      <td>0</td>\n",
       "      <td>0</td>\n",
       "      <td>0</td>\n",
       "      <td>0</td>\n",
       "      <td>0</td>\n",
       "    </tr>\n",
       "    <tr>\n",
       "      <th>4</th>\n",
       "      <td>1</td>\n",
       "      <td>1</td>\n",
       "      <td>1</td>\n",
       "      <td>0</td>\n",
       "      <td>0</td>\n",
       "      <td>1</td>\n",
       "      <td>1</td>\n",
       "      <td>1</td>\n",
       "      <td>1</td>\n",
       "      <td>0</td>\n",
       "      <td>0</td>\n",
       "      <td>1</td>\n",
       "    </tr>\n",
       "  </tbody>\n",
       "</table>\n",
       "</div>"
      ],
      "text/plain": [
       "   smoking  yellow_fingers  anxiety  peer_pressure  genetics  \\\n",
       "0        0               0        1              0         0   \n",
       "1        0               1        0              0         0   \n",
       "2        1               1        1              0         1   \n",
       "3        0               0        0              1         0   \n",
       "4        1               1        1              0         0   \n",
       "\n",
       "   attention_disorder  born_an_even_day  car_accident  fatigue  allergy  \\\n",
       "0                   1                 0             1        0        1   \n",
       "1                   0                 1             0        1        0   \n",
       "2                   1                 1             1        1        1   \n",
       "3                   0                 1             0        0        0   \n",
       "4                   1                 1             1        1        0   \n",
       "\n",
       "   coughing  lung_cancer  \n",
       "0         0            0  \n",
       "1         1            1  \n",
       "2         1            1  \n",
       "3         0            0  \n",
       "4         0            1  "
      ]
     },
     "execution_count": 1,
     "metadata": {},
     "output_type": "execute_result"
    }
   ],
   "source": [
    "#let's import the data\n",
    "%matplotlib inline\n",
    "import pandas as pd\n",
    "import matplotlib.pyplot as plt\n",
    "\n",
    "lucas = pd.read_csv(\"data/lucas0_train.csv\")\n",
    "lucas.head()"
   ]
  },
  {
   "cell_type": "markdown",
   "metadata": {},
   "source": [
    "## Causal feature : Smoking\n",
    "\n",
    "In the causal graph above, smoking is a direct cause of lung cancer. Let's see if we can recover this in the data.\n",
    "First we compute the contingency table and perform a statistical test called the [G-test](https://en.wikipedia.org/wiki/G-test) to see if lung_cancer is independent of smoking or not. If smoking is indeed a causal factor of lung cancer, there should be a clear statistical association between the two."
   ]
  },
  {
   "cell_type": "code",
   "execution_count": 2,
   "metadata": {},
   "outputs": [],
   "source": [
    "from scipy.stats import chi2_contingency\n",
    "# significance level\n",
    "alpha = 0.05 "
   ]
  },
  {
   "cell_type": "code",
   "execution_count": 3,
   "metadata": {},
   "outputs": [
    {
     "name": "stdout",
     "output_type": "stream",
     "text": [
      "chi2 = 447.28 with p_value=2.83e-99 independent: False\n"
     ]
    },
    {
     "data": {
      "text/html": [
       "<div>\n",
       "<style scoped>\n",
       "    .dataframe tbody tr th:only-of-type {\n",
       "        vertical-align: middle;\n",
       "    }\n",
       "\n",
       "    .dataframe tbody tr th {\n",
       "        vertical-align: top;\n",
       "    }\n",
       "\n",
       "    .dataframe thead th {\n",
       "        text-align: right;\n",
       "    }\n",
       "</style>\n",
       "<table border=\"1\" class=\"dataframe\">\n",
       "  <thead>\n",
       "    <tr style=\"text-align: right;\">\n",
       "      <th>lung_cancer</th>\n",
       "      <th>0</th>\n",
       "      <th>1</th>\n",
       "    </tr>\n",
       "    <tr>\n",
       "      <th>smoking</th>\n",
       "      <th></th>\n",
       "      <th></th>\n",
       "    </tr>\n",
       "  </thead>\n",
       "  <tbody>\n",
       "    <tr>\n",
       "      <th>0</th>\n",
       "      <td>328</td>\n",
       "      <td>167</td>\n",
       "    </tr>\n",
       "    <tr>\n",
       "      <th>1</th>\n",
       "      <td>229</td>\n",
       "      <td>1276</td>\n",
       "    </tr>\n",
       "  </tbody>\n",
       "</table>\n",
       "</div>"
      ],
      "text/plain": [
       "lung_cancer    0     1\n",
       "smoking               \n",
       "0            328   167\n",
       "1            229  1276"
      ]
     },
     "execution_count": 3,
     "metadata": {},
     "output_type": "execute_result"
    }
   ],
   "source": [
    "# contingency table\n",
    "contingency = pd.crosstab(index=lucas[\"smoking\"], columns=lucas[\"lung_cancer\"])\n",
    "# independence G-test\n",
    "chi2, p_value, _, _ = chi2_contingency(contingency, lambda_=\"log-likelihood\")\n",
    "print(f\"chi2 = {chi2:.2f} with p_value={p_value:.2e} independent: {p_value > alpha}\")\n",
    "contingency"
   ]
  },
  {
   "cell_type": "markdown",
   "metadata": {},
   "source": [
    "We can also estimate $P(\\text{lung_cancer}|\\text{smoking})$ by looking at the observed frequencies."
   ]
  },
  {
   "cell_type": "code",
   "execution_count": 4,
   "metadata": {},
   "outputs": [
    {
     "data": {
      "text/html": [
       "<div>\n",
       "<style scoped>\n",
       "    .dataframe tbody tr th:only-of-type {\n",
       "        vertical-align: middle;\n",
       "    }\n",
       "\n",
       "    .dataframe tbody tr th {\n",
       "        vertical-align: top;\n",
       "    }\n",
       "\n",
       "    .dataframe thead th {\n",
       "        text-align: right;\n",
       "    }\n",
       "</style>\n",
       "<table border=\"1\" class=\"dataframe\">\n",
       "  <thead>\n",
       "    <tr style=\"text-align: right;\">\n",
       "      <th>lung_cancer</th>\n",
       "      <th>0</th>\n",
       "      <th>1</th>\n",
       "    </tr>\n",
       "    <tr>\n",
       "      <th>smoking</th>\n",
       "      <th></th>\n",
       "      <th></th>\n",
       "    </tr>\n",
       "  </thead>\n",
       "  <tbody>\n",
       "    <tr>\n",
       "      <th>0</th>\n",
       "      <td>0.662626</td>\n",
       "      <td>0.337374</td>\n",
       "    </tr>\n",
       "    <tr>\n",
       "      <th>1</th>\n",
       "      <td>0.152159</td>\n",
       "      <td>0.847841</td>\n",
       "    </tr>\n",
       "  </tbody>\n",
       "</table>\n",
       "</div>"
      ],
      "text/plain": [
       "lung_cancer         0         1\n",
       "smoking                        \n",
       "0            0.662626  0.337374\n",
       "1            0.152159  0.847841"
      ]
     },
     "execution_count": 4,
     "metadata": {},
     "output_type": "execute_result"
    }
   ],
   "source": [
    "# estimate P(lung_cancer|smoking)\n",
    "frequencies = pd.crosstab(\n",
    "    index=lucas[\"smoking\"], columns=lucas[\"lung_cancer\"],\n",
    "    normalize=\"index\"\n",
    ")\n",
    "frequencies"
   ]
  },
  {
   "cell_type": "markdown",
   "metadata": {},
   "source": [
    "And visualize the estimated conditional probalilty using a barplot. We clearly see that smoking is associated with a higher risk of lung cancer."
   ]
  },
  {
   "cell_type": "code",
   "execution_count": 5,
   "metadata": {},
   "outputs": [
    {
     "data": {
      "image/png": "[encoded data removed]",
      "text/plain": [
       "<Figure size 432x288 with 1 Axes>"
      ]
     },
     "metadata": {
      "needs_background": "light"
     },
     "output_type": "display_data"
    }
   ],
   "source": [
    "# barplot P(lung_cancer|smoking)\n",
    "frequencies.plot.bar(stacked=True);"
   ]
  },
  {
   "cell_type": "markdown",
   "metadata": {},
   "source": [
    "## Irrelevant feature : Born an even day\n",
    "\n",
    "In the causal graph above, \"born an even day\" is a completely irrelevant feature, that should not correlate with lung cancer. Let's compute the contingency table and check that \"born an even day\" is statistically independent of lung cancer."
   ]
  },
  {
   "cell_type": "code",
   "execution_count": 6,
   "metadata": {},
   "outputs": [
    {
     "name": "stdout",
     "output_type": "stream",
     "text": [
      "chi2 = 0.23 with p_value=6.29e-01 independent: True\n"
     ]
    },
    {
     "data": {
      "text/html": [
       "<div>\n",
       "<style scoped>\n",
       "    .dataframe tbody tr th:only-of-type {\n",
       "        vertical-align: middle;\n",
       "    }\n",
       "\n",
       "    .dataframe tbody tr th {\n",
       "        vertical-align: top;\n",
       "    }\n",
       "\n",
       "    .dataframe thead th {\n",
       "        text-align: right;\n",
       "    }\n",
       "</style>\n",
       "<table border=\"1\" class=\"dataframe\">\n",
       "  <thead>\n",
       "    <tr style=\"text-align: right;\">\n",
       "      <th>lung_cancer</th>\n",
       "      <th>0</th>\n",
       "      <th>1</th>\n",
       "    </tr>\n",
       "    <tr>\n",
       "      <th>born_an_even_day</th>\n",
       "      <th></th>\n",
       "      <th></th>\n",
       "    </tr>\n",
       "  </thead>\n",
       "  <tbody>\n",
       "    <tr>\n",
       "      <th>0</th>\n",
       "      <td>279</td>\n",
       "      <td>742</td>\n",
       "    </tr>\n",
       "    <tr>\n",
       "      <th>1</th>\n",
       "      <td>278</td>\n",
       "      <td>701</td>\n",
       "    </tr>\n",
       "  </tbody>\n",
       "</table>\n",
       "</div>"
      ],
      "text/plain": [
       "lung_cancer         0    1\n",
       "born_an_even_day          \n",
       "0                 279  742\n",
       "1                 278  701"
      ]
     },
     "execution_count": 6,
     "metadata": {},
     "output_type": "execute_result"
    }
   ],
   "source": [
    "# contingency table\n",
    "contingency = pd.crosstab(index=lucas[\"born_an_even_day\"], columns=lucas[\"lung_cancer\"])\n",
    "# independence G-test\n",
    "chi2, p_value, _, _ = chi2_contingency(contingency, lambda_=\"log-likelihood\")\n",
    "print(f\"chi2 = {chi2:.2f} with p_value={p_value:.2e} independent: {p_value > alpha}\")\n",
    "contingency"
   ]
  },
  {
   "cell_type": "markdown",
   "metadata": {},
   "source": [
    "We can also check it visually, the observed frequency of lung cancer clearly does not depend on whether the subject was born an even day or not."
   ]
  },
  {
   "cell_type": "code",
   "execution_count": 7,
   "metadata": {},
   "outputs": [
    {
     "data": {
      "image/png": "[encoded data removed]",
      "text/plain": [
       "<Figure size 432x288 with 1 Axes>"
      ]
     },
     "metadata": {
      "needs_background": "light"
     },
     "output_type": "display_data"
    }
   ],
   "source": [
    "# barplot P(lung_cancer|born_an_even_day)\n",
    "pd.crosstab(\n",
    "    index=lucas[\"born_an_even_day\"], columns=lucas[\"lung_cancer\"],\n",
    "    normalize=\"index\"\n",
    ").plot.bar(stacked=True);"
   ]
  },
  {
   "cell_type": "markdown",
   "metadata": {},
   "source": [
    "## Selection bias:  allergy\n",
    "\n",
    "Say a study was performed on patients that consulted for a cough. The data shows a clear association between allergy \n",
    "and lung cancer, and that allergy seems to lower the risk for lung cancer !"
   ]
  },
  {
   "cell_type": "code",
   "execution_count": 8,
   "metadata": {},
   "outputs": [
    {
     "data": {
      "image/png": "[encoded data removed]",
      "text/plain": [
       "<Figure size 432x288 with 1 Axes>"
      ]
     },
     "metadata": {
      "needs_background": "light"
     },
     "output_type": "display_data"
    }
   ],
   "source": [
    "# barplot P(lung_cancer|allergy) for coughing patients\n",
    "patients = lucas.query(\"coughing==1\")\n",
    "pd.crosstab(\n",
    "    index=patients[\"allergy\"], columns=patients[\"lung_cancer\"],\n",
    "    normalize=\"index\"\n",
    ").plot.bar(stacked=True, title=\"coughing patients\");"
   ]
  },
  {
   "cell_type": "markdown",
   "metadata": {},
   "source": [
    "**Exercice** Based on your knowledge of the causal graph, explain what is wrong in the reasoning above. Plot the relevant conditional probabilty to show that allergy has in fact no impact on lung cancer."
   ]
  },
  {
   "cell_type": "code",
   "execution_count": 9,
   "metadata": {},
   "outputs": [],
   "source": [
    "# %load exo1.py"
   ]
  },
  {
   "cell_type": "markdown",
   "metadata": {},
   "source": [
    "## Confounder : yellow fingers\n",
    "\n",
    "In the data there is a clear association between yellow fingers and lung cancer. Does this mean that staining fingers in yellow increases the risk of getting lung cancer ?"
   ]
  },
  {
   "cell_type": "code",
   "execution_count": 10,
   "metadata": {},
   "outputs": [
    {
     "data": {
      "image/png": "[encoded data removed]",
      "text/plain": [
       "<Figure size 432x288 with 1 Axes>"
      ]
     },
     "metadata": {
      "needs_background": "light"
     },
     "output_type": "display_data"
    }
   ],
   "source": [
    "# barplot P(lung_cancer|yellow_fingers)\n",
    "pd.crosstab(\n",
    "    index=lucas[\"yellow_fingers\"], columns=lucas[\"lung_cancer\"],\n",
    "    normalize=\"index\"\n",
    ").plot.bar(stacked=True);"
   ]
  },
  {
   "cell_type": "markdown",
   "metadata": {},
   "source": [
    "**Exercise** Based on your knowledge of the causal graph, explain what is wrong in the above reasoning. Plot the relevant conditional probabilty to show that yellow fingers has in fact no impact on lung cancer."
   ]
  },
  {
   "cell_type": "code",
   "execution_count": 11,
   "metadata": {},
   "outputs": [],
   "source": [
    "# %load exo2.py"
   ]
  },
  {
   "cell_type": "markdown",
   "metadata": {},
   "source": [
    "## Interpreting regression coefficients\n",
    "\n",
    "The Berkson's paradox (statistical association created when conditioning on a common effect)\n",
    "and the Simpson's paradox (confouding created by a hidden common cause) imply that you should be **particularly careful when interpreting regression coefficients**. In particular it is always very tempting to interpret causally the regression coefficients. For instance, when a coefficient is positive, negative or exactly zero, we often naturally interpret this as saying that the feature has a positive, negative or no impact on the target. However this interpretation is often problematic as we will illustrate below.  \n",
    "\n",
    "Let's say we train a sparse logistic regression model to predict lung cancer from all other features and plot the learned regression coefficients."
   ]
  },
  {
   "cell_type": "code",
   "execution_count": 12,
   "metadata": {},
   "outputs": [
    {
     "name": "stdout",
     "output_type": "stream",
     "text": [
      "Test accuracy: 0.8625\n"
     ]
    },
    {
     "data": {
      "image/png": "[encoded data removed]",
      "text/plain": [
       "<Figure size 432x288 with 1 Axes>"
      ]
     },
     "metadata": {
      "needs_background": "light"
     },
     "output_type": "display_data"
    }
   ],
   "source": [
    "from sklearn.linear_model import LogisticRegression\n",
    "from sklearn.preprocessing import StandardScaler\n",
    "from sklearn.model_selection import train_test_split\n",
    "\n",
    "features = [column for column in lucas.columns if column !=\"lung_cancer\"]\n",
    "X, y = lucas[features].astype(float), lucas[\"lung_cancer\"].astype(float)\n",
    "X_train, X_test, y_train, y_test = train_test_split(X, y, test_size=0.2, random_state=42)\n",
    "\n",
    "scaler = StandardScaler().fit(X_train)\n",
    "\n",
    "X_train = scaler.transform(X_train)\n",
    "X_test = scaler.transform(X_test)\n",
    "\n",
    "clf = LogisticRegression(C=0.03, penalty=\"l1\", solver=\"saga\")\n",
    "clf.fit(X_train, y_train)\n",
    "\n",
    "accuracy = clf.score(X_test, y_test)\n",
    "print(f\"Test accuracy: {accuracy}\")\n",
    "\n",
    "coefficients = pd.Series(clf.coef_[0], index=features).sort_values()\n",
    "coefficients.plot.barh(title=\"Logistic Regression Coefficients\").axvline(0, color='grey');"
   ]
  },
  {
   "cell_type": "markdown",
   "metadata": {},
   "source": [
    "We see that smoking and genetics increase the risk of lung cancer and that is also true causally. However you see that the highest regression coeffcient is the coughing feature, which is an effect and not a cause of lung cancer. This is perfectly normal : effects can be very informative on the target and important for predictive performance. For instance if the soil is wet you can predict that it has rained.\n",
    "\n",
    "We also see that allergy has a quite important negative coefficient, although allergy is not causally related to lung cancer. But remember that we predicting lung cancer as a function of all other covariates, that is we are estimating the conditional probality $P(\\text{lung_cancer}|\\text{all other features})$. In particular we are conditioning on coughing, so allergy becomes statistically associated with lung cancer and very informative for the prediction. \n",
    "\n",
    "Remember that a machine learning algorithm is fundamentally exploiting **statistical associations** between the target and the features to make a prediction. It does not matter to the algorithm that the associations are due to confounding, selection bias, or that the feature is actually a consequence (and not a cause) of the target.\n",
    "\n",
    "It is very instructive to see what happens to the regression coefficients when we change the set of covariates (features used in the regression). For example let's remove smoking from the set of features."
   ]
  },
  {
   "cell_type": "code",
   "execution_count": 13,
   "metadata": {},
   "outputs": [
    {
     "name": "stdout",
     "output_type": "stream",
     "text": [
      "Test accuracy: 0.8175\n"
     ]
    },
    {
     "data": {
      "image/png": "[encoded data removed]",
      "text/plain": [
       "<Figure size 432x288 with 1 Axes>"
      ]
     },
     "metadata": {
      "needs_background": "light"
     },
     "output_type": "display_data"
    }
   ],
   "source": [
    "features = [\n",
    "    column for column in lucas.columns \n",
    "    if column not in [\"lung_cancer\",\"smoking\"]\n",
    "]\n",
    "X, y = lucas[features].astype(float), lucas[\"lung_cancer\"].astype(float)\n",
    "X_train, X_test, y_train, y_test = train_test_split(X, y, test_size=0.2, random_state=42)\n",
    "\n",
    "scaler = StandardScaler().fit(X_train)\n",
    "\n",
    "X_train = scaler.transform(X_train)\n",
    "X_test = scaler.transform(X_test)\n",
    "\n",
    "clf = LogisticRegression(C=0.03, penalty=\"l1\", solver=\"saga\")\n",
    "clf.fit(X_train, y_train)\n",
    "\n",
    "accuracy = clf.score(X_test, y_test)\n",
    "print(f\"Test accuracy: {accuracy}\")\n",
    "\n",
    "coefficients = pd.Series(clf.coef_[0], index=features).sort_values()\n",
    "coefficients.plot.barh(title=\"Logistic Regression Coefficients\").axvline(0, color='grey');"
   ]
  },
  {
   "cell_type": "markdown",
   "metadata": {},
   "source": [
    "You see that the feature yellow fingers that had a zero coefficient in the full regression has jumped at the second place ! With the underlying causal model it is very easy to explain : in the absence of the smoking feature, yellow fingers is now statistically associated to lung cancer due to the confounding effect of smoking (now a latent variable). Yellow fingers, being a consequence of smoking, is used as a statistical proxy of smoking that is indeed very informative on the target. \n",
    "\n",
    "By the way, this example illustrates that we cannot really speak of \"the\" regression coefficient of feature X, and even less interpret it as \"the effect of X on Y\". The regression coefficient for a feature X does not only depend on the feature X, but on **the whole set of covariates**. For the yellow fingers example, when smoking was in the set of covariates the coefficient was zero and when smoking was absent the coefficient was positive and quite high. In some situations even the sign of the regression coefficient can flip when we change the set of covariates.\n",
    "\n",
    "**Exercise** Remove coughing, fatigue, and car_accident from the set of covariates. What happens to the regression coefficients ? Can you explain why ?"
   ]
  },
  {
   "cell_type": "code",
   "execution_count": 14,
   "metadata": {},
   "outputs": [],
   "source": [
    "# %load exo3.py"
   ]
  },
  {
   "cell_type": "markdown",
   "metadata": {},
   "source": [
    "## Inferring the causal structure on real sociological data\n",
    "\n",
    "To understand what factors influence the intention of high school students to attend college or not, Sewell and Shah (1968) collected the following data on a cohort of 10318 high-school students:\n",
    "\n",
    "- IQ : intellectual quotient from 0=low to 4=high\n",
    "- SES : socio-economical status from 0=low to 4=high\n",
    "- PE : parental encouragement 0=low or 1=high\n",
    "- SEX : male or female\n",
    "- college_plans : whether the student intends to attend college or not\n",
    "\n",
    "Heckerman et al (1997) used a Bayesian approach to infer the underlying causal graphical model.\n",
    "They found that the posterior probabilty over causal structures was extremely peaked, the most probable causal model has a posterior probality of almost one.\n",
    "\n",
    "**References**\n",
    "- W. Sewell and V. Shah (1968). Social Class, Parental Encouragement, and Educational Aspirations. American Journal of Sociology, Volume 73, Issue 5, 559-572.\n",
    "- D. Heckerman, C. Meek and G. Cooper (1997). A Bayesian approach to causal discovery. Technical Report MSR-TR-97-05, Microsoft Research."
   ]
  },
  {
   "cell_type": "code",
   "execution_count": 15,
   "metadata": {},
   "outputs": [
    {
     "name": "stdout",
     "output_type": "stream",
     "text": [
      "There are 10318 students\n"
     ]
    },
    {
     "data": {
      "text/html": [
       "<div>\n",
       "<style scoped>\n",
       "    .dataframe tbody tr th:only-of-type {\n",
       "        vertical-align: middle;\n",
       "    }\n",
       "\n",
       "    .dataframe tbody tr th {\n",
       "        vertical-align: top;\n",
       "    }\n",
       "\n",
       "    .dataframe thead th {\n",
       "        text-align: right;\n",
       "    }\n",
       "</style>\n",
       "<table border=\"1\" class=\"dataframe\">\n",
       "  <thead>\n",
       "    <tr style=\"text-align: right;\">\n",
       "      <th></th>\n",
       "      <th>IQ</th>\n",
       "      <th>PE</th>\n",
       "      <th>SES</th>\n",
       "      <th>SEX</th>\n",
       "      <th>college_plans</th>\n",
       "    </tr>\n",
       "  </thead>\n",
       "  <tbody>\n",
       "    <tr>\n",
       "      <th>0</th>\n",
       "      <td>3</td>\n",
       "      <td>1</td>\n",
       "      <td>2</td>\n",
       "      <td>female</td>\n",
       "      <td>yes</td>\n",
       "    </tr>\n",
       "    <tr>\n",
       "      <th>1</th>\n",
       "      <td>1</td>\n",
       "      <td>0</td>\n",
       "      <td>1</td>\n",
       "      <td>male</td>\n",
       "      <td>no</td>\n",
       "    </tr>\n",
       "    <tr>\n",
       "      <th>2</th>\n",
       "      <td>3</td>\n",
       "      <td>1</td>\n",
       "      <td>3</td>\n",
       "      <td>male</td>\n",
       "      <td>yes</td>\n",
       "    </tr>\n",
       "    <tr>\n",
       "      <th>3</th>\n",
       "      <td>2</td>\n",
       "      <td>0</td>\n",
       "      <td>1</td>\n",
       "      <td>male</td>\n",
       "      <td>no</td>\n",
       "    </tr>\n",
       "    <tr>\n",
       "      <th>4</th>\n",
       "      <td>3</td>\n",
       "      <td>0</td>\n",
       "      <td>1</td>\n",
       "      <td>female</td>\n",
       "      <td>no</td>\n",
       "    </tr>\n",
       "  </tbody>\n",
       "</table>\n",
       "</div>"
      ],
      "text/plain": [
       "   IQ  PE  SES     SEX college_plans\n",
       "0   3   1    2  female           yes\n",
       "1   1   0    1    male            no\n",
       "2   3   1    3    male           yes\n",
       "3   2   0    1    male            no\n",
       "4   3   0    1  female            no"
      ]
     },
     "execution_count": 15,
     "metadata": {},
     "output_type": "execute_result"
    }
   ],
   "source": [
    "import pandas as pd\n",
    "students = pd.read_csv(\"data/student_college_plans.csv\")\n",
    "print(\"There are\", students.shape[0], \"students\")\n",
    "students.head()"
   ]
  },
  {
   "cell_type": "markdown",
   "metadata": {},
   "source": [
    "For instance we might expect that IQ should have a positive causal effect on attending college. Is the data compatible with this causal claim ? If so, there should be a statistical dependence of college plans upond IQ.\n",
    "\n",
    "Indeed, there is a clear relationship between IQ and college plans. Note that this not by itself a proof, as there could be confounding factors.\n"
   ]
  },
  {
   "cell_type": "code",
   "execution_count": 16,
   "metadata": {},
   "outputs": [
    {
     "name": "stdout",
     "output_type": "stream",
     "text": [
      "chi2 = 1560.24 with p_value=0.00e+00 independent: False\n"
     ]
    },
    {
     "data": {
      "image/png": "[encoded data removed]",
      "text/plain": [
       "<Figure size 432x288 with 1 Axes>"
      ]
     },
     "metadata": {
      "needs_background": "light"
     },
     "output_type": "display_data"
    }
   ],
   "source": [
    "# contingency table\n",
    "contingency = pd.crosstab(index=students[\"IQ\"], columns=students[\"college_plans\"])\n",
    "# independence G-test\n",
    "chi2, p_value, _, _ = chi2_contingency(contingency, lambda_=\"log-likelihood\")\n",
    "print(f\"chi2 = {chi2:.2f} with p_value={p_value:.2e} independent: {p_value > alpha}\")\n",
    "# barplot P(college_plans|IQ)\n",
    "pd.crosstab(\n",
    "    index=students[\"IQ\"], columns=students[\"college_plans\"], \n",
    "    normalize=\"index\"\n",
    ").plot.bar(stacked=True);"
   ]
  },
  {
   "cell_type": "markdown",
   "metadata": {},
   "source": [
    "**Exercise** which of the following causal claims is compatible with the data ?\n",
    "\n",
    "1. SEX $\\rightarrow$ college_plans $\\leftarrow$ PE\n",
    "2. SEX $\\rightarrow$ PE $\\rightarrow$ college_plans"
   ]
  },
  {
   "cell_type": "code",
   "execution_count": 17,
   "metadata": {},
   "outputs": [],
   "source": [
    "# %load exo4.py"
   ]
  },
  {
   "cell_type": "markdown",
   "metadata": {},
   "source": [
    "## Complete causal model\n",
    "\n",
    "By exploring all conditional independence relationships satisfied by the data it is possible to recover the underlying causal graphical structure, up to what is called Markov equivalence. Two directed acyclic graphs (causal models) are Markov equivalent if they share the same undirected skeleton and the same set of v-structures (stuctures of the type $X\\rightarrow Y \\leftarrow Z$). \n",
    "\n",
    "This learning task, inferring the causal structure from data, is called **causal discovery**. There are many algorithms to perform causal discovery. Using Bayesian inference, Heckerman et al (1997) found that the following DAG structure had overwhelming posterior probabilty for the college plans data:\n",
    "\n",
    "<img width=\"30%\" src=\"img/college_plans_dag.png\">\n",
    "\n",
    "The **PC algorithm** (named after Peter Spirtes and Clark Glymour) is a classic algorithm to perform causal discovery. Using the PC algorithm from the [TETRAD software](http://www.phil.cmu.edu/tetrad/index.html), you will obtain the following causal structure for the LUCAS dataset:\n",
    "\n",
    "<img width=\"30%\" src=\"img/pc_lucas_dag.png\">\n",
    "\n",
    "Except for the fatigue $\\rightarrow$ lung cancer arrow, the estimated causal structure is correct!\n",
    "For the college plans dataset, the causal structure estimated by the PC algorithm is very close to the DAG inferred\n",
    "by Heckerman et al:\n",
    "\n",
    "\n",
    "<img width=\"30%\" src=\"img/pc_college_plans_dag.png\">\n",
    "\n",
    "\n",
    ">This is an important take home message: sure the mantra **correlation does not imply causation** is correct, but it is incomplete! The good news is **from a set of correlations, you can infer causation**.\n",
    "\n",
    "## Further resources\n",
    "\n",
    "[Advanced Data Analysis from an Elementary Point of View](https://www.stat.cmu.edu/~cshalizi/ADAfaEPoV/) by Cosma Shalizi. Part III is a self-contained and very clear introduction to causal inference.\n",
    "\n",
    "The [TETRAD software](http://www.phil.cmu.edu/tetrad/index.html) contains many state-of-the-art causal inference algorithms (both for causal discovery and intervention prediction).\n",
    "\n",
    "The python package [dowhy](https://causalinference.gitlab.io/dowhy/) is also dedicated to causal inference. "
   ]
  },
  {
   "cell_type": "code",
   "execution_count": null,
   "metadata": {},
   "outputs": [],
   "source": []
  }
 ],
 "metadata": {
  "kernelspec": {
   "display_name": "Python 3",
   "language": "python",
   "name": "python3"
  },
  "language_info": {
   "codemirror_mode": {
    "name": "ipython",
    "version": 3
   },
   "file_extension": ".py",
   "mimetype": "text/x-python",
   "name": "python",
   "nbconvert_exporter": "python",
   "pygments_lexer": "ipython3",
   "version": "3.7.3"
  },
  "toc": {
   "base_numbering": 1,
   "nav_menu": {},
   "number_sections": true,
   "sideBar": true,
   "skip_h1_title": false,
   "title_cell": "Table of Contents",
   "title_sidebar": "Contents",
   "toc_cell": false,
   "toc_position": {},
   "toc_section_display": true,
   "toc_window_display": false
  }
 },
 "nbformat": 4,
 "nbformat_minor": 2
}
