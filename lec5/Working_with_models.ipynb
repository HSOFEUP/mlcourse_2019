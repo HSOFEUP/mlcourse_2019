{
 "cells": [
  {
   "cell_type": "markdown",
   "metadata": {
    "slideshow": {
     "slide_type": "slide"
    }
   },
   "source": [
    "# Working with models"
   ]
  },
  {
   "cell_type": "markdown",
   "metadata": {
    "slideshow": {
     "slide_type": "slide"
    }
   },
   "source": [
    "# Pitfalls of statistics"
   ]
  },
  {
   "cell_type": "markdown",
   "metadata": {
    "slideshow": {
     "slide_type": "slide"
    }
   },
   "source": [
    "## Spurious correlation\n",
    "\n",
    "<img width=\"90%\" src=\"img/spurious.png\">\n",
    "\n",
    "**Reference** http://tylervigen.com/spurious-correlations"
   ]
  },
  {
   "cell_type": "markdown",
   "metadata": {
    "slideshow": {
     "slide_type": "slide"
    }
   },
   "source": [
    "## Spurious correlation\n",
    "\n",
    "<img width=\"90%\" src=\"img/spurious2.png\">\n",
    "\n",
    "**Reference** http://tylervigen.com/spurious-correlations"
   ]
  },
  {
   "cell_type": "markdown",
   "metadata": {
    "slideshow": {
     "slide_type": "slide"
    }
   },
   "source": [
    "## Data dredging, aka p-hacking\n",
    "\n",
    "<br>\n",
    "<img width=\"80%\" src=\"img/p_hacking.png\">\n",
    "\n",
    "**Reference** https://projects.fivethirtyeight.com/p-hacking/"
   ]
  },
  {
   "cell_type": "markdown",
   "metadata": {
    "slideshow": {
     "slide_type": "slide"
    }
   },
   "source": [
    "## Data dredging, aka p-hacking\n",
    "\n",
    "<br>\n",
    "<img width=\"65%\" src=\"img/republicans.png\">\n",
    "\n",
    "**Reference** https://projects.fivethirtyeight.com/p-hacking/"
   ]
  },
  {
   "cell_type": "markdown",
   "metadata": {
    "slideshow": {
     "slide_type": "slide"
    }
   },
   "source": [
    "## Data dredging, aka p-hacking\n",
    "\n",
    "<br>\n",
    "<img width=\"65%\" src=\"img/democrats.png\">\n",
    "\n",
    "**Reference** https://projects.fivethirtyeight.com/p-hacking/"
   ]
  },
  {
   "cell_type": "markdown",
   "metadata": {
    "slideshow": {
     "slide_type": "slide"
    }
   },
   "source": [
    "## Data dredging, aka p-hacking\n",
    "\n",
    "Remedies \n",
    "\n",
    "- randomized out-of-sample tests.\n",
    "- statistical tests designed for confirmatory analysis, not exploratory analysis !"
   ]
  },
  {
   "cell_type": "markdown",
   "metadata": {
    "slideshow": {
     "slide_type": "slide"
    }
   },
   "source": [
    "## Correlation does not imply causation\n",
    "\n",
    "For a statistical association $X \\not\\perp Y$, the underlying causal mechanism can be:\n",
    "- $X \\rightarrow Y$\n",
    "- $X \\leftarrow Y$\n",
    "- $X \\leftarrow Z \\rightarrow Y$"
   ]
  },
  {
   "cell_type": "markdown",
   "metadata": {
    "slideshow": {
     "slide_type": "slide"
    }
   },
   "source": [
    "# Causal inference"
   ]
  },
  {
   "cell_type": "markdown",
   "metadata": {
    "slideshow": {
     "slide_type": "slide"
    }
   },
   "source": [
    "## Confounders \n",
    "\n",
    "- $X \\leftarrow Z \\rightarrow Y$ implies $X\\not\\perp Y$ and $X \\perp Y \\mid Z$\n",
    "- statistical association created by a **common cause**\n",
    "- Sleeping with one's shoes on is strongly correlated with waking up with a headache.\n",
    "- As ice cream sales increase, the rate of drowning deaths increases sharply."
   ]
  },
  {
   "cell_type": "markdown",
   "metadata": {
    "slideshow": {
     "slide_type": "slide"
    }
   },
   "source": [
    "## Simpson's paradox\n",
    "\n",
    "Kidney stone Treatment : is A (surgery) more effective than B (puncture) ?\n",
    "\n",
    "<img width=\"50%\" src=\"img/simpson_paradox.png\" style=\"display:inline\"> <img width=\"40%\" src=\"img/stone_treatment_dag.png\" style=\"display:inline\" >"
   ]
  },
  {
   "cell_type": "markdown",
   "metadata": {
    "slideshow": {
     "slide_type": "slide"
    }
   },
   "source": [
    "## Explaining away\n",
    "\n",
    "- $X \\rightarrow Z \\leftarrow Y$ implies $X\\perp Y$ and $X \\not\\perp Y \\mid Z$\n",
    "- statistical association created by **conditioning on a common effect**\n"
   ]
  },
  {
   "cell_type": "markdown",
   "metadata": {
    "slideshow": {
     "slide_type": "slide"
    }
   },
   "source": [
    "## Berkson's paradox\n",
    "\n",
    "Hospital in-patient population\n",
    "- negative correlation between flu and diabetes\n",
    "\n",
    "General population\n",
    "- actually no association between flu and diabetes"
   ]
  },
  {
   "cell_type": "markdown",
   "metadata": {
    "slideshow": {
     "slide_type": "slide"
    }
   },
   "source": [
    "## Berkson's paradox\n",
    "\n",
    "Example of selection bias (here hospital patients):\n",
    "- flu $\\rightarrow$ hospital $\\leftarrow$ diabetes\n",
    "- flu $\\perp$ diabetes but flu $\\not\\perp$ diabetes $\\mid$ hospital"
   ]
  },
  {
   "cell_type": "markdown",
   "metadata": {
    "slideshow": {
     "slide_type": "slide"
    }
   },
   "source": [
    "## Graphical causal model\n",
    "\n",
    "<img width=\"30%\" src=\"img/original_dag.png\" style=\"align:center\"> \n",
    "\n",
    "**Causal graph** $P(ZYXCW) = P(Z|XY)P(Y|XC)P(X|WC)P(W)P(C)$  "
   ]
  },
  {
   "cell_type": "markdown",
   "metadata": {
    "slideshow": {
     "slide_type": "slide"
    }
   },
   "source": [
    "## Intervention\n",
    "\n",
    "\n",
    "<img width=\"30%\" src=\"img/do_X_dag.png\" style=\"align:center\"> \n",
    "\n",
    "**Manipulated graph** $P(ZYCW|do(X)) = P(Z|XY)P(Y|XC)P(W)P(C)$"
   ]
  },
  {
   "cell_type": "markdown",
   "metadata": {
    "slideshow": {
     "slide_type": "slide"
    }
   },
   "source": [
    "## Predicting the results of actions\n",
    "\n",
    "Manipulated do(X) graph\n",
    "\n",
    "$$P(ZYCW | do(X)) = P(Z|XY)P(Y|XC)P(W)P(C)$$\n",
    "\n",
    "\n",
    "Causal effect of $X$ on $Y$  \n",
    "\n",
    "$$P(Y\\mid do(X)) = \\sum_{C}  P(Y|XC) P(C)$$ "
   ]
  },
  {
   "cell_type": "markdown",
   "metadata": {
    "slideshow": {
     "slide_type": "slide"
    }
   },
   "source": [
    "## And machine learning in all that ?\n",
    "\n",
    "- unsupervised learning : estimate $P(C)$\n",
    "- supervised learning : estimate $P(Y\\mid XC)$\n",
    "\n",
    "With causal calculus : estimate $P(Y\\mid do(X)) = \\sum_{C}  P(Y|XC) P(C)$"
   ]
  },
  {
   "cell_type": "markdown",
   "metadata": {
    "slideshow": {
     "slide_type": "slide"
    }
   },
   "source": [
    "## Passive observation vs active intervention\n",
    "\n",
    "<img width=\"80%\" src=\"img/proba_vs_causal.png\" style=\"align:center\"> \n",
    "\n",
    "In general $P(Y\\mid X) \\neq P(Y\\mid do(X))$"
   ]
  },
  {
   "cell_type": "markdown",
   "metadata": {
    "slideshow": {
     "slide_type": "slide"
    }
   },
   "source": [
    "## Infer causal structure from data\n",
    "\n",
    "<img width=\"70%\" src=\"img/CI_MAP.png\" style=\"align:center\"> "
   ]
  },
  {
   "cell_type": "markdown",
   "metadata": {
    "slideshow": {
     "slide_type": "slide"
    }
   },
   "source": [
    "## Causal discovery\n",
    "\n",
    "PC algorithm (Peter Spirtes, Clark Glymour)\n",
    "- list all conditional independencies in data\n",
    "- find all consistent graphical models"
   ]
  },
  {
   "cell_type": "markdown",
   "metadata": {
    "slideshow": {
     "slide_type": "slide"
    }
   },
   "source": [
    "# Pitfalls of ML"
   ]
  },
  {
   "cell_type": "markdown",
   "metadata": {
    "slideshow": {
     "slide_type": "slide"
    }
   },
   "source": [
    "## Model bias / overfitting\n",
    "\n",
    "- Reduce bias \n",
    "    - more features\n",
    "    - increase model complexity, reduce regularization \n",
    "- Reduce variance \n",
    "    - more data\n",
    "    - decrease model complexity, increase regularization "
   ]
  },
  {
   "cell_type": "markdown",
   "metadata": {
    "slideshow": {
     "slide_type": "slide"
    }
   },
   "source": [
    "## Validation\n",
    "\n",
    "- **golden rule** never use the test set during training\n",
    "- often tricky to build a good test and validation sets, eg time-series\n",
    "- difficulty with unsupervised models"
   ]
  },
  {
   "cell_type": "markdown",
   "metadata": {
    "slideshow": {
     "slide_type": "slide"
    }
   },
   "source": [
    "## Target leakage\n",
    "\n",
    "If you are model is too good you should be supsicious !\n",
    "\n",
    "- information about the target leaked into the features\n",
    "- present in the training data but not available at test time\n",
    "\n",
    "**Example** fraud detection, feature = last service that emailed the client  "
   ]
  },
  {
   "cell_type": "markdown",
   "metadata": {
    "slideshow": {
     "slide_type": "slide"
    }
   },
   "source": [
    "## Covariate shift\n",
    "\n",
    "- predict $y$ from $x$ \n",
    "- but $ P_{test}(x)\\neq P_{train}(x)$\n",
    "\n",
    "**Example** image classification, ImageNet different from today images (Instagram filters, selfies...)"
   ]
  },
  {
   "cell_type": "markdown",
   "metadata": {
    "slideshow": {
     "slide_type": "slide"
    }
   },
   "source": [
    "## Covariate shift\n",
    "\n",
    "Remedies\n",
    "- reweight samples according to test/train likelihood ratio\n",
    "- can approximate this ratio by Bayes rule + test/train classifier\n",
    "\n",
    "**References** [Sugiyama et al, 2007](http://www.jmlr.org/papers/volume8/sugiyama07a/sugiyama07a.pdf) [Bickel et al, 2009](http://www.jmlr.org/papers/volume10/bickel09a/bickel09a.pdf)"
   ]
  },
  {
   "cell_type": "markdown",
   "metadata": {
    "slideshow": {
     "slide_type": "slide"
    }
   },
   "source": [
    "## Covariate shift\n",
    "\n",
    "<img width=\"45%\" src=\"img/covariate_shift.png\" style=\"display:inline\"> <img width=\"45%\" src=\"img/covariate_shift2.png\" style=\"display:inline\">\n",
    "\n",
    "**Reference** [Sugiyama et al, 2007](http://www.jmlr.org/papers/volume8/sugiyama07a/sugiyama07a.pdf)"
   ]
  },
  {
   "cell_type": "markdown",
   "metadata": {
    "slideshow": {
     "slide_type": "slide"
    }
   },
   "source": [
    "## Adversarial examples\n",
    "\n",
    "<img width=\"80%\" src=\"img/adversarial.png\">\n",
    "\n",
    "**Reference** [Goodfellow et al 2015](https://arxiv.org/abs/1412.6572)"
   ]
  },
  {
   "cell_type": "markdown",
   "metadata": {
    "slideshow": {
     "slide_type": "slide"
    }
   },
   "source": [
    "## Importance of interpretation\n",
    "\n",
    "- predict pneunomia risk vs patient attributes\n",
    "- should asthmatic patients really be considered at lower risk ???\n",
    "<img width=\"100%\" src=\"img/asthma.png\">\n",
    "\n",
    "**Reference** [Caruana et al, 2015](http://people.dbmi.columbia.edu/noemie/papers/15kdd.pdf)"
   ]
  },
  {
   "cell_type": "markdown",
   "metadata": {
    "slideshow": {
     "slide_type": "slide"
    }
   },
   "source": [
    "## Interpretation / performance tradeoff\n",
    "\n",
    "<br>\n",
    "<img width=\"50%\" src=\"img/interpretation.png\">"
   ]
  },
  {
   "cell_type": "markdown",
   "metadata": {
    "slideshow": {
     "slide_type": "slide"
    }
   },
   "source": [
    "## Understanding ConvNets\n",
    "\n",
    "Retrieve images that maximally activate a neuron [Girshick et al, 2014](https://arxiv.org/abs/1311.2524)\n",
    "<img width=\"80%\" src=\"img/understand_convnet.png\">"
   ]
  },
  {
   "cell_type": "markdown",
   "metadata": {
    "slideshow": {
     "slide_type": "slide"
    }
   },
   "source": [
    "## Explanations using a local linear approximation\n",
    "\n",
    "<img width=\"50%\" src=\"img/lime.png\">\n",
    "\n",
    "**Reference** [Ribiero et al 2016](https://www.kdd.org/kdd2016/papers/files/rfp0573-ribeiroA.pdf)"
   ]
  },
  {
   "cell_type": "markdown",
   "metadata": {
    "slideshow": {
     "slide_type": "slide"
    }
   },
   "source": [
    "## References\n",
    "\n",
    "Causal inference\n",
    "- [Advanced data analysis from an elementary point of view](https://www.stat.cmu.edu/~cshalizi/ADAfaEPoV/), C. Shalizi\n",
    "\n",
    "Interpretation of models\n",
    "- http://cs231n.github.io/understanding-cnn/\n",
    "- https://blog.datadive.net/interpreting-random-forests/"
   ]
  }
 ],
 "metadata": {
  "celltoolbar": "Diaporama",
  "kernelspec": {
   "display_name": "Python 3",
   "language": "python",
   "name": "python3"
  },
  "language_info": {
   "codemirror_mode": {
    "name": "ipython",
    "version": 3
   },
   "file_extension": ".py",
   "mimetype": "text/x-python",
   "name": "python",
   "nbconvert_exporter": "python",
   "pygments_lexer": "ipython3",
   "version": "3.7.3"
  },
  "toc": {
   "base_numbering": 1,
   "nav_menu": {
    "height": "305px",
    "width": "160px"
   },
   "number_sections": false,
   "sideBar": true,
   "skip_h1_title": false,
   "title_cell": "Table of Contents",
   "title_sidebar": "Contents",
   "toc_cell": false,
   "toc_position": {},
   "toc_section_display": true,
   "toc_window_display": false
  }
 },
 "nbformat": 4,
 "nbformat_minor": 2
}
