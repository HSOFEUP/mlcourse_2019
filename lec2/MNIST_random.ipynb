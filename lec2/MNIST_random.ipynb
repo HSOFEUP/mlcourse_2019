{
 "cells": [
  {
   "cell_type": "markdown",
   "metadata": {},
   "source": [
    "## MNIST classification with random projections"
   ]
  },
  {
   "cell_type": "code",
   "execution_count": 1,
   "metadata": {},
   "outputs": [],
   "source": [
    "import matplotlib\n",
    "import numpy as np\n",
    "import matplotlib.pyplot as plt\n",
    "%matplotlib inline "
   ]
  },
  {
   "cell_type": "markdown",
   "metadata": {},
   "source": [
    "First, we download the data. Mnist is so classic that it is already implemented in Keras. Let us see how data looks like"
   ]
  },
  {
   "cell_type": "code",
   "execution_count": 2,
   "metadata": {},
   "outputs": [
    {
     "name": "stdout",
     "output_type": "stream",
     "text": [
      "n_features=784\n",
      "n_samples=70000 n_train=56000 n_test=14000\n",
      "X_train: (56000, 784) y_train: (56000,)\n",
      "X_test : (14000, 784) y_test : (14000,)\n"
     ]
    },
    {
     "data": {
      "image/png": "[encoded data removed]",
      "text/plain": [
       "<matplotlib.figure.Figure at 0x11284f278>"
      ]
     },
     "metadata": {},
     "output_type": "display_data"
    }
   ],
   "source": [
    "# get data\n",
    "from sklearn.datasets import fetch_mldata\n",
    "from sklearn.model_selection import train_test_split\n",
    "mnist = fetch_mldata(\"MNIST original\", data_home=\"../lec1\")\n",
    "X, y = mnist.data, mnist.target\n",
    "# Preprocess\n",
    "X = X / 255.\n",
    "# split between train and test sets\n",
    "X_train, X_test, y_train, y_test = train_test_split(X, y, test_size = 0.2)\n",
    "n_samples, n_features = X.shape\n",
    "n_train, n_test = X_train.shape[0], X_test.shape[0]\n",
    "print(f\"n_features={n_features}\")\n",
    "print(f\"n_samples={n_samples} n_train={n_train} n_test={n_test}\")\n",
    "print(f\"X_train: {X_train.shape} y_train: {y_train.shape}\")\n",
    "print(f\"X_test : {X_test.shape} y_test : {y_test.shape}\")\n",
    "\n",
    "# Plot a sample\n",
    "width = int(np.sqrt(n_features))\n",
    "plt.imshow(X[10, :].reshape(width, width), cmap=\"gray\");"
   ]
  },
  {
   "cell_type": "markdown",
   "metadata": {},
   "source": [
    "MNIST is probably not easy to classify in direct space we shall not even try. Instead, we will try to go into a large dimensional space using random projection followed by a non linearity. Let us see how it works with $5000$ random projection followed by a function $\\rm{erf}$. First we create the random matrix:"
   ]
  },
  {
   "cell_type": "code",
   "execution_count": 3,
   "metadata": {},
   "outputs": [
    {
     "name": "stdout",
     "output_type": "stream",
     "text": [
      "Y_train: (56000, 10)\n",
      "sample 0: y_train=2.0 Y_train=[ 0.  0.  1.  0.  0.  0.  0.  0.  0.  0.]\n",
      "sample 1: y_train=4.0 Y_train=[ 0.  0.  0.  0.  1.  0.  0.  0.  0.  0.]\n",
      "sample 2: y_train=7.0 Y_train=[ 0.  0.  0.  0.  0.  0.  0.  1.  0.  0.]\n"
     ]
    }
   ],
   "source": [
    "# one hot encoding of target \n",
    "from sklearn.preprocessing import OneHotEncoder\n",
    "encoder = OneHotEncoder(sparse=False)\n",
    "Y_train = encoder.fit_transform(y_train.reshape(-1,1))\n",
    "print(f\"Y_train: {Y_train.shape}\")\n",
    "\n",
    "for s in range(3):\n",
    "    print(f\"sample {s}: y_train={y_train[s]} Y_train={Y_train[s]}\")"
   ]
  },
  {
   "cell_type": "code",
   "execution_count": 4,
   "metadata": {},
   "outputs": [
    {
     "name": "stdout",
     "output_type": "stream",
     "text": [
      "A_train: (56000, 5000)\n"
     ]
    }
   ],
   "source": [
    "from scipy.special import erf\n",
    "\n",
    "# random projection\n",
    "n_projections = 5000\n",
    "F = np.random.randn(n_features, n_projections)/ np.sqrt(n_features)\n",
    "# random feature map\n",
    "A_train = erf(X_train @ F)\n",
    "print(f\"A_train: {A_train.shape}\")"
   ]
  },
  {
   "cell_type": "markdown",
   "metadata": {},
   "source": [
    "Now, we want to perform a linear regression in the random features space of $A$. If we perform a simple regression, we have a model where we want to predict label by $Y=A \\theta$. The  solution is obtained by writing \n",
    "$$\\theta=(A^T A)^{-1} A^T Y$$\n",
    "We thus create the correlation matrix $C=A^T A$ and the projection matrix $P=A^T Y$"
   ]
  },
  {
   "cell_type": "code",
   "execution_count": 5,
   "metadata": {},
   "outputs": [],
   "source": [
    "C = A_train.T @ A_train\n",
    "P = A_train.T @ Y_train"
   ]
  },
  {
   "cell_type": "markdown",
   "metadata": {},
   "source": [
    "and we compute the coefficient $\\theta$ by solving the linear system:"
   ]
  },
  {
   "cell_type": "code",
   "execution_count": 6,
   "metadata": {},
   "outputs": [
    {
     "name": "stdout",
     "output_type": "stream",
     "text": [
      "theta: (5000, 10)\n"
     ]
    }
   ],
   "source": [
    "theta = np.linalg.lstsq(C, P)[0]\n",
    "print(f\"theta: {theta.shape}\")"
   ]
  },
  {
   "cell_type": "markdown",
   "metadata": {},
   "source": [
    "Now that this is done, we can try to make a prediction for the elements of the test set. First, we need again to perform the projection for these digits:"
   ]
  },
  {
   "cell_type": "code",
   "execution_count": 7,
   "metadata": {},
   "outputs": [
    {
     "name": "stdout",
     "output_type": "stream",
     "text": [
      "A_test: (14000, 5000)\n"
     ]
    }
   ],
   "source": [
    "# random feature map on test set\n",
    "A_test = erf(X_test @ F)\n",
    "print(f\"A_test: {A_test.shape}\")"
   ]
  },
  {
   "cell_type": "markdown",
   "metadata": {},
   "source": [
    "and we apply our linear prediction in features space"
   ]
  },
  {
   "cell_type": "code",
   "execution_count": 8,
   "metadata": {},
   "outputs": [
    {
     "name": "stdout",
     "output_type": "stream",
     "text": [
      "Y_pred: (14000, 10)\n"
     ]
    }
   ],
   "source": [
    "Y_pred = A_test @ theta\n",
    "print(f\"Y_pred: {Y_pred.shape}\")"
   ]
  },
  {
   "cell_type": "markdown",
   "metadata": {},
   "source": [
    "For each of the $10000$ digits, we now have a prediction saying how likely it belongs to the each of the $10$ classes. In order to choose the class, we gonna use the one that returns the largest elements:"
   ]
  },
  {
   "cell_type": "code",
   "execution_count": 9,
   "metadata": {},
   "outputs": [
    {
     "name": "stdout",
     "output_type": "stream",
     "text": [
      "y_pred: [1 5 0 ..., 6 0 8]\n",
      "Fraction of correct prediction is: 0.9655\n"
     ]
    }
   ],
   "source": [
    "y_pred = np.argmax(Y_pred, axis=1)\n",
    "print(f\"y_pred: {y_pred}\")\n",
    "accuracy = np.mean(y_pred == y_test)\n",
    "print(\"Fraction of correct prediction is:\", accuracy)"
   ]
  },
  {
   "cell_type": "markdown",
   "metadata": {},
   "source": [
    "This is not bad for a such a simple code. Beside, it is easy to go beyond to 98% with this approach by incerasing the number of projections, and playing with a regularization term."
   ]
  },
  {
   "cell_type": "code",
   "execution_count": null,
   "metadata": {},
   "outputs": [],
   "source": []
  }
 ],
 "metadata": {
  "hide_input": false,
  "kernelspec": {
   "display_name": "Python 3",
   "language": "python",
   "name": "python3"
  },
  "language_info": {
   "codemirror_mode": {
    "name": "ipython",
    "version": 3
   },
   "file_extension": ".py",
   "mimetype": "text/x-python",
   "name": "python",
   "nbconvert_exporter": "python",
   "pygments_lexer": "ipython3",
   "version": "3.6.4"
  },
  "toc": {
   "base_numbering": 1,
   "nav_menu": {},
   "number_sections": true,
   "sideBar": true,
   "skip_h1_title": false,
   "title_cell": "Table of Contents",
   "title_sidebar": "Contents",
   "toc_cell": false,
   "toc_position": {},
   "toc_section_display": true,
   "toc_window_display": false
  }
 },
 "nbformat": 4,
 "nbformat_minor": 2
}
